{
 "cells": [
  {
   "cell_type": "code",
   "execution_count": 2,
   "id": "10a2c0ac-89e7-4238-9bfc-2298d1415469",
   "metadata": {},
   "outputs": [],
   "source": [
    "import random"
   ]
  },
  {
   "cell_type": "code",
   "execution_count": 6,
   "id": "8a7e1b65-bf56-4d03-a0f3-e4c7bafb7787",
   "metadata": {},
   "outputs": [
    {
     "data": {
      "text/plain": [
       "1"
      ]
     },
     "execution_count": 6,
     "metadata": {},
     "output_type": "execute_result"
    }
   ],
   "source": [
    "random.randint(0,1)"
   ]
  },
  {
   "cell_type": "code",
   "execution_count": 15,
   "id": "1dd12a11-e0dd-4b61-ae94-6412360bc964",
   "metadata": {},
   "outputs": [
    {
     "name": "stderr",
     "output_type": "stream",
     "text": [
      "  1%|          | 1/100 [00:29<48:56, 29.66s/it]"
     ]
    },
    {
     "name": "stdout",
     "output_type": "stream",
     "text": [
      "epoch 0, total_loss = 9.765478134155273, positive_loss=1.955880880355835, negative_loss=7.809597969055176\n"
     ]
    },
    {
     "name": "stderr",
     "output_type": "stream",
     "text": [
      "  2%|▏         | 2/100 [01:14<1:03:14, 38.72s/it]"
     ]
    },
    {
     "name": "stdout",
     "output_type": "stream",
     "text": [
      "epoch 1, total_loss = 9.991711616516113, positive_loss=0.909105122089386, negative_loss=9.082606315612793\n"
     ]
    },
    {
     "name": "stderr",
     "output_type": "stream",
     "text": [
      "  3%|▎         | 3/100 [01:51<1:01:07, 37.81s/it]"
     ]
    },
    {
     "name": "stdout",
     "output_type": "stream",
     "text": [
      "epoch 2, total_loss = 10.036269187927246, positive_loss=0.7745513319969177, negative_loss=9.261717796325684\n"
     ]
    },
    {
     "name": "stderr",
     "output_type": "stream",
     "text": [
      "  4%|▍         | 4/100 [02:17<53:12, 33.25s/it]  "
     ]
    },
    {
     "name": "stdout",
     "output_type": "stream",
     "text": [
      "epoch 3, total_loss = 10.05072021484375, positive_loss=0.8527214527130127, negative_loss=9.197998046875\n"
     ]
    },
    {
     "name": "stderr",
     "output_type": "stream",
     "text": [
      "  5%|▌         | 5/100 [02:55<55:30, 35.06s/it]"
     ]
    },
    {
     "name": "stdout",
     "output_type": "stream",
     "text": [
      "epoch 4, total_loss = 10.111296653747559, positive_loss=0.9150593876838684, negative_loss=9.196237564086914\n"
     ]
    },
    {
     "name": "stderr",
     "output_type": "stream",
     "text": [
      "  6%|▌         | 6/100 [03:24<51:40, 32.98s/it]"
     ]
    },
    {
     "name": "stdout",
     "output_type": "stream",
     "text": [
      "epoch 5, total_loss = 9.860124588012695, positive_loss=0.6872315406799316, negative_loss=9.172892570495605\n"
     ]
    },
    {
     "name": "stderr",
     "output_type": "stream",
     "text": [
      "  7%|▋         | 7/100 [03:45<44:47, 28.90s/it]"
     ]
    },
    {
     "name": "stdout",
     "output_type": "stream",
     "text": [
      "epoch 6, total_loss = 9.82371997833252, positive_loss=0.7168018221855164, negative_loss=9.106918334960938\n"
     ]
    },
    {
     "name": "stderr",
     "output_type": "stream",
     "text": [
      "  8%|▊         | 8/100 [04:13<43:54, 28.63s/it]"
     ]
    },
    {
     "name": "stdout",
     "output_type": "stream",
     "text": [
      "epoch 7, total_loss = 9.973915100097656, positive_loss=1.0775036811828613, negative_loss=8.896410942077637\n"
     ]
    },
    {
     "name": "stderr",
     "output_type": "stream",
     "text": [
      "  9%|▉         | 9/100 [04:33<39:22, 25.97s/it]"
     ]
    },
    {
     "name": "stdout",
     "output_type": "stream",
     "text": [
      "epoch 8, total_loss = 10.291508674621582, positive_loss=1.4745317697525024, negative_loss=8.816978454589844\n"
     ]
    },
    {
     "name": "stderr",
     "output_type": "stream",
     "text": [
      " 10%|█         | 10/100 [04:54<36:40, 24.45s/it]"
     ]
    },
    {
     "name": "stdout",
     "output_type": "stream",
     "text": [
      "epoch 9, total_loss = 9.527695655822754, positive_loss=0.7674909830093384, negative_loss=8.760204315185547\n"
     ]
    },
    {
     "name": "stderr",
     "output_type": "stream",
     "text": [
      " 11%|█         | 11/100 [05:14<34:11, 23.05s/it]"
     ]
    },
    {
     "name": "stdout",
     "output_type": "stream",
     "text": [
      "epoch 10, total_loss = 10.207425117492676, positive_loss=1.477401852607727, negative_loss=8.730024337768555\n"
     ]
    },
    {
     "name": "stderr",
     "output_type": "stream",
     "text": [
      " 12%|█▏        | 12/100 [05:46<37:49, 25.79s/it]"
     ]
    },
    {
     "name": "stdout",
     "output_type": "stream",
     "text": [
      "epoch 11, total_loss = 9.907143592834473, positive_loss=0.9735210537910461, negative_loss=8.933623313903809\n"
     ]
    },
    {
     "name": "stderr",
     "output_type": "stream",
     "text": [
      " 13%|█▎        | 13/100 [06:17<39:30, 27.24s/it]"
     ]
    },
    {
     "name": "stdout",
     "output_type": "stream",
     "text": [
      "epoch 12, total_loss = 9.90869140625, positive_loss=1.3468055725097656, negative_loss=8.561885833740234\n"
     ]
    },
    {
     "name": "stderr",
     "output_type": "stream",
     "text": [
      " 14%|█▍        | 14/100 [07:05<47:58, 33.48s/it]"
     ]
    },
    {
     "name": "stdout",
     "output_type": "stream",
     "text": [
      "epoch 13, total_loss = 10.422125816345215, positive_loss=1.5343904495239258, negative_loss=8.887735366821289\n"
     ]
    },
    {
     "name": "stderr",
     "output_type": "stream",
     "text": [
      " 15%|█▌        | 15/100 [07:35<46:20, 32.71s/it]"
     ]
    },
    {
     "name": "stdout",
     "output_type": "stream",
     "text": [
      "epoch 14, total_loss = 9.854358673095703, positive_loss=1.1349126100540161, negative_loss=8.719446182250977\n"
     ]
    },
    {
     "name": "stderr",
     "output_type": "stream",
     "text": [
      " 16%|█▌        | 16/100 [08:19<50:14, 35.88s/it]"
     ]
    },
    {
     "name": "stdout",
     "output_type": "stream",
     "text": [
      "epoch 15, total_loss = 9.562171936035156, positive_loss=0.8962910175323486, negative_loss=8.665881156921387\n"
     ]
    },
    {
     "name": "stderr",
     "output_type": "stream",
     "text": [
      " 17%|█▋        | 17/100 [08:39<43:17, 31.29s/it]"
     ]
    },
    {
     "name": "stdout",
     "output_type": "stream",
     "text": [
      "epoch 16, total_loss = 10.479333877563477, positive_loss=1.6190016269683838, negative_loss=8.860333442687988\n"
     ]
    },
    {
     "name": "stderr",
     "output_type": "stream",
     "text": [
      " 18%|█▊        | 18/100 [09:17<45:22, 33.20s/it]"
     ]
    },
    {
     "name": "stdout",
     "output_type": "stream",
     "text": [
      "epoch 17, total_loss = 10.08957290649414, positive_loss=1.2196393013000488, negative_loss=8.869933128356934\n"
     ]
    },
    {
     "name": "stderr",
     "output_type": "stream",
     "text": [
      " 19%|█▉        | 19/100 [10:01<49:07, 36.39s/it]"
     ]
    },
    {
     "name": "stdout",
     "output_type": "stream",
     "text": [
      "epoch 18, total_loss = 9.960058212280273, positive_loss=0.9583728909492493, negative_loss=9.00168514251709\n"
     ]
    },
    {
     "name": "stderr",
     "output_type": "stream",
     "text": [
      " 20%|██        | 20/100 [10:35<47:27, 35.59s/it]"
     ]
    },
    {
     "name": "stdout",
     "output_type": "stream",
     "text": [
      "epoch 19, total_loss = 10.123719215393066, positive_loss=0.8975179195404053, negative_loss=9.226201057434082\n"
     ]
    },
    {
     "name": "stderr",
     "output_type": "stream",
     "text": [
      " 21%|██        | 21/100 [11:17<49:39, 37.72s/it]"
     ]
    },
    {
     "name": "stdout",
     "output_type": "stream",
     "text": [
      "epoch 20, total_loss = 9.73196029663086, positive_loss=0.648766815662384, negative_loss=9.083192825317383\n"
     ]
    },
    {
     "name": "stderr",
     "output_type": "stream",
     "text": [
      " 22%|██▏       | 22/100 [11:41<43:34, 33.52s/it]"
     ]
    },
    {
     "name": "stdout",
     "output_type": "stream",
     "text": [
      "epoch 21, total_loss = 9.923090934753418, positive_loss=0.87028968334198, negative_loss=9.052802085876465\n"
     ]
    },
    {
     "name": "stderr",
     "output_type": "stream",
     "text": [
      " 23%|██▎       | 23/100 [12:14<42:40, 33.25s/it]"
     ]
    },
    {
     "name": "stdout",
     "output_type": "stream",
     "text": [
      "epoch 22, total_loss = 9.75145435333252, positive_loss=0.7798110842704773, negative_loss=8.971643447875977\n"
     ]
    },
    {
     "name": "stderr",
     "output_type": "stream",
     "text": [
      " 24%|██▍       | 24/100 [12:43<40:30, 31.98s/it]"
     ]
    },
    {
     "name": "stdout",
     "output_type": "stream",
     "text": [
      "epoch 23, total_loss = 9.904597282409668, positive_loss=1.3348655700683594, negative_loss=8.569731712341309\n"
     ]
    },
    {
     "name": "stderr",
     "output_type": "stream",
     "text": [
      " 25%|██▌       | 25/100 [13:16<40:40, 32.55s/it]"
     ]
    },
    {
     "name": "stdout",
     "output_type": "stream",
     "text": [
      "epoch 24, total_loss = 10.272981643676758, positive_loss=1.837212085723877, negative_loss=8.435769081115723\n"
     ]
    },
    {
     "name": "stderr",
     "output_type": "stream",
     "text": [
      " 26%|██▌       | 26/100 [13:45<38:36, 31.31s/it]"
     ]
    },
    {
     "name": "stdout",
     "output_type": "stream",
     "text": [
      "epoch 25, total_loss = 9.36237621307373, positive_loss=1.228906273841858, negative_loss=8.13347053527832\n"
     ]
    },
    {
     "name": "stderr",
     "output_type": "stream",
     "text": [
      " 27%|██▋       | 27/100 [14:26<41:43, 34.29s/it]"
     ]
    },
    {
     "name": "stdout",
     "output_type": "stream",
     "text": [
      "epoch 26, total_loss = 9.90313720703125, positive_loss=1.8255164623260498, negative_loss=8.077619552612305\n"
     ]
    },
    {
     "name": "stderr",
     "output_type": "stream",
     "text": [
      " 28%|██▊       | 28/100 [15:06<43:10, 35.99s/it]"
     ]
    },
    {
     "name": "stdout",
     "output_type": "stream",
     "text": [
      "epoch 27, total_loss = 9.996944427490234, positive_loss=1.8759899139404297, negative_loss=8.120953559875488\n"
     ]
    },
    {
     "name": "stderr",
     "output_type": "stream",
     "text": [
      " 29%|██▉       | 29/100 [15:51<45:42, 38.62s/it]"
     ]
    },
    {
     "name": "stdout",
     "output_type": "stream",
     "text": [
      "epoch 28, total_loss = 9.9068603515625, positive_loss=1.6430704593658447, negative_loss=8.263790130615234\n"
     ]
    },
    {
     "name": "stderr",
     "output_type": "stream",
     "text": [
      " 30%|███       | 30/100 [16:19<41:30, 35.58s/it]"
     ]
    },
    {
     "name": "stdout",
     "output_type": "stream",
     "text": [
      "epoch 29, total_loss = 9.762310028076172, positive_loss=1.9543862342834473, negative_loss=7.807923316955566\n"
     ]
    },
    {
     "name": "stderr",
     "output_type": "stream",
     "text": [
      " 31%|███       | 31/100 [16:54<40:43, 35.41s/it]"
     ]
    },
    {
     "name": "stdout",
     "output_type": "stream",
     "text": [
      "epoch 30, total_loss = 10.1756010055542, positive_loss=2.3325533866882324, negative_loss=7.843047618865967\n"
     ]
    },
    {
     "name": "stderr",
     "output_type": "stream",
     "text": [
      " 32%|███▏      | 32/100 [17:25<38:21, 33.84s/it]"
     ]
    },
    {
     "name": "stdout",
     "output_type": "stream",
     "text": [
      "epoch 31, total_loss = 10.736655235290527, positive_loss=2.2217235565185547, negative_loss=8.514932632446289\n"
     ]
    },
    {
     "name": "stderr",
     "output_type": "stream",
     "text": [
      " 33%|███▎      | 33/100 [17:57<37:16, 33.38s/it]"
     ]
    },
    {
     "name": "stdout",
     "output_type": "stream",
     "text": [
      "epoch 32, total_loss = 10.045766830444336, positive_loss=1.4029927253723145, negative_loss=8.64277458190918\n"
     ]
    },
    {
     "name": "stderr",
     "output_type": "stream",
     "text": [
      " 34%|███▍      | 34/100 [18:25<34:54, 31.73s/it]"
     ]
    },
    {
     "name": "stdout",
     "output_type": "stream",
     "text": [
      "epoch 33, total_loss = 10.030675888061523, positive_loss=0.943376362323761, negative_loss=9.087300300598145\n"
     ]
    },
    {
     "name": "stderr",
     "output_type": "stream",
     "text": [
      " 35%|███▌      | 35/100 [19:01<35:45, 33.01s/it]"
     ]
    },
    {
     "name": "stdout",
     "output_type": "stream",
     "text": [
      "epoch 34, total_loss = 10.008641242980957, positive_loss=0.9542731046676636, negative_loss=9.05436897277832\n"
     ]
    },
    {
     "name": "stderr",
     "output_type": "stream",
     "text": [
      " 36%|███▌      | 36/100 [19:41<37:37, 35.27s/it]"
     ]
    },
    {
     "name": "stdout",
     "output_type": "stream",
     "text": [
      "epoch 35, total_loss = 9.926060676574707, positive_loss=0.9364352226257324, negative_loss=8.989624977111816\n"
     ]
    },
    {
     "name": "stderr",
     "output_type": "stream",
     "text": [
      " 37%|███▋      | 37/100 [20:20<38:04, 36.27s/it]"
     ]
    },
    {
     "name": "stdout",
     "output_type": "stream",
     "text": [
      "epoch 36, total_loss = 10.096346855163574, positive_loss=1.113301157951355, negative_loss=8.98304557800293\n"
     ]
    },
    {
     "name": "stderr",
     "output_type": "stream",
     "text": [
      " 38%|███▊      | 38/100 [20:55<37:07, 35.93s/it]"
     ]
    },
    {
     "name": "stdout",
     "output_type": "stream",
     "text": [
      "epoch 37, total_loss = 10.105643272399902, positive_loss=1.1622865200042725, negative_loss=8.94335651397705\n"
     ]
    },
    {
     "name": "stderr",
     "output_type": "stream",
     "text": [
      " 39%|███▉      | 39/100 [21:19<33:00, 32.47s/it]"
     ]
    },
    {
     "name": "stdout",
     "output_type": "stream",
     "text": [
      "epoch 38, total_loss = 9.969008445739746, positive_loss=1.1175777912139893, negative_loss=8.851430892944336\n"
     ]
    },
    {
     "name": "stderr",
     "output_type": "stream",
     "text": [
      " 40%|████      | 40/100 [21:54<33:07, 33.13s/it]"
     ]
    },
    {
     "name": "stdout",
     "output_type": "stream",
     "text": [
      "epoch 39, total_loss = 10.177654266357422, positive_loss=0.8787994980812073, negative_loss=9.298853874206543\n"
     ]
    },
    {
     "name": "stderr",
     "output_type": "stream",
     "text": [
      " 41%|████      | 41/100 [22:33<34:16, 34.85s/it]"
     ]
    },
    {
     "name": "stdout",
     "output_type": "stream",
     "text": [
      "epoch 40, total_loss = 10.230685234069824, positive_loss=0.9212992787361145, negative_loss=9.309386253356934\n"
     ]
    },
    {
     "name": "stderr",
     "output_type": "stream",
     "text": [
      " 42%|████▏     | 42/100 [23:19<36:53, 38.16s/it]"
     ]
    },
    {
     "name": "stdout",
     "output_type": "stream",
     "text": [
      "epoch 41, total_loss = 10.129859924316406, positive_loss=0.9857286810874939, negative_loss=9.144131660461426\n"
     ]
    },
    {
     "name": "stderr",
     "output_type": "stream",
     "text": [
      " 43%|████▎     | 43/100 [23:50<34:21, 36.17s/it]"
     ]
    },
    {
     "name": "stdout",
     "output_type": "stream",
     "text": [
      "epoch 42, total_loss = 10.079265594482422, positive_loss=0.8121647238731384, negative_loss=9.26710033416748\n"
     ]
    },
    {
     "name": "stderr",
     "output_type": "stream",
     "text": [
      " 44%|████▍     | 44/100 [24:22<32:29, 34.80s/it]"
     ]
    },
    {
     "name": "stdout",
     "output_type": "stream",
     "text": [
      "epoch 43, total_loss = 10.056851387023926, positive_loss=0.6578059792518616, negative_loss=9.399044036865234\n"
     ]
    },
    {
     "name": "stderr",
     "output_type": "stream",
     "text": [
      " 45%|████▌     | 45/100 [24:46<29:00, 31.64s/it]"
     ]
    },
    {
     "name": "stdout",
     "output_type": "stream",
     "text": [
      "epoch 44, total_loss = 9.859491348266602, positive_loss=0.5568234920501709, negative_loss=9.302667617797852\n"
     ]
    },
    {
     "name": "stderr",
     "output_type": "stream",
     "text": [
      " 46%|████▌     | 46/100 [25:29<31:21, 34.85s/it]"
     ]
    },
    {
     "name": "stdout",
     "output_type": "stream",
     "text": [
      "epoch 45, total_loss = 10.140728950500488, positive_loss=0.8078699111938477, negative_loss=9.332858085632324\n"
     ]
    },
    {
     "name": "stderr",
     "output_type": "stream",
     "text": [
      " 47%|████▋     | 47/100 [25:53<28:06, 31.81s/it]"
     ]
    },
    {
     "name": "stdout",
     "output_type": "stream",
     "text": [
      "epoch 46, total_loss = 9.92306137084961, positive_loss=0.6142794489860535, negative_loss=9.308782577514648\n"
     ]
    },
    {
     "name": "stderr",
     "output_type": "stream",
     "text": [
      " 48%|████▊     | 48/100 [26:19<26:06, 30.12s/it]"
     ]
    },
    {
     "name": "stdout",
     "output_type": "stream",
     "text": [
      "epoch 47, total_loss = 10.07082462310791, positive_loss=0.698799729347229, negative_loss=9.372024536132812\n"
     ]
    },
    {
     "name": "stderr",
     "output_type": "stream",
     "text": [
      " 49%|████▉     | 49/100 [27:08<30:13, 35.56s/it]"
     ]
    },
    {
     "name": "stdout",
     "output_type": "stream",
     "text": [
      "epoch 48, total_loss = 10.138479232788086, positive_loss=0.7586435079574585, negative_loss=9.37983512878418\n"
     ]
    },
    {
     "name": "stderr",
     "output_type": "stream",
     "text": [
      " 50%|█████     | 50/100 [27:43<29:29, 35.38s/it]"
     ]
    },
    {
     "name": "stdout",
     "output_type": "stream",
     "text": [
      "epoch 49, total_loss = 9.763067245483398, positive_loss=0.45913201570510864, negative_loss=9.303935050964355\n"
     ]
    },
    {
     "name": "stderr",
     "output_type": "stream",
     "text": [
      " 51%|█████     | 51/100 [28:12<27:32, 33.72s/it]"
     ]
    },
    {
     "name": "stdout",
     "output_type": "stream",
     "text": [
      "epoch 50, total_loss = 10.008379936218262, positive_loss=0.659389078617096, negative_loss=9.348991394042969\n"
     ]
    },
    {
     "name": "stderr",
     "output_type": "stream",
     "text": [
      " 52%|█████▏    | 52/100 [28:41<25:39, 32.08s/it]"
     ]
    },
    {
     "name": "stdout",
     "output_type": "stream",
     "text": [
      "epoch 51, total_loss = 10.001784324645996, positive_loss=0.6761290431022644, negative_loss=9.325654983520508\n"
     ]
    },
    {
     "name": "stderr",
     "output_type": "stream",
     "text": [
      " 53%|█████▎    | 53/100 [29:09<24:13, 30.93s/it]"
     ]
    },
    {
     "name": "stdout",
     "output_type": "stream",
     "text": [
      "epoch 52, total_loss = 10.064445495605469, positive_loss=0.731377124786377, negative_loss=9.33306884765625\n"
     ]
    },
    {
     "name": "stderr",
     "output_type": "stream",
     "text": [
      " 54%|█████▍    | 54/100 [29:30<21:27, 27.99s/it]"
     ]
    },
    {
     "name": "stdout",
     "output_type": "stream",
     "text": [
      "epoch 53, total_loss = 10.046882629394531, positive_loss=0.6697633862495422, negative_loss=9.377119064331055\n"
     ]
    },
    {
     "name": "stderr",
     "output_type": "stream",
     "text": [
      " 55%|█████▌    | 55/100 [30:00<21:27, 28.62s/it]"
     ]
    },
    {
     "name": "stdout",
     "output_type": "stream",
     "text": [
      "epoch 54, total_loss = 9.769587516784668, positive_loss=0.5919573903083801, negative_loss=9.177629470825195\n"
     ]
    },
    {
     "name": "stderr",
     "output_type": "stream",
     "text": [
      " 56%|█████▌    | 56/100 [30:45<24:31, 33.44s/it]"
     ]
    },
    {
     "name": "stdout",
     "output_type": "stream",
     "text": [
      "epoch 55, total_loss = 9.991462707519531, positive_loss=0.6457355618476868, negative_loss=9.345727920532227\n"
     ]
    },
    {
     "name": "stderr",
     "output_type": "stream",
     "text": [
      " 57%|█████▋    | 57/100 [31:16<23:31, 32.82s/it]"
     ]
    },
    {
     "name": "stdout",
     "output_type": "stream",
     "text": [
      "epoch 56, total_loss = 10.230408668518066, positive_loss=1.0005515813827515, negative_loss=9.229857444763184\n"
     ]
    },
    {
     "name": "stderr",
     "output_type": "stream",
     "text": [
      " 58%|█████▊    | 58/100 [31:40<21:05, 30.13s/it]"
     ]
    },
    {
     "name": "stdout",
     "output_type": "stream",
     "text": [
      "epoch 57, total_loss = 9.992525100708008, positive_loss=0.8968310356140137, negative_loss=9.095694541931152\n"
     ]
    },
    {
     "name": "stderr",
     "output_type": "stream",
     "text": [
      " 59%|█████▉    | 59/100 [32:08<20:11, 29.55s/it]"
     ]
    },
    {
     "name": "stdout",
     "output_type": "stream",
     "text": [
      "epoch 58, total_loss = 10.014881134033203, positive_loss=0.7910708785057068, negative_loss=9.223811149597168\n"
     ]
    },
    {
     "name": "stderr",
     "output_type": "stream",
     "text": [
      " 60%|██████    | 60/100 [32:36<19:14, 28.86s/it]"
     ]
    },
    {
     "name": "stdout",
     "output_type": "stream",
     "text": [
      "epoch 59, total_loss = 9.73122787475586, positive_loss=0.6943768858909607, negative_loss=9.03685188293457\n"
     ]
    },
    {
     "name": "stderr",
     "output_type": "stream",
     "text": [
      " 61%|██████    | 61/100 [33:12<20:16, 31.20s/it]"
     ]
    },
    {
     "name": "stdout",
     "output_type": "stream",
     "text": [
      "epoch 60, total_loss = 10.15886116027832, positive_loss=0.8799186944961548, negative_loss=9.27894401550293\n"
     ]
    },
    {
     "name": "stderr",
     "output_type": "stream",
     "text": [
      " 62%|██████▏   | 62/100 [33:44<19:51, 31.37s/it]"
     ]
    },
    {
     "name": "stdout",
     "output_type": "stream",
     "text": [
      "epoch 61, total_loss = 10.25406551361084, positive_loss=0.9711173176765442, negative_loss=9.28294849395752\n"
     ]
    },
    {
     "name": "stderr",
     "output_type": "stream",
     "text": [
      " 63%|██████▎   | 63/100 [34:12<18:43, 30.36s/it]"
     ]
    },
    {
     "name": "stdout",
     "output_type": "stream",
     "text": [
      "epoch 62, total_loss = 9.815234184265137, positive_loss=0.570046603679657, negative_loss=9.245186805725098\n"
     ]
    },
    {
     "name": "stderr",
     "output_type": "stream",
     "text": [
      " 64%|██████▍   | 64/100 [34:50<19:32, 32.56s/it]"
     ]
    },
    {
     "name": "stdout",
     "output_type": "stream",
     "text": [
      "epoch 63, total_loss = 10.029375076293945, positive_loss=0.7504948973655701, negative_loss=9.27888011932373\n"
     ]
    },
    {
     "name": "stderr",
     "output_type": "stream",
     "text": [
      " 65%|██████▌   | 65/100 [35:30<20:20, 34.86s/it]"
     ]
    },
    {
     "name": "stdout",
     "output_type": "stream",
     "text": [
      "epoch 64, total_loss = 10.023303985595703, positive_loss=0.7972689867019653, negative_loss=9.226035118103027\n"
     ]
    },
    {
     "name": "stderr",
     "output_type": "stream",
     "text": [
      " 66%|██████▌   | 66/100 [36:01<19:04, 33.66s/it]"
     ]
    },
    {
     "name": "stdout",
     "output_type": "stream",
     "text": [
      "epoch 65, total_loss = 10.145477294921875, positive_loss=0.8737534880638123, negative_loss=9.271723747253418\n"
     ]
    },
    {
     "name": "stderr",
     "output_type": "stream",
     "text": [
      " 67%|██████▋   | 67/100 [36:37<18:57, 34.48s/it]"
     ]
    },
    {
     "name": "stdout",
     "output_type": "stream",
     "text": [
      "epoch 66, total_loss = 10.246594429016113, positive_loss=0.7959969639778137, negative_loss=9.450596809387207\n"
     ]
    },
    {
     "name": "stderr",
     "output_type": "stream",
     "text": [
      " 68%|██████▊   | 68/100 [37:09<17:53, 33.54s/it]"
     ]
    },
    {
     "name": "stdout",
     "output_type": "stream",
     "text": [
      "epoch 67, total_loss = 10.258415222167969, positive_loss=0.7410628795623779, negative_loss=9.517353057861328\n"
     ]
    },
    {
     "name": "stderr",
     "output_type": "stream",
     "text": [
      " 69%|██████▉   | 69/100 [37:40<17:00, 32.91s/it]"
     ]
    },
    {
     "name": "stdout",
     "output_type": "stream",
     "text": [
      "epoch 68, total_loss = 10.023998260498047, positive_loss=0.5281602144241333, negative_loss=9.495837211608887\n"
     ]
    },
    {
     "name": "stderr",
     "output_type": "stream",
     "text": [
      " 70%|███████   | 70/100 [38:14<16:40, 33.34s/it]"
     ]
    },
    {
     "name": "stdout",
     "output_type": "stream",
     "text": [
      "epoch 69, total_loss = 10.025615692138672, positive_loss=0.6033011674880981, negative_loss=9.422314643859863\n"
     ]
    },
    {
     "name": "stderr",
     "output_type": "stream",
     "text": [
      " 71%|███████   | 71/100 [38:48<16:12, 33.54s/it]"
     ]
    },
    {
     "name": "stdout",
     "output_type": "stream",
     "text": [
      "epoch 70, total_loss = 9.878172874450684, positive_loss=0.5557454228401184, negative_loss=9.322427749633789\n"
     ]
    },
    {
     "name": "stderr",
     "output_type": "stream",
     "text": [
      " 72%|███████▏  | 72/100 [39:15<14:40, 31.43s/it]"
     ]
    },
    {
     "name": "stdout",
     "output_type": "stream",
     "text": [
      "epoch 71, total_loss = 9.999794006347656, positive_loss=0.5950425267219543, negative_loss=9.404752731323242\n"
     ]
    },
    {
     "name": "stderr",
     "output_type": "stream",
     "text": [
      " 73%|███████▎  | 73/100 [39:46<14:04, 31.26s/it]"
     ]
    },
    {
     "name": "stdout",
     "output_type": "stream",
     "text": [
      "epoch 72, total_loss = 9.703399658203125, positive_loss=0.6225212216377258, negative_loss=9.080878257751465\n"
     ]
    },
    {
     "name": "stderr",
     "output_type": "stream",
     "text": [
      " 74%|███████▍  | 74/100 [40:14<13:09, 30.37s/it]"
     ]
    },
    {
     "name": "stdout",
     "output_type": "stream",
     "text": [
      "epoch 73, total_loss = 9.965731620788574, positive_loss=0.7251943945884705, negative_loss=9.240537643432617\n"
     ]
    },
    {
     "name": "stderr",
     "output_type": "stream",
     "text": [
      " 75%|███████▌  | 75/100 [41:01<14:41, 35.26s/it]"
     ]
    },
    {
     "name": "stdout",
     "output_type": "stream",
     "text": [
      "epoch 74, total_loss = 9.823226928710938, positive_loss=0.6667380928993225, negative_loss=9.156490325927734\n"
     ]
    },
    {
     "name": "stderr",
     "output_type": "stream",
     "text": [
      " 76%|███████▌  | 76/100 [41:28<13:07, 32.81s/it]"
     ]
    },
    {
     "name": "stdout",
     "output_type": "stream",
     "text": [
      "epoch 75, total_loss = 10.221319198608398, positive_loss=0.9532566070556641, negative_loss=9.268061637878418\n"
     ]
    },
    {
     "name": "stderr",
     "output_type": "stream",
     "text": [
      " 77%|███████▋  | 77/100 [42:06<13:12, 34.47s/it]"
     ]
    },
    {
     "name": "stdout",
     "output_type": "stream",
     "text": [
      "epoch 76, total_loss = 9.87081527709961, positive_loss=0.6409161686897278, negative_loss=9.229898452758789\n"
     ]
    },
    {
     "name": "stderr",
     "output_type": "stream",
     "text": [
      " 78%|███████▊  | 78/100 [42:35<12:04, 32.95s/it]"
     ]
    },
    {
     "name": "stdout",
     "output_type": "stream",
     "text": [
      "epoch 77, total_loss = 9.985701560974121, positive_loss=0.9373392462730408, negative_loss=9.048362731933594\n"
     ]
    },
    {
     "name": "stderr",
     "output_type": "stream",
     "text": [
      " 79%|███████▉  | 79/100 [42:58<10:23, 29.70s/it]"
     ]
    },
    {
     "name": "stdout",
     "output_type": "stream",
     "text": [
      "epoch 78, total_loss = 10.266124725341797, positive_loss=1.1454520225524902, negative_loss=9.120673179626465\n"
     ]
    },
    {
     "name": "stderr",
     "output_type": "stream",
     "text": [
      " 80%|████████  | 80/100 [43:25<09:38, 28.94s/it]"
     ]
    },
    {
     "name": "stdout",
     "output_type": "stream",
     "text": [
      "epoch 79, total_loss = 10.007695198059082, positive_loss=0.7362687587738037, negative_loss=9.2714262008667\n"
     ]
    },
    {
     "name": "stderr",
     "output_type": "stream",
     "text": [
      " 81%|████████  | 81/100 [43:54<09:12, 29.08s/it]"
     ]
    },
    {
     "name": "stdout",
     "output_type": "stream",
     "text": [
      "epoch 80, total_loss = 9.657286643981934, positive_loss=0.5194666385650635, negative_loss=9.137821197509766\n"
     ]
    },
    {
     "name": "stderr",
     "output_type": "stream",
     "text": [
      " 82%|████████▏ | 82/100 [44:17<08:07, 27.10s/it]"
     ]
    },
    {
     "name": "stdout",
     "output_type": "stream",
     "text": [
      "epoch 81, total_loss = 10.12302303314209, positive_loss=0.9432259202003479, negative_loss=9.17979621887207\n"
     ]
    },
    {
     "name": "stderr",
     "output_type": "stream",
     "text": [
      " 83%|████████▎ | 83/100 [44:46<07:52, 27.78s/it]"
     ]
    },
    {
     "name": "stdout",
     "output_type": "stream",
     "text": [
      "epoch 82, total_loss = 10.030447006225586, positive_loss=0.8660263419151306, negative_loss=9.164420127868652\n"
     ]
    },
    {
     "name": "stderr",
     "output_type": "stream",
     "text": [
      " 84%|████████▍ | 84/100 [45:24<08:12, 30.77s/it]"
     ]
    },
    {
     "name": "stdout",
     "output_type": "stream",
     "text": [
      "epoch 83, total_loss = 10.143115997314453, positive_loss=0.972436785697937, negative_loss=9.17067813873291\n"
     ]
    },
    {
     "name": "stderr",
     "output_type": "stream",
     "text": [
      " 85%|████████▌ | 85/100 [45:51<07:24, 29.60s/it]"
     ]
    },
    {
     "name": "stdout",
     "output_type": "stream",
     "text": [
      "epoch 84, total_loss = 10.069536209106445, positive_loss=0.732607901096344, negative_loss=9.33692741394043\n"
     ]
    },
    {
     "name": "stderr",
     "output_type": "stream",
     "text": [
      " 86%|████████▌ | 86/100 [46:33<07:47, 33.37s/it]"
     ]
    },
    {
     "name": "stdout",
     "output_type": "stream",
     "text": [
      "epoch 85, total_loss = 10.04139232635498, positive_loss=0.687279224395752, negative_loss=9.35411262512207\n"
     ]
    },
    {
     "name": "stderr",
     "output_type": "stream",
     "text": [
      " 87%|████████▋ | 87/100 [47:13<07:40, 35.40s/it]"
     ]
    },
    {
     "name": "stdout",
     "output_type": "stream",
     "text": [
      "epoch 86, total_loss = 9.872136116027832, positive_loss=0.6293161511421204, negative_loss=9.242819786071777\n"
     ]
    },
    {
     "name": "stderr",
     "output_type": "stream",
     "text": [
      " 88%|████████▊ | 88/100 [47:41<06:37, 33.15s/it]"
     ]
    },
    {
     "name": "stdout",
     "output_type": "stream",
     "text": [
      "epoch 87, total_loss = 9.908158302307129, positive_loss=0.6578977704048157, negative_loss=9.250260353088379\n"
     ]
    },
    {
     "name": "stderr",
     "output_type": "stream",
     "text": [
      " 89%|████████▉ | 89/100 [48:28<06:50, 37.30s/it]"
     ]
    },
    {
     "name": "stdout",
     "output_type": "stream",
     "text": [
      "epoch 88, total_loss = 9.797934532165527, positive_loss=0.8519198894500732, negative_loss=8.946014404296875\n"
     ]
    },
    {
     "name": "stderr",
     "output_type": "stream",
     "text": [
      " 90%|█████████ | 90/100 [49:07<06:18, 37.80s/it]"
     ]
    },
    {
     "name": "stdout",
     "output_type": "stream",
     "text": [
      "epoch 89, total_loss = 9.488954544067383, positive_loss=0.7038882970809937, negative_loss=8.785065650939941\n"
     ]
    },
    {
     "name": "stderr",
     "output_type": "stream",
     "text": [
      " 91%|█████████ | 91/100 [49:48<05:48, 38.73s/it]"
     ]
    },
    {
     "name": "stdout",
     "output_type": "stream",
     "text": [
      "epoch 90, total_loss = 9.992889404296875, positive_loss=1.1598186492919922, negative_loss=8.833070755004883\n"
     ]
    },
    {
     "name": "stderr",
     "output_type": "stream",
     "text": [
      " 92%|█████████▏| 92/100 [50:25<05:05, 38.20s/it]"
     ]
    },
    {
     "name": "stdout",
     "output_type": "stream",
     "text": [
      "epoch 91, total_loss = 10.139299392700195, positive_loss=1.7539961338043213, negative_loss=8.385303497314453\n"
     ]
    },
    {
     "name": "stderr",
     "output_type": "stream",
     "text": [
      " 93%|█████████▎| 93/100 [50:47<03:53, 33.38s/it]"
     ]
    },
    {
     "name": "stdout",
     "output_type": "stream",
     "text": [
      "epoch 92, total_loss = 10.16330623626709, positive_loss=1.4689990282058716, negative_loss=8.694308280944824\n"
     ]
    },
    {
     "name": "stderr",
     "output_type": "stream",
     "text": [
      " 94%|█████████▍| 94/100 [51:24<03:26, 34.41s/it]"
     ]
    },
    {
     "name": "stdout",
     "output_type": "stream",
     "text": [
      "epoch 93, total_loss = 9.842035293579102, positive_loss=1.1714255809783936, negative_loss=8.670609474182129\n"
     ]
    },
    {
     "name": "stderr",
     "output_type": "stream",
     "text": [
      " 95%|█████████▌| 95/100 [52:06<03:04, 36.81s/it]"
     ]
    },
    {
     "name": "stdout",
     "output_type": "stream",
     "text": [
      "epoch 94, total_loss = 9.812698364257812, positive_loss=0.9325664043426514, negative_loss=8.880131721496582\n"
     ]
    },
    {
     "name": "stderr",
     "output_type": "stream",
     "text": [
      " 96%|█████████▌| 96/100 [52:29<02:10, 32.72s/it]"
     ]
    },
    {
     "name": "stdout",
     "output_type": "stream",
     "text": [
      "epoch 95, total_loss = 10.02900505065918, positive_loss=1.3257591724395752, negative_loss=8.703246116638184\n"
     ]
    },
    {
     "name": "stderr",
     "output_type": "stream",
     "text": [
      " 97%|█████████▋| 97/100 [52:59<01:35, 31.79s/it]"
     ]
    },
    {
     "name": "stdout",
     "output_type": "stream",
     "text": [
      "epoch 96, total_loss = 9.685909271240234, positive_loss=1.1189465522766113, negative_loss=8.566963195800781\n"
     ]
    },
    {
     "name": "stderr",
     "output_type": "stream",
     "text": [
      " 98%|█████████▊| 98/100 [53:22<00:58, 29.30s/it]"
     ]
    },
    {
     "name": "stdout",
     "output_type": "stream",
     "text": [
      "epoch 97, total_loss = 10.054903984069824, positive_loss=1.3790786266326904, negative_loss=8.675825119018555\n"
     ]
    },
    {
     "name": "stderr",
     "output_type": "stream",
     "text": [
      " 99%|█████████▉| 99/100 [54:03<00:32, 32.85s/it]"
     ]
    },
    {
     "name": "stdout",
     "output_type": "stream",
     "text": [
      "epoch 98, total_loss = 9.379240989685059, positive_loss=1.528064250946045, negative_loss=7.851176738739014\n"
     ]
    },
    {
     "name": "stderr",
     "output_type": "stream",
     "text": [
      "100%|██████████| 100/100 [54:32<00:00, 32.73s/it]"
     ]
    },
    {
     "name": "stdout",
     "output_type": "stream",
     "text": [
      "epoch 99, total_loss = 9.87901496887207, positive_loss=2.3960258960723877, negative_loss=7.482988357543945\n"
     ]
    },
    {
     "name": "stderr",
     "output_type": "stream",
     "text": [
      "\n"
     ]
    }
   ],
   "source": [
    "from tqdm import tqdm\n",
    "\n",
    "def train(tb_logger = None, log_image_interval = 10):\n",
    "    if torch.cuda.is_available():\n",
    "        device = torch.device(\"cuda\")\n",
    "    else:\n",
    "        device = torch.device(\"cpu\")\n",
    "        \n",
    "    loss=[] \n",
    "    counter=[]\n",
    "    with gp.build(pipeline_paired), gp.build(pipeline_unpaired):\n",
    "        for epoch in tqdm(range(epochs)):\n",
    "            epoch_loss = 0\n",
    "            epoch_loss_pos = 0\n",
    "            epoch_loss_neg = 0\n",
    "            for x in range(16):\n",
    "                    \n",
    "                isPair = random.randint(0,1)\n",
    "                \n",
    "                if(isPair == 1):\n",
    "                    pair = pipeline_unpaired.request_batch(request)\n",
    "                    y = -1\n",
    "                    unpaired1 = unpaired[raw].data[:,:,:,:]\n",
    "                    unpaired2 = unpaired[raw_shift].data[:,:,:,:]\n",
    "                    unpaired1 = np.reshape(unpaired1, (1,64, 64, 5))\n",
    "                    unpaired2 = np.reshape(unpaired2, (1,64, 64, 5))\n",
    "                    unpaired1 = np.expand_dims(unpaired1, axis =0)\n",
    "                    unpaired2 = np.expand_dims(unpaired2, axis=0)\n",
    "                    vol1 = torch.from_numpy(unpaired1).to(device).float()\n",
    "                    vol2 = torch.from_numpy(unpaired2).to(device).float()\n",
    "                else:\n",
    "                    pair = pipeline_paired.request_batch(request)\n",
    "                    y = 1\n",
    "                    paired1 = paired[raw].data[:,:,:,:]\n",
    "                    paired2 = paired[raw_shift].data[:,:,:,:]\n",
    "                    paired1 = np.reshape(paired1, (1,64, 64, 5))\n",
    "                    paired2 = np.reshape(paired2, (1,64, 64, 5))\n",
    "                    paired1 = np.expand_dims(paired1, axis =0)\n",
    "                    paired2 = np.expand_dims(paired2, axis=0)\n",
    "                    vol1 = torch.from_numpy(paired1).to(device).float()\n",
    "                    vol2 = torch.from_numpy(paired2).to(device).float() \n",
    "\n",
    "\n",
    "                y = torch.from_numpy(np.array([y])).to(device).float()\n",
    "                \n",
    "                optimizer.zero_grad()\n",
    "                \n",
    "                pred1 = model(vol1)\n",
    "                pred2 = model(vol2)\n",
    "\n",
    "                loss = loss_function(pred1,pred2,yu)\n",
    "\n",
    "                loss.backward()\n",
    "                optimizer.step()    \n",
    "                epoch_loss += loss\n",
    "                \n",
    "                if tb_logger is not None:\n",
    "                    step = epoch * 10 + x\n",
    "                    tb_logger.add_scalar(\n",
    "                        tag=\"positive_loss\", scalar_value=epoch_loss_pos.item(), global_step=step\n",
    "                    )\n",
    "                    tb_logger.add_scalar(\n",
    "                        tag=\"negative_loss\", scalar_value=epoch_loss_neg.item(), global_step=step\n",
    "                    )\n",
    "                    tb_logger.add_scalar(\n",
    "                        tag=\"total_loss\", scalar_value=epoch_loss.item(), global_step = step\n",
    "                    )\n",
    "                    # check if we log images in this iteration\n",
    "                    # if step % log_image_interval == 0:\n",
    "                    #     tb_logger.add_images(\n",
    "                    #         tag=\"in_unpaired1\", img_tensor=unpaired1.to(\"cpu\"), global_step=step\n",
    "                    #     )\n",
    "                    #     tb_logger.add_images(\n",
    "                    #         tag=\"in_unpaired2\", img_tensor=unpaired2.to(\"cpu\"), global_step=step\n",
    "                    #     )\n",
    "                    #     tb_logger.add_images(\n",
    "                    #         tag=\"in_paired1\", img_tensor=paired1.to(\"cpu\"), global_step=step\n",
    "                    #     )\n",
    "                    #     tb_logger.add_images(\n",
    "                    #         tag=\"in_paired2\", img_tensor=paired2.to(\"cpu\"), global_step=step\n",
    "                    #     )\n",
    "\n",
    "\n",
    "            print(f\"epoch {epoch}, total_loss = {epoch_loss}, positive_loss={epoch_loss_pos}, negative_loss={epoch_loss_neg}\")\n",
    "        \n",
    "    return model\n",
    "\n",
    "model = train(tb_logger = logger)"
   ]
  }
 ],
 "metadata": {
  "kernelspec": {
   "display_name": "Python 3",
   "language": "python",
   "name": "python3"
  },
  "language_info": {
   "codemirror_mode": {
    "name": "ipython",
    "version": 3
   },
   "file_extension": ".py",
   "mimetype": "text/x-python",
   "name": "python",
   "nbconvert_exporter": "python",
   "pygments_lexer": "ipython3",
   "version": "3.9.13"
  }
 },
 "nbformat": 4,
 "nbformat_minor": 5
}
