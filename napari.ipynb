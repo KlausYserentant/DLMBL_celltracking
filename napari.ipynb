{
 "cells": [
  {
   "cell_type": "code",
   "execution_count": 1,
   "id": "93d2f0d5-30b9-4e3a-b497-0dc26bdf6475",
   "metadata": {},
   "outputs": [],
   "source": [
    "## imports\n",
    "\n",
    "import os\n",
    "import matplotlib\n",
    "from pathlib import Path\n",
    "\n",
    "import glob\n",
    "import numpy as np\n",
    "import matplotlib.pyplot as plt\n",
    "from tifffile import imread, imwrite\n",
    "import napari"
   ]
  },
  {
   "cell_type": "markdown",
   "id": "0da407ae-d048-4042-9fed-bd242679842b",
   "metadata": {},
   "source": [
    "### Load data"
   ]
  },
  {
   "cell_type": "code",
   "execution_count": 22,
   "id": "4fad1e48-7d42-4a75-9b3a-b144cd83a7b5",
   "metadata": {},
   "outputs": [],
   "source": [
    "base_path = Path(\"/mnt/shared/celltracking/data/cho/\")\n",
    "#base_path = Path(\"/mnt/shared/celltracking/data/celegans/\")\n",
    "img = np.stack([imread(xi) for xi in sorted((base_path / \"01\").glob(\"*.tif\"))])  # images\n",
    "seg = np.stack([imread(xi) for xi in sorted((base_path / \"01_ST/SEG\").glob(\"*.tif\"))])  # images\n",
    "tra = np.stack([imread(xi) for xi in sorted((base_path / \"01_GT/TRA\").glob(\"*.tif\"))])  # images"
   ]
  },
  {
   "cell_type": "markdown",
   "id": "ecd02667-49b5-4832-a50e-1718e02d816d",
   "metadata": {},
   "source": [
    "### Have a look at data structure"
   ]
  },
  {
   "cell_type": "code",
   "execution_count": 21,
   "id": "10e48b45-044b-4575-ad6b-a1b8598fa853",
   "metadata": {},
   "outputs": [
    {
     "name": "stdout",
     "output_type": "stream",
     "text": [
      "img:(92, 5, 443, 512)\n",
      "seg:(92, 5, 443, 512)\n",
      "tra:(92, 5, 443, 512)\n",
      "[ 0  1  2  3  4  5  7  8  9 10 11 12 13 14 15 16 17 18 19 20 23 24 25 26\n",
      " 27 28 29 30]\n"
     ]
    }
   ],
   "source": [
    "print(f'img:{img.shape}')\n",
    "print(f'seg:{seg.shape}')\n",
    "print(f'tra:{tra.shape}')"
   ]
  },
  {
   "cell_type": "markdown",
   "id": "27cde9b8-2a86-4b4d-9b16-dbd5a05c67d6",
   "metadata": {},
   "source": [
    "### View imported data with napari"
   ]
  },
  {
   "cell_type": "code",
   "execution_count": 17,
   "id": "f3f93b00-1e64-4bca-9de3-f63f7dec2e84",
   "metadata": {},
   "outputs": [],
   "source": [
    "viewer = napari.Viewer()\n",
    "viewer.add_image(img, name=\"image\");\n",
    "viewer.add_image(tra,name='tra');\n",
    "viewer.add_image(seg,name='seg');"
   ]
  },
  {
   "cell_type": "markdown",
   "id": "6dc5730a-9d62-4393-8da4-1190e5a53e56",
   "metadata": {},
   "source": [
    "### View flatened images"
   ]
  },
  {
   "cell_type": "code",
   "execution_count": 9,
   "id": "0d1eb0a4-8f13-4ab4-9ffa-99897e4d8140",
   "metadata": {},
   "outputs": [],
   "source": [
    "img_flat = img.sum(axis=1)\n",
    "tra_flat = tra.sum(axis=1)\n",
    "img_flat.shape\n",
    "viewer.add_image(img_flat, name=\"image_flat\");\n",
    "viewer.add_image(tra_flat,name='tra_flat');"
   ]
  }
 ],
 "metadata": {
  "kernelspec": {
   "display_name": "Python 3 (ipykernel)",
   "language": "python",
   "name": "python3"
  },
  "language_info": {
   "codemirror_mode": {
    "name": "ipython",
    "version": 3
   },
   "file_extension": ".py",
   "mimetype": "text/x-python",
   "name": "python",
   "nbconvert_exporter": "python",
   "pygments_lexer": "ipython3",
   "version": "3.9.12"
  }
 },
 "nbformat": 4,
 "nbformat_minor": 5
}
