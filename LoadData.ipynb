{
 "cells": [
  {
   "cell_type": "code",
   "execution_count": null,
   "id": "b55c8542-04c0-44d4-925a-d881fc2c7e8f",
   "metadata": {},
   "outputs": [],
   "source": [
    "!pip install gunpowder"
   ]
  },
  {
   "cell_type": "code",
   "execution_count": null,
   "id": "f8fbec55-a2cd-4bb7-b40f-10dfc7bfa0e9",
   "metadata": {},
   "outputs": [],
   "source": [
    "pwd\n"
   ]
  },
  {
   "cell_type": "code",
   "execution_count": null,
   "id": "24ea0bbf",
   "metadata": {},
   "outputs": [],
   "source": [
    "!echo $CONDA_DEFAULT_ENV"
   ]
  },
  {
   "cell_type": "code",
   "execution_count": null,
   "id": "53629c74",
   "metadata": {},
   "outputs": [],
   "source": [
    "!pip install gunpowder\n",
    "!pip install zarr\n",
    "!pip install matplotlib"
   ]
  },
  {
   "cell_type": "code",
   "execution_count": 2,
   "id": "f350e434-a1d0-45dd-b9c2-16992ff9b37b",
   "metadata": {},
   "outputs": [
    {
     "ename": "ModuleNotFoundError",
     "evalue": "No module named 'zarr'",
     "output_type": "error",
     "traceback": [
      "\u001b[0;31m---------------------------------------------------------------------------\u001b[0m",
      "\u001b[0;31mModuleNotFoundError\u001b[0m                       Traceback (most recent call last)",
      "\u001b[0;32m<ipython-input-2-09611d74df89>\u001b[0m in \u001b[0;36m<module>\u001b[0;34m\u001b[0m\n\u001b[1;32m      2\u001b[0m \u001b[0;32mimport\u001b[0m \u001b[0mnumpy\u001b[0m \u001b[0;32mas\u001b[0m \u001b[0mnp\u001b[0m\u001b[0;34m\u001b[0m\u001b[0;34m\u001b[0m\u001b[0m\n\u001b[1;32m      3\u001b[0m \u001b[0;32mimport\u001b[0m \u001b[0mrandom\u001b[0m\u001b[0;34m\u001b[0m\u001b[0;34m\u001b[0m\u001b[0m\n\u001b[0;32m----> 4\u001b[0;31m \u001b[0;32mimport\u001b[0m \u001b[0mzarr\u001b[0m\u001b[0;34m\u001b[0m\u001b[0;34m\u001b[0m\u001b[0m\n\u001b[0m\u001b[1;32m      5\u001b[0m \u001b[0;32mfrom\u001b[0m \u001b[0mskimage\u001b[0m \u001b[0;32mimport\u001b[0m \u001b[0mdata\u001b[0m\u001b[0;34m\u001b[0m\u001b[0;34m\u001b[0m\u001b[0m\n\u001b[1;32m      6\u001b[0m \u001b[0;32mfrom\u001b[0m \u001b[0mskimage\u001b[0m \u001b[0;32mimport\u001b[0m \u001b[0mfilters\u001b[0m\u001b[0;34m\u001b[0m\u001b[0;34m\u001b[0m\u001b[0m\n",
      "\u001b[0;31mModuleNotFoundError\u001b[0m: No module named 'zarr'"
     ]
    }
   ],
   "source": [
    "import matplotlib.pyplot as plt\n",
    "import numpy as np\n",
    "import random\n",
    "import zarr\n",
    "from skimage import data\n",
    "from skimage import filters\n",
    "from scipy.ndimage import zoom\n",
    "\n",
    "# make sure we all see the same\n",
    "np.random.seed(19623)\n",
    "random.seed(19623)\n",
    "\n",
    "# open a sample image (channels first)\n",
    "#raw_data2 = data.astronaut().transpose(2, 0, 1)\n",
    "\n",
    "import skimage.io as sk\n",
    "\n",
    "raw_data = sk.imread(\"sandbox/celegans/01/t000.tif\", plugin=\"tifffile\")\n",
    "raw_data = zoom(np.random.rand(35, 10, 10), zoom=(1, 50, 70), order=0)"
   ]
  },
  {
   "cell_type": "code",
   "execution_count": null,
   "id": "3169f25c-6a0c-4915-a63a-d07873add798",
   "metadata": {},
   "outputs": [],
   "source": [
    "raw_data.shape"
   ]
  },
  {
   "cell_type": "code",
   "execution_count": null,
   "id": "29f2fae2-6e78-4d3b-a657-02c75f8acd11",
   "metadata": {},
   "outputs": [],
   "source": [
    "plt.imshow(raw_data[20], cmap=\"magma\")"
   ]
  },
  {
   "cell_type": "code",
   "execution_count": null,
   "id": "5db5f1e4-b391-42bc-b8cb-00721bf25d50",
   "metadata": {},
   "outputs": [],
   "source": [
    "imstack1.shape"
   ]
  },
  {
   "cell_type": "code",
   "execution_count": null,
   "id": "8b1842ff-4cc2-402b-9d63-affc0c6bb49c",
   "metadata": {},
   "outputs": [],
   "source": [
    "raw_data.shape"
   ]
  },
  {
   "cell_type": "code",
   "execution_count": null,
   "id": "547abe68-354f-48c6-b2eb-b41e3dae339a",
   "metadata": {},
   "outputs": [],
   "source": [
    "\n",
    "# create some dummy \"ground-truth\" to train on\n",
    "gt_data = filters.gaussian(raw_data[0], sigma=3.0) > 0.75\n",
    "gt_data = gt_data[np.newaxis,:].astype(np.float32)\n",
    "\n",
    "# store image in zarr container\n",
    "f = zarr.open('sample_data.zarr', 'w')\n",
    "f['raw'] = raw_data\n",
    "f['raw'].attrs['resolution'] = (1, 1, 1)\n",
    "f['ground_truth'] = gt_data\n",
    "f['ground_truth'].attrs['resolution'] = (1, 1, 1)\n",
    "\n",
    "# helper function to show image(s), channels first\n",
    "def imshow(raw, ground_truth=None, prediction=None):\n",
    "  rows = 1\n",
    "  if ground_truth is not None:\n",
    "    rows += 1\n",
    "  if prediction is not None:\n",
    "    rows += 1\n",
    "  cols = raw.shape[0] if len(raw.shape) > 3 else 1\n",
    "  fig, axes = plt.subplots(rows, cols, figsize=(10, 4), sharex=True, sharey=True, squeeze=False)\n",
    "  if len(raw.shape) == 3:\n",
    "    axes[0][0].imshow(raw.transpose(1, 2, 0))\n",
    "  else:\n",
    "    for i, im in enumerate(raw):\n",
    "      axes[0][i].imshow(im.transpose(1, 2, 0))\n",
    "  row = 1\n",
    "  if ground_truth is not None:\n",
    "    if len(ground_truth.shape) == 3:\n",
    "      axes[row][0].imshow(ground_truth[0])\n",
    "    else:\n",
    "      for i, gt in enumerate(ground_truth):\n",
    "        axes[row][i].imshow(gt[0])\n",
    "    row += 1\n",
    "  if prediction is not None:\n",
    "    if len(prediction.shape) == 3:\n",
    "      axes[row][0].imshow(prediction[0])\n",
    "    else:\n",
    "      for i, gt in enumerate(prediction):\n",
    "        axes[row][i].imshow(gt[0])\n",
    "  plt.show()"
   ]
  },
  {
   "cell_type": "code",
   "execution_count": null,
   "id": "76325bfa-94b3-4553-a6b8-b1bc766eb84e",
   "metadata": {},
   "outputs": [],
   "source": [
    "n = 19\n",
    "imshow(zarr.open('sample_data.zarr')['raw'][n:n+1])"
   ]
  },
  {
   "cell_type": "code",
   "execution_count": null,
   "id": "a62676f7-501f-4be8-bd5f-91ff1b9f8b28",
   "metadata": {},
   "outputs": [],
   "source": [
    "import gunpowder as gp\n",
    "\n",
    "# declare arrays to use in the pipeline\n",
    "raw = gp.ArrayKey('RAW')\n"
   ]
  },
  {
   "cell_type": "code",
   "execution_count": null,
   "id": "34b883b2-3d7f-4d1a-a21a-c1681ab9d72e",
   "metadata": {},
   "outputs": [],
   "source": []
  },
  {
   "cell_type": "code",
   "execution_count": null,
   "id": "9d722ffa-b8d9-4078-918f-eb750b16fa19",
   "metadata": {},
   "outputs": [],
   "source": [
    "import warnings\n",
    "warnings.filterwarnings('ignore')"
   ]
  },
  {
   "cell_type": "code",
   "execution_count": null,
   "id": "69404b03-076a-4ce4-86b5-482c281d714f",
   "metadata": {},
   "outputs": [],
   "source": [
    "# create \"pipeline\" consisting only of a data source\n",
    "source = gp.ZarrSource(\n",
    "    'sample_data.zarr',  # the zarr container\n",
    "    {raw: 'raw'},  # which dataset to associate to the array key\n",
    "    {raw: gp.ArraySpec(interpolatable=True)}  # meta-information\n",
    ")\n",
    "pipeline = source"
   ]
  },
  {
   "cell_type": "code",
   "execution_count": null,
   "id": "8705cead-89bc-4755-91cb-e7893ea161ea",
   "metadata": {},
   "outputs": [],
   "source": [
    "pipeline"
   ]
  },
  {
   "cell_type": "code",
   "execution_count": null,
   "id": "8eaafb4f-dfb0-4515-ad45-b9c606dc02e1",
   "metadata": {},
   "outputs": [],
   "source": [
    "# formulate a request for \"raw\"\n",
    "request = gp.BatchRequest()\n",
    "request[raw] = gp.Roi((0, 0, 0), (4, 127, 176))"
   ]
  },
  {
   "cell_type": "code",
   "execution_count": null,
   "id": "7c0e4389-0d49-4d31-80bf-0d81152fb9e2",
   "metadata": {},
   "outputs": [],
   "source": [
    "raw_data.shape"
   ]
  },
  {
   "cell_type": "code",
   "execution_count": null,
   "id": "fc3713a6-d509-461b-a927-a16873579895",
   "metadata": {},
   "outputs": [],
   "source": [
    "request[raw]"
   ]
  },
  {
   "cell_type": "code",
   "execution_count": null,
   "id": "43164463-e36a-4bd1-ae46-92cdbeb45884",
   "metadata": {},
   "outputs": [],
   "source": [
    "gp.Roi?"
   ]
  },
  {
   "cell_type": "code",
   "execution_count": null,
   "id": "eb694144-1a89-4eeb-b7f6-c43631288a96",
   "metadata": {},
   "outputs": [],
   "source": [
    "batch"
   ]
  },
  {
   "cell_type": "code",
   "execution_count": null,
   "id": "e7729106-e59c-4bad-8128-5e3b7904c5aa",
   "metadata": {},
   "outputs": [],
   "source": [
    "# build the pipeline...\n",
    "with gp.build(pipeline):\n",
    "\n",
    "  # ...and request a batch\n",
    "  batch = pipeline.request_batch(request)\n",
    "\n",
    "# show the content of the batch\n",
    "print(f\"batch returned: {batch}\")\n",
    "imshow(batch[raw].data)"
   ]
  },
  {
   "cell_type": "code",
   "execution_count": null,
   "id": "53d469cc-5e89-4a23-86ba-5a744813a3d2",
   "metadata": {},
   "outputs": [],
   "source": [
    "random_location = gp.RandomLocation()\n",
    "pipeline = source + random_location\n",
    "\n",
    "print(pipeline)\n"
   ]
  },
  {
   "cell_type": "code",
   "execution_count": null,
   "id": "bc495ac6-821a-42be-937d-e2bed3907a99",
   "metadata": {},
   "outputs": [],
   "source": [
    "with gp.build(pipeline):\n",
    "    batch = pipeline.request_batch(request)\n",
    "\n",
    "imshow(batch[raw].data)"
   ]
  },
  {
   "cell_type": "markdown",
   "id": "7155eac4-38f2-47cb-b0b5-83dfcb36fd50",
   "metadata": {},
   "source": [
    "### GEOMETRICAL AUGMENTATION"
   ]
  },
  {
   "cell_type": "markdown",
   "id": "8e94b606-d59a-4945-a3ee-5f867f08ed01",
   "metadata": {},
   "source": [
    "### Simple Augmentation"
   ]
  },
  {
   "cell_type": "code",
   "execution_count": null,
   "id": "23513308-effb-4613-9d36-5dfeacc96a5f",
   "metadata": {},
   "outputs": [],
   "source": [
    "simple_augment = gp.SimpleAugment()\n",
    "pipeline = source + random_location + simple_augment\n",
    "\n",
    "with gp.build(pipeline):\n",
    "    batch = pipeline.request_batch(request)\n",
    "\n",
    "#imshow(batch[raw].data)"
   ]
  },
  {
   "cell_type": "code",
   "execution_count": null,
   "id": "79e4786f-c986-4bfe-a0dc-1fbca2af09bd",
   "metadata": {},
   "outputs": [],
   "source": [
    "import math\n",
    "\n",
    "elastic_augment = gp.ElasticAugment(\n",
    "    [4,40,40],\n",
    "    [0,2,2],\n",
    "    [0,math.pi/2.0],\n",
    "    prob_slip=0.05,\n",
    "    prob_shift=0.05,\n",
    "    max_misalign=25)\n",
    "\n",
    "pipeline = source + random_location + simple_augment + elastic_augment\n",
    "\n",
    "with gp.build(pipeline):\n",
    "    batch = pipeline.request_batch(request)\n",
    "\n",
    "#imshow(batch[raw].data)\n"
   ]
  },
  {
   "cell_type": "markdown",
   "id": "b3434a19-4278-4d39-b725-5de193880f0d",
   "metadata": {},
   "source": [
    "#### Simple Augmentation"
   ]
  },
  {
   "cell_type": "code",
   "execution_count": null,
   "id": "79bf542f-d612-464c-a6bd-17a29818a619",
   "metadata": {},
   "outputs": [],
   "source": [
    "#gp.SimpleAugment(transpose_only=[1, 2])"
   ]
  },
  {
   "cell_type": "code",
   "execution_count": null,
   "id": "6353f832-c878-4c13-a1e8-f8fd50bfdcba",
   "metadata": {},
   "outputs": [],
   "source": [
    "# scale and shift the intensity of the raw array"
   ]
  },
  {
   "cell_type": "code",
   "execution_count": null,
   "id": "f6cbc67e-7a61-464b-958b-43b3904d2ebb",
   "metadata": {},
   "outputs": [],
   "source": [
    "Intensity_augment=gp.IntensityAugment(\n",
    "                    raw,\n",
    "                    scale_min=0.9,\n",
    "                    scale_max=1.1,\n",
    "                    shift_min=-0.1,\n",
    "                    shift_max=0.1,\n",
    "                    z_section_wise=True) "
   ]
  },
  {
   "cell_type": "code",
   "execution_count": null,
   "id": "a562bde7-a826-474e-b7ae-b60a7fe0fc80",
   "metadata": {},
   "outputs": [],
   "source": [
    "Augmentations=\n",
    "# chose a random source (i.e., sample) from the above\n",
    "Augmentations=gp.RandomProvider() +\n",
    "\n",
    "# elastically deform the batch\n",
    "gp.ElasticAugment(\n",
    "    [4,40,40],\n",
    "    [0,2,2],\n",
    "    [0,math.pi/2.0],\n",
    "    prob_slip=0.05,\n",
    "    prob_shift=0.05,\n",
    "    max_misalign=25) +\n",
    "\n",
    "# apply transpose and mirror augmentations\n",
    "gp.SimpleAugment(transpose_only=[1, 2]) +\n",
    "\n",
    "# scale and shift the intensity of the raw array\n",
    "gp.IntensityAugment(\n",
    "    raw,\n",
    "    scale_min=0.9,\n",
    "    scale_max=1.1,\n",
    "    shift_min=-0.1,\n",
    "    shift_max=0.1,\n",
    "    z_section_wise=True) +"
   ]
  },
  {
   "cell_type": "code",
   "execution_count": null,
   "id": "2614dcf7-6e3b-4b9f-bebe-e60de653fae5",
   "metadata": {},
   "outputs": [],
   "source": [
    "gp.IntensityAugment?"
   ]
  },
  {
   "cell_type": "code",
   "execution_count": null,
   "id": "979092c9-3b7d-4a47-aceb-03b03b41bc73",
   "metadata": {},
   "outputs": [],
   "source": []
  }
 ],
 "metadata": {
  "kernelspec": {
   "display_name": "Python 3",
   "language": "python",
   "name": "python3"
  },
  "language_info": {
   "codemirror_mode": {
    "name": "ipython",
    "version": 3
   },
   "file_extension": ".py",
   "mimetype": "text/x-python",
   "name": "python",
   "nbconvert_exporter": "python",
   "pygments_lexer": "ipython3",
   "version": "3.6.9"
  }
 },
 "nbformat": 4,
 "nbformat_minor": 5
}
