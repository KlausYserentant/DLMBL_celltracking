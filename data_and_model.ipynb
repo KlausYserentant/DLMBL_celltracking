{
 "cells": [
  {
   "cell_type": "markdown",
   "id": "96fa3a08-111f-4d26-8e65-7be9ba004054",
   "metadata": {},
   "source": [
    "# Model Implementation for 3D Cell Tracking\n"
   ]
  },
  {
   "cell_type": "code",
   "execution_count": 16,
   "id": "15fd6961-5904-42c4-9fd7-190c0685c312",
   "metadata": {},
   "outputs": [],
   "source": [
    "# !pip install torchsummary \n",
    "# !pip install gunpowder\n",
    "# !pip install zarr\n",
    "# !pip install matplotlib\n",
    "# pip install tensorboard"
   ]
  },
  {
   "cell_type": "code",
   "execution_count": 11,
   "id": "2503c9e5-eea9-4751-9600-fd8c537aecea",
   "metadata": {},
   "outputs": [
    {
     "name": "stdout",
     "output_type": "stream",
     "text": [
      "The tensorboard extension is already loaded. To reload it, use:\n",
      "  %reload_ext tensorboard\n"
     ]
    }
   ],
   "source": [
    "from torch.utils.data import DataLoader, random_split\n",
    "from torch.utils.data.sampler import WeightedRandomSampler\n",
    "from torchvision.datasets import ImageFolder\n",
    "from torchvision import transforms\n",
    "import torch\n",
    "import torch.nn as nn\n",
    "import numpy as np\n",
    "import random \n",
    "import matplotlib.pyplot as plt\n",
    "from torchvision import models\n",
    "from torchsummary import summary\n",
    "\n",
    "from torchvision import datasets\n",
    "from torchvision import transforms\n",
    "from torch.utils.data.sampler import SubsetRandomSampler\n",
    "import gunpowder as gp\n",
    "import zarr\n",
    "import math\n",
    "%load_ext tensorboard\n",
    "from torch.utils.tensorboard import SummaryWriter\n",
    "import skimage\n",
    "import networkx\n",
    "import pathlib\n",
    "from tifffile import imread, imwrite\n",
    "import tensorboard\n",
    "\n",
    "# Device configuration\n",
    "device = torch.device('cuda' if torch.cuda.is_available() else 'cpu')"
   ]
  },
  {
   "cell_type": "markdown",
   "id": "835c90df-e975-4373-9a30-ff0977d23544",
   "metadata": {},
   "source": [
    "# Data Importing"
   ]
  },
  {
   "cell_type": "markdown",
   "id": "235c18c9-a9f7-4312-8b09-501b6bbc53d7",
   "metadata": {
    "tags": []
   },
   "source": [
    "## Extract Centroids"
   ]
  },
  {
   "cell_type": "code",
   "execution_count": 2,
   "id": "b93a13da-0440-4782-a888-a49085a172d7",
   "metadata": {},
   "outputs": [],
   "source": [
    "# function to convert 'TRA' channel into cell and frame-wise centroid positions\n",
    "## Function to extract trajectories from data\n",
    "\n",
    "base_path = pathlib.Path(\"/mnt/shared/celltracking/data/cho/\")\n",
    "\n",
    "\n",
    "# read parent-child links from file\n",
    "links = np.loadtxt(base_path / \"01_GT/TRA\" / \"man_track.txt\", dtype=int)\n",
    "\n",
    "# read annotated image stack\n",
    "centroids = np.stack([imread(xi) for xi in sorted((base_path / \"01_GT/TRA\").glob(\"*.tif\"))])  # images\n",
    "\n",
    "# extract centroids from annotated image stacks\n",
    "centers = skimage.measure.regionprops(centroids[0,0,:,:])\n",
    "tracks = []\n",
    "for t, frame in enumerate(centroids):\n",
    "    centers = skimage.measure.regionprops(frame)\n",
    "    for c in centers:\n",
    "        tracks.append([c.label, t, int(c.centroid[1]), int(c.centroid[2])])\n",
    "        \n",
    "# constructs graph \n",
    "tracks = np.array(tracks)\n",
    "graph = networkx.DiGraph()\n",
    "for cell_id, t, x, y in tracks:\n",
    "    graph.add_node((cell_id,t), x=x, y=y, t=t)\n",
    "    \n",
    "for cell_id, t in graph.nodes():\n",
    "    if (cell_id, t+1) in graph.nodes():\n",
    "        graph.add_edge((cell_id, t), (cell_id,t+1))\n",
    "\n",
    "for child_id, child_from, _, child_parent_id in links:\n",
    "    for parent_id, _, parent_to, _ in links:\n",
    "        if child_parent_id == parent_id:\n",
    "            graph.add_edge((parent_id, parent_to), (child_id, child_from))\n",
    "            \n",
    "# extract trajectories from graph set\n",
    "tracks = [graph.subgraph(c) for c in networkx.weakly_connected_components(graph) if len(c)>0]\n",
    "\n",
    "# remove tracks with 0 edges\n",
    "tracks = [track for track in tracks if len(track.edges)>0]"
   ]
  },
  {
   "cell_type": "markdown",
   "id": "8226e7f8-90f8-41ee-ad99-f0b63fddd0f7",
   "metadata": {
    "tags": []
   },
   "source": [
    "## Define function to make image pairs"
   ]
  },
  {
   "cell_type": "code",
   "execution_count": 3,
   "id": "a770c1f1-4e52-49ae-9f50-abd61b92b360",
   "metadata": {},
   "outputs": [],
   "source": [
    "class getPaired(gp.BatchFilter):\n",
    "\n",
    "    def __init__(self, raw, raw_shift, tracks, paired=True):\n",
    "        self.raw = raw\n",
    "        self.raw_shift = raw_shift\n",
    "        self.tracks = tracks\n",
    "        self.paired = paired\n",
    "    \n",
    "    # _ref channel array is stored in raw_ref, while second volume in pair will be stored raw_new\n",
    "    def prepare(self, request):\n",
    "        # obtain volume coordinates from tracks                \n",
    "        deps = gp.BatchRequest()\n",
    "        vol1,vol2 = self.sampler(request)\n",
    "                \n",
    "        deps[self.raw] = gp.ArraySpec(roi=gp.Roi(vol1,request[self.raw].roi.get_shape()))\n",
    "        deps[self.raw_shift] = gp.ArraySpec(roi=gp.Roi(vol2,request[self.raw_shift].roi.get_shape()))\n",
    "\n",
    "        return deps\n",
    "    \n",
    "    # required to inform downstream nodes about new array \n",
    "    def process(self, batch, request):\n",
    "        # create a new batch to hold the new array\n",
    "        out_batch = gp.Batch()\n",
    "\n",
    "        # create new array and store it in the batch\n",
    "        out_batch[self.raw_shift] = batch[self.raw_shift]\n",
    "        out_batch[self.raw] = batch[self.raw]\n",
    "        \n",
    "        #print(f'raw: {batch[self.raw].spec.roi}')\n",
    "        #print(batch[self.raw_shift].spec.roi)\n",
    "        \n",
    "        # make sure that coordinates for batch[raw] and batch[raw_shift] are reset to (0,0,0,0,0)\n",
    "        out_batch[self.raw].spec.roi = request[self.raw].roi\n",
    "        out_batch[self.raw_shift].spec.roi = request[self.raw_shift].roi\n",
    "\n",
    "        # return the new batch\n",
    "        return out_batch\n",
    "    \n",
    "    # select pairs of subvolumes from data\n",
    "    def sampler(self,request):\n",
    "        tracks = self.tracks\n",
    "        paired = self.paired\n",
    "        # choose connected nodes\n",
    "        # if self.paired:\n",
    "        if paired:\n",
    "            t0 = tracks[np.random.randint(0,len(tracks),1).item()]\n",
    "            e0 = list(t0.edges)[np.random.randint(len(list(t0.edges)))]\n",
    "            node0 = t0.nodes[e0[0]]\n",
    "            node1 = t0.nodes[e0[1]]\n",
    "            \n",
    "        # choose random unconnected nodes\n",
    "        else:\n",
    "            # randomly choose two tracks and make sure they are not identical\n",
    "            t0,t1 = np.random.randint(0,len(tracks),2)\n",
    "            while t0==t1:\n",
    "                t0,t1 = np.random.randint(0,len(tracks),2)\n",
    "\n",
    "            #print(f'trackids: {t0,t1}')\n",
    "            t0 = tracks[t0]\n",
    "            t1 = tracks[t1]\n",
    "\n",
    "            # choose random edges from each track\n",
    "            #print(f'number edges per track{len(list(t0.nodes)),len(list(t1.nodes))}')\n",
    "\n",
    "            r0 = np.random.randint(0,len(list(t0.nodes))) \n",
    "            r1 = np.random.randint(0,len(list(t1.nodes)))\n",
    "\n",
    "            node0 = t0.nodes[list(t0.nodes)[r0]]\n",
    "            node1 = t1.nodes[list(t1.nodes)[r1]]\n",
    "            \n",
    "\n",
    "\n",
    "        node0_xyt = [node0[\"x\"], node0[\"y\"], node0[\"t\"]]\n",
    "        node1_xyt = [node1[\"x\"], node1[\"y\"], node1[\"t\"]]\n",
    "\n",
    "        #print(f'input coord: {node0_xyt,node1_xyt}')\n",
    "\n",
    "        roi_in = request[self.raw_shift].roi.get_shape()\n",
    "        #t,z,y,x\n",
    "        coords_vol0 = (node0_xyt[2],0,node0_xyt[0]-(roi_in[2]/2),node0_xyt[1]-(roi_in[3]/2))\n",
    "        coords_vol1 = (node1_xyt[2],0,node1_xyt[0]-(roi_in[2]/2),node1_xyt[1]-(roi_in[3]/2))\n",
    "        #print(f'output coords - vol0: {coords_vol0}, vol1:{coords_vol1}')\n",
    "\n",
    "        return coords_vol0, coords_vol1\n",
    "            "
   ]
  },
  {
   "cell_type": "markdown",
   "id": "bbe16d12-0fe2-41dd-bf22-eeaf290b3e65",
   "metadata": {},
   "source": [
    "# Make batches "
   ]
  },
  {
   "cell_type": "code",
   "execution_count": 32,
   "id": "9374eed7-3581-4bae-a4e3-a59c6134da27",
   "metadata": {},
   "outputs": [
    {
     "name": "stdout",
     "output_type": "stream",
     "text": [
      "(1, 5, 64, 64)\n"
     ]
    },
    {
     "data": {
      "text/plain": [
       "<matplotlib.image.AxesImage at 0x7f33d0c4c5b0>"
      ]
     },
     "execution_count": 32,
     "metadata": {},
     "output_type": "execute_result"
    },
    {
     "data": {
      "image/png": "[encoded data removed]",
      "text/plain": [
       "<Figure size 432x288 with 2 Axes>"
      ]
     },
     "metadata": {
      "needs_background": "light"
     },
     "output_type": "display_data"
    }
   ],
   "source": [
    "#specify subvolume size and volume source\n",
    "volSize = (1,5,64, 64)\n",
    "coord = (0,0,0,0)\n",
    "batch_size = 4\n",
    "\n",
    "zarrdir = '/mnt/shared/celltracking/data/cho/01.zarr'\n",
    "raw = gp.ArrayKey('raw')\n",
    "raw_shift = gp.ArrayKey('raw_shift')\n",
    "\n",
    "# create \"pipeline\" consisting only of a data source\n",
    "\n",
    "\n",
    "#Augmentations=\n",
    "\n",
    "# chose a random source (i.e., sample) from the above\n",
    "#random_location = gp.RandomLocation()\n",
    "\n",
    "pipeline_paired = (gp.ZarrSource(\n",
    "    zarrdir,  # the zarr container\n",
    "    {raw_shift: 'raw', raw: 'raw'},  # which dataset to associate to the array key\n",
    "    {raw_shift: gp.ArraySpec(voxel_size=(1,1,1,1), interpolatable=True), raw:gp.ArraySpec(voxel_size=(1,1,1,1), interpolatable=True)}  # meta-information\n",
    "    )+ gp.Normalize(raw)+gp.Normalize(raw_shift)+ \n",
    "    gp.Pad(raw_shift, None) + \n",
    "    gp.Pad(raw, None) + gp.IntensityAugment(\n",
    "    raw,\n",
    "    scale_min=0.9,\n",
    "    scale_max=1.1,\n",
    "    shift_min=-0.1,\n",
    "    shift_max=0.1,\n",
    "    ) + gp.NoiseAugment(raw, mode=\"gaussian\")) + gp.IntensityAugment(\n",
    "    raw_shift,\n",
    "    scale_min=0.9,\n",
    "    scale_max=1.1,\n",
    "    shift_min=-0.1,\n",
    "    shift_max=0.1,\n",
    "    ) + gp.NoiseAugment(raw_shift, mode=\"gaussian\") + getPaired(raw,raw_shift,tracks,paired=True) + gp.ElasticAugment(\n",
    "    [2,10,10],\n",
    "    [0,2,2],\n",
    "    [0,0*math.pi/2.0],\n",
    "    prob_slip=0.05,\n",
    "    prob_shift=0.05,\n",
    "    max_misalign=25) + gp.SimpleAugment(transpose_only=[2, 3], mirror_only=[])\n",
    "\n",
    "\n",
    "\n",
    "pipeline_unpaired = (gp.ZarrSource(\n",
    "    zarrdir,  # the zarr container\n",
    "    {raw_shift: 'raw', raw: 'raw'},  # which dataset to associate to the array key\n",
    "    {raw_shift: gp.ArraySpec(voxel_size=(1,1,1,1), interpolatable=True), raw:gp.ArraySpec(voxel_size=(1,1,1,1), interpolatable=True)}  # meta-information\n",
    "    )+ gp.Normalize(raw)+gp.Normalize(raw_shift)+ \n",
    "    gp.Pad(raw_shift, None) + \n",
    "    gp.Pad(raw, None) + gp.IntensityAugment(\n",
    "    raw,\n",
    "    scale_min=0.9,\n",
    "    scale_max=1.1,\n",
    "    shift_min=-0.1,\n",
    "    shift_max=0.1,\n",
    "    ) + gp.NoiseAugment(raw, mode=\"gaussian\") + gp.IntensityAugment(\n",
    "    raw_shift,\n",
    "    scale_min=0.9,\n",
    "    scale_max=1.1,\n",
    "    shift_min=-0.1,\n",
    "    shift_max=0.1,\n",
    "    ) + gp.NoiseAugment(raw_shift, mode=\"gaussian\")) + getPaired(raw,raw_shift,tracks,paired=False)  + gp.ElasticAugment(\n",
    "    [2,10,10],\n",
    "    [0,2,2],\n",
    "    [0,0*math.pi/2.0],\n",
    "    prob_slip=0.05,\n",
    "    prob_shift=0.05,\n",
    "    max_misalign=25) + gp.SimpleAugment(transpose_only=[2, 3], mirror_only=[]) \n",
    "\n",
    "pipeline_paired += gp.PreCache(num_workers=6) \n",
    "pipeline_unpaired += gp.PreCache(num_workers=6)\n",
    "pipeline_paired += gp.Stack(batch_size)\n",
    "pipeline_unpaired += gp.Stack(batch_size)\n",
    "\n",
    "# specify request\n",
    "request = gp.BatchRequest()\n",
    "request[raw] = gp.Roi(coord, volSize)\n",
    "request[raw_shift] = gp.Roi(coord, volSize)\n",
    "\n",
    "gp.ArraySpec()\n",
    "# build the pipeline...\n",
    "# with gp.build(pipeline_paired), gp.build(pipeline_unpaired):\n",
    "\n",
    "  # ...and request a batch\n",
    "  # batch = pipeline_unpaired.request_batch(request)\n",
    "  \n",
    "#show the content of the batch\n",
    "#print(f\"batch returned: {batch}\")\n",
    "\n",
    "# plot first slice of volume\n",
    "fig, axs = plt.subplots(1,2)\n",
    "print(batch[raw].data.shape)\n",
    "axs[0].imshow(np.flipud(batch[raw].data[0,0,:,:]))\n",
    "axs[1].imshow(np.flipud(batch[raw_shift].data[0,0,:,:]))\n",
    "\n"
   ]
  },
  {
   "cell_type": "code",
   "execution_count": 5,
   "id": "ead44e01-a035-424e-84e3-3d2968cf0132",
   "metadata": {},
   "outputs": [],
   "source": [
    "# provide path to zarr directory\n",
    "zarrdir = '/mnt/shared/celltracking/data/cho/01.zarr'\n",
    "\n",
    "data = zarr.open(zarrdir)\n",
    "loader = []"
   ]
  },
  {
   "cell_type": "markdown",
   "id": "6717dd30-e83f-4443-8f6d-1666d2021de4",
   "metadata": {},
   "source": [
    "## Define Augmentation pipeline"
   ]
  },
  {
   "cell_type": "code",
   "execution_count": 6,
   "id": "31f1af22-baa3-4eba-ae20-c9c752d661d1",
   "metadata": {},
   "outputs": [],
   "source": [
    "# provide path to zarr directory\n",
    "#zarrdir = '/mnt/shared/celltracking/data/cho/01.zarr'\n",
    "\n",
    "# pre-selected volumes from cho dataset\n",
    "coord_paired = ((0,0,80, 175),(1,0,80, 180))\n",
    "coord_unpaired = ((0,0,80, 175),(1,0,92, 232))\n",
    "\n",
    "# specify subvolume size and volume source\n",
    "volSize = (1,5,64, 64)\n",
    "coord = coord_paired[0]\n",
    "\n",
    "# declare arrays to use in the pipeline\n",
    "key ='raw'\n",
    "raw = gp.ArrayKey(key)\n",
    "\n",
    "# create \"pipeline\" consisting only of a data source\n",
    "source = gp.ZarrSource(\n",
    "    zarrdir,  # the zarr container\n",
    "    {raw: key},  # which dataset to associate to the array key\n",
    "    {raw: gp.ArraySpec(interpolatable=True, voxel_size = (1,1,1,1))}  # meta-information\n",
    ")\n",
    "pipeline = source\n",
    "\n",
    "# specify request paired\n",
    "request_vol1p = gp.BatchRequest()\n",
    "request_vol2p = gp.BatchRequest()\n",
    "request_vol1p[raw] = gp.Roi(coord_paired[0], volSize)\n",
    "request_vol2p[raw] = gp.Roi(coord_paired[1], volSize)\n",
    "\n",
    "# specify request unpaired\n",
    "request_vol1u = gp.BatchRequest()\n",
    "request_vol2u = gp.BatchRequest()\n",
    "request_vol1u[raw] = gp.Roi(coord_unpaired[0], volSize)\n",
    "request_vol2u[raw] = gp.Roi(coord_unpaired[1], volSize)\n",
    "\n",
    "# build the pipeline\n",
    "with gp.build(pipeline):\n",
    "    batch_vol1p = pipeline.request_batch(request_vol1p)\n",
    "    batch_vol2p = pipeline.request_batch(request_vol2p)\n",
    "    batch_vol1u = pipeline.request_batch(request_vol1u)\n",
    "    batch_vol2u = pipeline.request_batch(request_vol2u)"
   ]
  },
  {
   "cell_type": "markdown",
   "id": "2b322f3f-106a-484b-a790-bee3da998c0d",
   "metadata": {},
   "source": [
    "# Augmentations"
   ]
  },
  {
   "cell_type": "code",
   "execution_count": 7,
   "id": "286b229d-0e67-4fce-b2df-509b31132f0d",
   "metadata": {},
   "outputs": [],
   "source": [
    "#Augmentations=\n",
    "\n",
    "# chose a random source (i.e., sample) from the above\n",
    "#random_location = gp.RandomLocation()\n",
    "\n",
    "# elastically deform the batch\n",
    "Elastic_augment=gp.ElasticAugment(\n",
    "    [2,10,10],\n",
    "    [0,2,2],\n",
    "    [0,0*math.pi/2.0],\n",
    "    prob_slip=0.05,\n",
    "    prob_shift=0.05,\n",
    "    max_misalign=25)\n",
    "\n",
    "# apply transpose and mirror augmentations\n",
    "# Simple_augment=gp.SimpleAugment(transpose_only=[2, 3], mirror_only=[]) \n",
    "Simple_augment=gp.SimpleAugment(transpose_only=[], mirror_only=[])\n",
    "\n",
    "# scale and shift the intensity of the raw array\n",
    "Intensity_augment=gp.IntensityAugment(\n",
    "    raw,\n",
    "    scale_min=0.9,\n",
    "    scale_max=1.1,\n",
    "    shift_min=-0.1,\n",
    "    shift_max=0.1,\n",
    "    )\n",
    "\n",
    "Noise_augment = gp.NoiseAugment(raw, mode=\"gaussian\")\n",
    "\n",
    "pipeline = (\n",
    "    source + gp.Normalize(raw)+\n",
    "            Intensity_augment+Elastic_augment + Simple_augment + Noise_augment\n",
    "           )\n",
    "\n",
    "# build the pipeline\n",
    "with gp.build(pipeline):\n",
    "    for x in range(10):\n",
    "        batch_vol1p = pipeline.request_batch(request_vol1p)\n",
    "        batch_vol2p = pipeline.request_batch(request_vol2p)\n",
    "        batch_vol1u = pipeline.request_batch(request_vol1u)\n",
    "        batch_vol2u = pipeline.request_batch(request_vol2u)\n",
    "        # show the content of the batch\n",
    "        #print(f\"batch returned: {batch}\")\n",
    "\n",
    "        # plot first slice of volume\n",
    "\n",
    "        # fig, (ax1, ax2) = plt.subplots(1, 2)\n",
    "        # ax1.imshow(np.flipud(batch_vol1p[raw].data[0,1,:,:]))\n",
    "        # ax2.imshow(np.flipud(batch_vol2p[raw].data[0,1,:,:]))\n",
    "        # plt.show()\n"
   ]
  },
  {
   "cell_type": "code",
   "execution_count": 8,
   "id": "54945ec0-4a63-486a-bd16-8d8829fef1a1",
   "metadata": {},
   "outputs": [],
   "source": [
    "# specify request \n",
    "#plt.imshow(np.flipud(batch_vol1[raw].data[0,0,:,:]))\n",
    "\n",
    "# request = gp.BatchRequest()\n",
    "# request[raw] = gp.Roi(coord, volSize)\n",
    "\n",
    "# with gp.build(pipeline):\n",
    "#     batch_vol1_aug = pipeline.request_batch(request)\n",
    "#     batch_vol2_aug = pipeline.request_batch(request)\n",
    "\n",
    "# fig, (ax1, ax2, ax3, ax4) = plt.subplots(1, 4)\n",
    "# ax1.imshow(np.flipud(batch_vol1[raw].data[0,0,:,:]))\n",
    "# ax1.set_title('input vol1')\n",
    "# ax2.imshow(np.flipud(batch_vol1_aug[raw].data[0,0,:,:]))\n",
    "# ax2.set_title('aug vol1')\n",
    "# ax3.imshow(np.flipud(batch_vol2[raw].data[0,0,:,:]))\n",
    "# ax3.set_title('input vol2')\n",
    "# ax4.imshow(np.flipud(batch_vol2_aug[raw].data[0,0,:,:]))\n",
    "# ax4.set_title('aug vol2')"
   ]
  },
  {
   "cell_type": "markdown",
   "id": "a77f74b5-d746-4fe4-8661-2f5efcc0e95b",
   "metadata": {
    "tags": []
   },
   "source": [
    "# Define the Model"
   ]
  },
  {
   "cell_type": "code",
   "execution_count": 9,
   "id": "4517e490-95cb-4786-b8d8-52b7a051da79",
   "metadata": {},
   "outputs": [],
   "source": [
    "class Vgg3D(torch.nn.Module):\n",
    "\n",
    "    def __init__(self, input_size, output_classes, downsample_factors, fmaps=12):\n",
    "\n",
    "        super(Vgg3D, self).__init__()\n",
    "\n",
    "        self.input_size = input_size\n",
    "        self.downsample_factors = downsample_factors\n",
    "        self.output_classes = 2\n",
    "\n",
    "        current_fmaps, h, w, d = tuple(input_size)\n",
    "        current_size = (h, w,d)\n",
    "\n",
    "        features = []\n",
    "        for i in range(len(downsample_factors)):\n",
    "\n",
    "            features += [\n",
    "                torch.nn.Conv3d(current_fmaps,fmaps,kernel_size=3,padding=1),\n",
    "                torch.nn.BatchNorm3d(fmaps),\n",
    "                torch.nn.ReLU(inplace=True),\n",
    "                torch.nn.Conv3d(fmaps,fmaps,kernel_size=3,padding=1),\n",
    "                torch.nn.BatchNorm3d(fmaps),\n",
    "                torch.nn.ReLU(inplace=True),\n",
    "                torch.nn.MaxPool3d(downsample_factors[i])\n",
    "            ]\n",
    "\n",
    "            current_fmaps = fmaps\n",
    "            fmaps *= 2\n",
    "\n",
    "            size = tuple(\n",
    "                int(c/d)\n",
    "                for c, d in zip(current_size, downsample_factors[i]))\n",
    "            check = (\n",
    "                s*d == c\n",
    "                for s, d, c in zip(size, downsample_factors[i], current_size))\n",
    "            assert all(check), \\\n",
    "                \"Can not downsample %s by chosen downsample factor\" % \\\n",
    "                (current_size,)\n",
    "            current_size = size\n",
    "\n",
    "        self.features = torch.nn.Sequential(*features)\n",
    "\n",
    "        classifier = [\n",
    "            torch.nn.Linear(current_size[0] *current_size[1]*current_size[2] *current_fmaps,4096),\n",
    "            torch.nn.ReLU(inplace=True),\n",
    "            torch.nn.Dropout(),\n",
    "            torch.nn.Linear(4096,4096),\n",
    "            torch.nn.ReLU(inplace=True),\n",
    "            torch.nn.Dropout(),\n",
    "            torch.nn.Linear(4096,output_classes)\n",
    "        ]\n",
    "\n",
    "        self.classifier = torch.nn.Sequential(*classifier)\n",
    "    \n",
    "    def forward(self, raw):\n",
    "\n",
    "        # add a channel dimension to raw\n",
    "        # shape = tuple(raw.shape)\n",
    "        # raw = raw.reshape(shape[0], 1, shape[1], shape[2])\n",
    "        \n",
    "        # compute features\n",
    "        f = self.features(raw)\n",
    "        f = f.view(f.size(0), -1)\n",
    "        \n",
    "        # classify\n",
    "        y = self.classifier(f)\n",
    "\n",
    "        return y"
   ]
  },
  {
   "cell_type": "markdown",
   "id": "29ff22bf-d49f-42bf-b92d-b110037d97fc",
   "metadata": {
    "tags": []
   },
   "source": [
    "# Loss Functions\n",
    "\n",
    "We'll probably need to test some different loss functions. List some here:\n",
    "Contrastive loss\n",
    "cosine similarity\n",
    "triplet loss\n",
    "\n"
   ]
  },
  {
   "cell_type": "code",
   "execution_count": 12,
   "id": "7c52a2b5-1749-4209-b022-41a445109799",
   "metadata": {},
   "outputs": [],
   "source": [
    "class ContrastiveLoss(nn.Module):\n",
    "    \"Contrastive loss function\"\n",
    "\n",
    "    def __init__(self, margin=2.0):\n",
    "        super(ContrastiveLoss, self).__init__()\n",
    "        self.margin = margin\n",
    "\n",
    "    def forward(self, output1, output2, label):\n",
    "        euclidean_distance = F.pairwise_distance(output1, output2)\n",
    "        loss_contrastive = torch.mean(\n",
    "            (1 - label) * torch.pow(euclidean_distance, 2)\n",
    "            + (label)\n",
    "            * torch.pow(torch.clamp(self.margin - euclidean_distance, min=0.0), 2)\n",
    "        )\n",
    "\n",
    "        return loss_contrastive"
   ]
  },
  {
   "cell_type": "code",
   "execution_count": 21,
   "id": "9da12ed3-cb32-4e26-809d-8aed7cf9ec28",
   "metadata": {},
   "outputs": [],
   "source": [
    "input_size = (1, 64, 64, 5)\n",
    "downsample_factors =[(2, 2, 1), (2, 2, 1), (2, 2, 1), (2, 2, 1)];\n",
    "output_classes = 12\n",
    "\n",
    "# create the model to train\n",
    "model = Vgg3D(input_size, output_classes,  downsample_factors = downsample_factors)\n",
    "model = model.to(device)\n",
    "\n",
    "#summary(model, input_size)"
   ]
  },
  {
   "cell_type": "code",
   "execution_count": 15,
   "id": "27bbf7d8-1dfb-441b-a523-894c3be93493",
   "metadata": {},
   "outputs": [],
   "source": [
    "#Training length\n",
    "epochs = 100\n",
    "\n",
    "#loss_function = torch.nn.BCELoss()\n",
    "loss_function = torch.nn.CosineEmbeddingLoss()\n",
    "#loss_function = ContrastiveLoss()\n",
    "optimizer = torch.optim.Adam(model.parameters(), lr=1e-4, weight_decay=0.0005)"
   ]
  },
  {
   "cell_type": "markdown",
   "id": "e03dec6c-14c4-4400-8ff5-d523845d6105",
   "metadata": {
    "tags": []
   },
   "source": [
    "# Training Test"
   ]
  },
  {
   "cell_type": "markdown",
   "id": "79686e15-7006-4f8d-8875-b2f9aa03b396",
   "metadata": {
    "tags": []
   },
   "source": [
    "# Implementing the Siamese Network\n",
    "\n",
    "The above training is just to test if the VGG model works for 3D data. Here, the training will take two pairs of images and calculate the loss from both pairs of images."
   ]
  },
  {
   "cell_type": "code",
   "execution_count": 16,
   "id": "28a74c3a-e50e-47c1-9689-4cbea55308e6",
   "metadata": {},
   "outputs": [
    {
     "data": {
      "text/html": [
       "\n",
       "      <iframe id=\"tensorboard-frame-953d85c2176f9efa\" width=\"100%\" height=\"800\" frameborder=\"0\">\n",
       "      </iframe>\n",
       "      <script>\n",
       "        (function() {\n",
       "          const frame = document.getElementById(\"tensorboard-frame-953d85c2176f9efa\");\n",
       "          const url = new URL(\"/\", window.location);\n",
       "          const port = 6006;\n",
       "          if (port) {\n",
       "            url.port = port;\n",
       "          }\n",
       "          frame.src = url;\n",
       "        })();\n",
       "      </script>\n",
       "    "
      ],
      "text/plain": [
       "<IPython.core.display.HTML object>"
      ]
     },
     "metadata": {},
     "output_type": "display_data"
    }
   ],
   "source": [
    "#%tensorboard --logdir models\n",
    "\n",
    "logger = SummaryWriter()\n",
    "%tensorboard --logdir runs"
   ]
  },
  {
   "cell_type": "code",
   "execution_count": 33,
   "id": "71160755-6f76-42e1-9d36-c70fca812139",
   "metadata": {},
   "outputs": [
    {
     "name": "stderr",
     "output_type": "stream",
     "text": [
      "  0%|          | 0/100 [00:00<?, ?it/s]"
     ]
    },
    {
     "name": "stdout",
     "output_type": "stream",
     "text": [
      "torch.Size([4, 12])\n"
     ]
    },
    {
     "name": "stderr",
     "output_type": "stream",
     "text": [
      "  1%|          | 1/100 [00:05<08:23,  5.09s/it]"
     ]
    },
    {
     "name": "stdout",
     "output_type": "stream",
     "text": [
      "torch.Size([4, 12])\n",
      "epoch 0, total_loss = 1.9117324352264404, positive_loss=1.3390064239501953, negative_loss=0.5727260112762451\n",
      "torch.Size([4, 12])\n"
     ]
    },
    {
     "name": "stderr",
     "output_type": "stream",
     "text": [
      "  2%|▏         | 2/100 [00:08<07:02,  4.31s/it]"
     ]
    },
    {
     "name": "stdout",
     "output_type": "stream",
     "text": [
      "torch.Size([4, 12])\n",
      "epoch 1, total_loss = 2.299398422241211, positive_loss=1.5942833423614502, negative_loss=0.7051151394844055\n",
      "torch.Size([4, 12])\n"
     ]
    },
    {
     "name": "stderr",
     "output_type": "stream",
     "text": [
      "  3%|▎         | 3/100 [00:11<06:02,  3.74s/it]"
     ]
    },
    {
     "name": "stdout",
     "output_type": "stream",
     "text": [
      "torch.Size([4, 12])\n",
      "epoch 2, total_loss = 1.7774181365966797, positive_loss=1.3589341640472412, negative_loss=0.41848400235176086\n",
      "torch.Size([4, 12])\n",
      "torch.Size([4, 12])\n"
     ]
    },
    {
     "name": "stderr",
     "output_type": "stream",
     "text": [
      "  4%|▍         | 4/100 [00:18<07:33,  4.73s/it]"
     ]
    },
    {
     "name": "stdout",
     "output_type": "stream",
     "text": [
      "epoch 3, total_loss = 1.6980105638504028, positive_loss=1.1222543716430664, negative_loss=0.5757560729980469\n",
      "torch.Size([4, 12])\n"
     ]
    },
    {
     "name": "stderr",
     "output_type": "stream",
     "text": [
      "  5%|▌         | 5/100 [00:21<06:30,  4.11s/it]"
     ]
    },
    {
     "name": "stdout",
     "output_type": "stream",
     "text": [
      "torch.Size([4, 12])\n",
      "epoch 4, total_loss = 1.9539463520050049, positive_loss=1.331559419631958, negative_loss=0.6223869323730469\n",
      "torch.Size([4, 12])\n"
     ]
    },
    {
     "name": "stderr",
     "output_type": "stream",
     "text": [
      "  6%|▌         | 6/100 [00:25<06:28,  4.14s/it]"
     ]
    },
    {
     "name": "stdout",
     "output_type": "stream",
     "text": [
      "torch.Size([4, 12])\n",
      "epoch 5, total_loss = 1.8437683582305908, positive_loss=1.4902606010437012, negative_loss=0.35350775718688965\n",
      "torch.Size([4, 12])\n",
      "torch.Size([4, 12])\n"
     ]
    },
    {
     "name": "stderr",
     "output_type": "stream",
     "text": [
      "  7%|▋         | 7/100 [00:28<06:08,  3.96s/it]"
     ]
    },
    {
     "name": "stdout",
     "output_type": "stream",
     "text": [
      "epoch 6, total_loss = 1.5275938510894775, positive_loss=1.271432638168335, negative_loss=0.2561612129211426\n",
      "torch.Size([4, 12])\n",
      "torch.Size([4, 12])\n"
     ]
    },
    {
     "name": "stderr",
     "output_type": "stream",
     "text": [
      "  8%|▊         | 8/100 [00:33<06:35,  4.29s/it]"
     ]
    },
    {
     "name": "stdout",
     "output_type": "stream",
     "text": [
      "epoch 7, total_loss = 2.038696527481079, positive_loss=1.2427420616149902, negative_loss=0.7959544062614441\n",
      "torch.Size([4, 12])\n"
     ]
    },
    {
     "name": "stderr",
     "output_type": "stream",
     "text": [
      "  9%|▉         | 9/100 [00:39<07:19,  4.83s/it]"
     ]
    },
    {
     "name": "stdout",
     "output_type": "stream",
     "text": [
      "torch.Size([4, 12])\n",
      "epoch 8, total_loss = 1.875920057296753, positive_loss=1.460386037826538, negative_loss=0.4155340790748596\n",
      "torch.Size([4, 12])\n"
     ]
    },
    {
     "name": "stderr",
     "output_type": "stream",
     "text": [
      " 10%|█         | 10/100 [00:46<08:01,  5.35s/it]"
     ]
    },
    {
     "name": "stdout",
     "output_type": "stream",
     "text": [
      "torch.Size([4, 12])\n",
      "epoch 9, total_loss = 2.0986316204071045, positive_loss=1.3536757230758667, negative_loss=0.7449558973312378\n",
      "torch.Size([4, 12])\n"
     ]
    },
    {
     "name": "stderr",
     "output_type": "stream",
     "text": [
      " 11%|█         | 11/100 [00:54<09:21,  6.31s/it]"
     ]
    },
    {
     "name": "stdout",
     "output_type": "stream",
     "text": [
      "torch.Size([4, 12])\n",
      "epoch 10, total_loss = 2.4915313720703125, positive_loss=1.512561321258545, negative_loss=0.9789700508117676\n",
      "torch.Size([4, 12])\n"
     ]
    },
    {
     "name": "stderr",
     "output_type": "stream",
     "text": [
      " 12%|█▏        | 12/100 [00:58<07:57,  5.43s/it]"
     ]
    },
    {
     "name": "stdout",
     "output_type": "stream",
     "text": [
      "torch.Size([4, 12])\n",
      "epoch 11, total_loss = 2.2300009727478027, positive_loss=1.4921919107437134, negative_loss=0.7378091216087341\n",
      "torch.Size([4, 12])\n",
      "torch.Size([4, 12])\n"
     ]
    },
    {
     "name": "stderr",
     "output_type": "stream",
     "text": [
      " 13%|█▎        | 13/100 [01:05<08:36,  5.94s/it]"
     ]
    },
    {
     "name": "stdout",
     "output_type": "stream",
     "text": [
      "epoch 12, total_loss = 1.9968593120574951, positive_loss=1.5388432741165161, negative_loss=0.4580160081386566\n",
      "torch.Size([4, 12])\n"
     ]
    },
    {
     "name": "stderr",
     "output_type": "stream",
     "text": [
      " 14%|█▍        | 14/100 [01:11<08:40,  6.06s/it]"
     ]
    },
    {
     "name": "stdout",
     "output_type": "stream",
     "text": [
      "torch.Size([4, 12])\n",
      "epoch 13, total_loss = 1.7728517055511475, positive_loss=1.5605759620666504, negative_loss=0.21227586269378662\n",
      "torch.Size([4, 12])\n"
     ]
    },
    {
     "name": "stderr",
     "output_type": "stream",
     "text": [
      " 15%|█▌        | 15/100 [01:17<08:23,  5.92s/it]"
     ]
    },
    {
     "name": "stdout",
     "output_type": "stream",
     "text": [
      "torch.Size([4, 12])\n",
      "epoch 14, total_loss = 2.0515851974487305, positive_loss=1.388110876083374, negative_loss=0.6634745001792908\n",
      "torch.Size([4, 12])\n"
     ]
    },
    {
     "name": "stderr",
     "output_type": "stream",
     "text": [
      " 16%|█▌        | 16/100 [01:21<07:25,  5.30s/it]"
     ]
    },
    {
     "name": "stdout",
     "output_type": "stream",
     "text": [
      "torch.Size([4, 12])\n",
      "epoch 15, total_loss = 2.081982374191284, positive_loss=1.3762301206588745, negative_loss=0.7057522535324097\n",
      "torch.Size([4, 12])\n"
     ]
    },
    {
     "name": "stderr",
     "output_type": "stream",
     "text": [
      " 17%|█▋        | 17/100 [01:23<06:14,  4.51s/it]"
     ]
    },
    {
     "name": "stdout",
     "output_type": "stream",
     "text": [
      "torch.Size([4, 12])\n",
      "epoch 16, total_loss = 2.2865896224975586, positive_loss=1.5918846130371094, negative_loss=0.6947050094604492\n",
      "torch.Size([4, 12])\n",
      "torch.Size([4, 12])\n"
     ]
    },
    {
     "name": "stderr",
     "output_type": "stream",
     "text": [
      " 18%|█▊        | 18/100 [01:31<07:18,  5.34s/it]"
     ]
    },
    {
     "name": "stdout",
     "output_type": "stream",
     "text": [
      "epoch 17, total_loss = 1.786393642425537, positive_loss=1.1968035697937012, negative_loss=0.5895900726318359\n",
      "torch.Size([4, 12])\n"
     ]
    },
    {
     "name": "stderr",
     "output_type": "stream",
     "text": [
      " 19%|█▉        | 19/100 [01:38<08:07,  6.01s/it]"
     ]
    },
    {
     "name": "stdout",
     "output_type": "stream",
     "text": [
      "torch.Size([4, 12])\n",
      "epoch 18, total_loss = 2.5662128925323486, positive_loss=1.700620174407959, negative_loss=0.8655925989151001\n",
      "torch.Size([4, 12])\n"
     ]
    },
    {
     "name": "stderr",
     "output_type": "stream",
     "text": [
      " 20%|██        | 20/100 [01:48<09:24,  7.05s/it]"
     ]
    },
    {
     "name": "stdout",
     "output_type": "stream",
     "text": [
      "torch.Size([4, 12])\n",
      "epoch 19, total_loss = 1.760222315788269, positive_loss=0.968836784362793, negative_loss=0.7913855314254761\n",
      "torch.Size([4, 12])\n"
     ]
    },
    {
     "name": "stderr",
     "output_type": "stream",
     "text": [
      " 21%|██        | 21/100 [01:54<08:48,  6.69s/it]"
     ]
    },
    {
     "name": "stdout",
     "output_type": "stream",
     "text": [
      "torch.Size([4, 12])\n",
      "epoch 20, total_loss = 2.0457708835601807, positive_loss=1.4675037860870361, negative_loss=0.5782670974731445\n",
      "torch.Size([4, 12])\n"
     ]
    },
    {
     "name": "stderr",
     "output_type": "stream",
     "text": [
      " 22%|██▏       | 22/100 [01:57<07:31,  5.79s/it]"
     ]
    },
    {
     "name": "stdout",
     "output_type": "stream",
     "text": [
      "torch.Size([4, 12])\n",
      "epoch 21, total_loss = 2.2313451766967773, positive_loss=1.6354022026062012, negative_loss=0.5959429144859314\n",
      "torch.Size([4, 12])\n"
     ]
    },
    {
     "name": "stderr",
     "output_type": "stream",
     "text": [
      " 23%|██▎       | 23/100 [02:04<07:45,  6.05s/it]"
     ]
    },
    {
     "name": "stdout",
     "output_type": "stream",
     "text": [
      "torch.Size([4, 12])\n",
      "epoch 22, total_loss = 2.3511147499084473, positive_loss=1.7753620147705078, negative_loss=0.5757526755332947\n",
      "torch.Size([4, 12])\n",
      "torch.Size([4, 12])\n"
     ]
    },
    {
     "name": "stderr",
     "output_type": "stream",
     "text": [
      " 24%|██▍       | 24/100 [02:11<07:52,  6.22s/it]"
     ]
    },
    {
     "name": "stdout",
     "output_type": "stream",
     "text": [
      "epoch 23, total_loss = 2.0747313499450684, positive_loss=1.525291919708252, negative_loss=0.5494394898414612\n",
      "torch.Size([4, 12])\n"
     ]
    },
    {
     "name": "stderr",
     "output_type": "stream",
     "text": [
      " 25%|██▌       | 25/100 [02:16<07:27,  5.97s/it]"
     ]
    },
    {
     "name": "stdout",
     "output_type": "stream",
     "text": [
      "torch.Size([4, 12])\n",
      "epoch 24, total_loss = 2.1028265953063965, positive_loss=1.406646490097046, negative_loss=0.6961801052093506\n",
      "torch.Size([4, 12])\n"
     ]
    },
    {
     "name": "stderr",
     "output_type": "stream",
     "text": [
      " 26%|██▌       | 26/100 [02:19<06:08,  4.98s/it]"
     ]
    },
    {
     "name": "stdout",
     "output_type": "stream",
     "text": [
      "torch.Size([4, 12])\n",
      "epoch 25, total_loss = 2.1767311096191406, positive_loss=1.238492488861084, negative_loss=0.9382386207580566\n",
      "torch.Size([4, 12])\n",
      "torch.Size([4, 12])\n"
     ]
    },
    {
     "name": "stderr",
     "output_type": "stream",
     "text": [
      " 27%|██▋       | 27/100 [02:22<05:31,  4.54s/it]"
     ]
    },
    {
     "name": "stdout",
     "output_type": "stream",
     "text": [
      "epoch 26, total_loss = 1.8238213062286377, positive_loss=1.3510823249816895, negative_loss=0.47273898124694824\n",
      "torch.Size([4, 12])\n",
      "torch.Size([4, 12])\n"
     ]
    },
    {
     "name": "stderr",
     "output_type": "stream",
     "text": [
      " 28%|██▊       | 28/100 [02:38<09:29,  7.92s/it]"
     ]
    },
    {
     "name": "stdout",
     "output_type": "stream",
     "text": [
      "epoch 27, total_loss = 2.425379753112793, positive_loss=1.4868247509002686, negative_loss=0.9385548830032349\n",
      "torch.Size([4, 12])\n"
     ]
    },
    {
     "name": "stderr",
     "output_type": "stream",
     "text": [
      " 29%|██▉       | 29/100 [02:43<08:20,  7.06s/it]"
     ]
    },
    {
     "name": "stdout",
     "output_type": "stream",
     "text": [
      "torch.Size([4, 12])\n",
      "epoch 28, total_loss = 2.0279035568237305, positive_loss=1.239999771118164, negative_loss=0.7879036664962769\n",
      "torch.Size([4, 12])\n"
     ]
    },
    {
     "name": "stderr",
     "output_type": "stream",
     "text": [
      " 30%|███       | 30/100 [02:45<06:28,  5.55s/it]"
     ]
    },
    {
     "name": "stdout",
     "output_type": "stream",
     "text": [
      "torch.Size([4, 12])\n",
      "epoch 29, total_loss = 2.1284148693084717, positive_loss=1.5340443849563599, negative_loss=0.5943704843521118\n",
      "torch.Size([4, 12])\n",
      "torch.Size([4, 12])\n"
     ]
    },
    {
     "name": "stderr",
     "output_type": "stream",
     "text": [
      " 31%|███       | 31/100 [02:49<05:55,  5.15s/it]"
     ]
    },
    {
     "name": "stdout",
     "output_type": "stream",
     "text": [
      "epoch 30, total_loss = 1.9616752862930298, positive_loss=1.2712277173995972, negative_loss=0.6904475092887878\n",
      "torch.Size([4, 12])\n"
     ]
    },
    {
     "name": "stderr",
     "output_type": "stream",
     "text": [
      " 32%|███▏      | 32/100 [02:50<04:29,  3.97s/it]"
     ]
    },
    {
     "name": "stdout",
     "output_type": "stream",
     "text": [
      "torch.Size([4, 12])\n",
      "epoch 31, total_loss = 1.932206630706787, positive_loss=1.1864396333694458, negative_loss=0.7457669973373413\n",
      "torch.Size([4, 12])\n"
     ]
    },
    {
     "name": "stderr",
     "output_type": "stream",
     "text": [
      " 33%|███▎      | 33/100 [02:57<05:22,  4.82s/it]"
     ]
    },
    {
     "name": "stdout",
     "output_type": "stream",
     "text": [
      "torch.Size([4, 12])\n",
      "epoch 32, total_loss = 2.2389888763427734, positive_loss=1.4628989696502686, negative_loss=0.7760897874832153\n",
      "torch.Size([4, 12])\n"
     ]
    },
    {
     "name": "stderr",
     "output_type": "stream",
     "text": [
      " 34%|███▍      | 34/100 [03:01<05:00,  4.56s/it]"
     ]
    },
    {
     "name": "stdout",
     "output_type": "stream",
     "text": [
      "torch.Size([4, 12])\n",
      "epoch 33, total_loss = 2.0945241451263428, positive_loss=1.7381253242492676, negative_loss=0.3563988506793976\n",
      "torch.Size([4, 12])\n"
     ]
    },
    {
     "name": "stderr",
     "output_type": "stream",
     "text": [
      " 35%|███▌      | 35/100 [03:03<04:07,  3.80s/it]"
     ]
    },
    {
     "name": "stdout",
     "output_type": "stream",
     "text": [
      "torch.Size([4, 12])\n",
      "epoch 34, total_loss = 2.6005282402038574, positive_loss=1.806049108505249, negative_loss=0.7944788932800293\n",
      "torch.Size([4, 12])\n"
     ]
    },
    {
     "name": "stderr",
     "output_type": "stream",
     "text": [
      " 36%|███▌      | 36/100 [03:06<03:34,  3.36s/it]"
     ]
    },
    {
     "name": "stdout",
     "output_type": "stream",
     "text": [
      "torch.Size([4, 12])\n",
      "epoch 35, total_loss = 2.0492570400238037, positive_loss=1.292288064956665, negative_loss=0.7569689750671387\n",
      "torch.Size([4, 12])\n"
     ]
    },
    {
     "name": "stderr",
     "output_type": "stream",
     "text": [
      " 37%|███▋      | 37/100 [03:10<03:58,  3.78s/it]"
     ]
    },
    {
     "name": "stdout",
     "output_type": "stream",
     "text": [
      "torch.Size([4, 12])\n",
      "epoch 36, total_loss = 1.6713480949401855, positive_loss=1.2017899751663208, negative_loss=0.4695580005645752\n",
      "torch.Size([4, 12])\n"
     ]
    },
    {
     "name": "stderr",
     "output_type": "stream",
     "text": [
      " 38%|███▊      | 38/100 [03:16<04:34,  4.43s/it]"
     ]
    },
    {
     "name": "stdout",
     "output_type": "stream",
     "text": [
      "torch.Size([4, 12])\n",
      "epoch 37, total_loss = 2.058711290359497, positive_loss=1.2748534679412842, negative_loss=0.7838578224182129\n",
      "torch.Size([4, 12])\n"
     ]
    },
    {
     "name": "stderr",
     "output_type": "stream",
     "text": [
      " 39%|███▉      | 39/100 [03:23<05:06,  5.03s/it]"
     ]
    },
    {
     "name": "stdout",
     "output_type": "stream",
     "text": [
      "torch.Size([4, 12])\n",
      "epoch 38, total_loss = 2.5908827781677246, positive_loss=1.8083584308624268, negative_loss=0.7825244069099426\n",
      "torch.Size([4, 12])\n",
      "torch.Size([4, 12])\n"
     ]
    },
    {
     "name": "stderr",
     "output_type": "stream",
     "text": [
      " 40%|████      | 40/100 [03:29<05:23,  5.40s/it]"
     ]
    },
    {
     "name": "stdout",
     "output_type": "stream",
     "text": [
      "epoch 39, total_loss = 1.9303414821624756, positive_loss=1.2484885454177856, negative_loss=0.6818528175354004\n",
      "torch.Size([4, 12])\n"
     ]
    },
    {
     "name": "stderr",
     "output_type": "stream",
     "text": [
      " 41%|████      | 41/100 [03:34<05:10,  5.27s/it]"
     ]
    },
    {
     "name": "stdout",
     "output_type": "stream",
     "text": [
      "torch.Size([4, 12])\n",
      "epoch 40, total_loss = 1.6740970611572266, positive_loss=1.1038672924041748, negative_loss=0.5702296495437622\n",
      "torch.Size([4, 12])\n"
     ]
    },
    {
     "name": "stderr",
     "output_type": "stream",
     "text": [
      " 42%|████▏     | 42/100 [03:37<04:29,  4.64s/it]"
     ]
    },
    {
     "name": "stdout",
     "output_type": "stream",
     "text": [
      "torch.Size([4, 12])\n",
      "epoch 41, total_loss = 2.3801565170288086, positive_loss=1.8024890422821045, negative_loss=0.5776675343513489\n",
      "torch.Size([4, 12])\n",
      "torch.Size([4, 12])\n",
      "epoch 42, total_loss = 2.3197360038757324, positive_loss=1.4901461601257324, negative_loss=0.82958984375\n"
     ]
    },
    {
     "name": "stderr",
     "output_type": "stream",
     "text": [
      " 43%|████▎     | 43/100 [03:42<04:28,  4.71s/it]"
     ]
    },
    {
     "name": "stdout",
     "output_type": "stream",
     "text": [
      "torch.Size([4, 12])\n"
     ]
    },
    {
     "name": "stderr",
     "output_type": "stream",
     "text": [
      " 44%|████▍     | 44/100 [03:47<04:34,  4.90s/it]"
     ]
    },
    {
     "name": "stdout",
     "output_type": "stream",
     "text": [
      "torch.Size([4, 12])\n",
      "epoch 43, total_loss = 2.115032434463501, positive_loss=1.6357550621032715, negative_loss=0.47927743196487427\n",
      "torch.Size([4, 12])\n"
     ]
    },
    {
     "name": "stderr",
     "output_type": "stream",
     "text": [
      " 45%|████▌     | 45/100 [03:49<03:42,  4.04s/it]"
     ]
    },
    {
     "name": "stdout",
     "output_type": "stream",
     "text": [
      "torch.Size([4, 12])\n",
      "epoch 44, total_loss = 2.1236159801483154, positive_loss=1.7531458139419556, negative_loss=0.37047022581100464\n",
      "torch.Size([4, 12])\n"
     ]
    },
    {
     "name": "stderr",
     "output_type": "stream",
     "text": [
      " 46%|████▌     | 46/100 [03:53<03:38,  4.04s/it]"
     ]
    },
    {
     "name": "stdout",
     "output_type": "stream",
     "text": [
      "torch.Size([4, 12])\n",
      "epoch 45, total_loss = 1.653849482536316, positive_loss=1.2287211418151855, negative_loss=0.42512834072113037\n",
      "torch.Size([4, 12])\n"
     ]
    },
    {
     "name": "stderr",
     "output_type": "stream",
     "text": [
      " 47%|████▋     | 47/100 [03:57<03:23,  3.83s/it]"
     ]
    },
    {
     "name": "stdout",
     "output_type": "stream",
     "text": [
      "torch.Size([4, 12])\n",
      "epoch 46, total_loss = 1.9656813144683838, positive_loss=1.4547221660614014, negative_loss=0.5109591484069824\n",
      "torch.Size([4, 12])\n"
     ]
    },
    {
     "name": "stderr",
     "output_type": "stream",
     "text": [
      " 48%|████▊     | 48/100 [04:02<03:47,  4.38s/it]"
     ]
    },
    {
     "name": "stdout",
     "output_type": "stream",
     "text": [
      "torch.Size([4, 12])\n",
      "epoch 47, total_loss = 2.4324450492858887, positive_loss=1.762091875076294, negative_loss=0.6703534126281738\n",
      "torch.Size([4, 12])\n"
     ]
    },
    {
     "name": "stderr",
     "output_type": "stream",
     "text": [
      " 49%|████▉     | 49/100 [04:06<03:33,  4.18s/it]"
     ]
    },
    {
     "name": "stdout",
     "output_type": "stream",
     "text": [
      "torch.Size([4, 12])\n",
      "epoch 48, total_loss = 1.783067226409912, positive_loss=1.3942129611968994, negative_loss=0.38885417580604553\n",
      "torch.Size([4, 12])\n"
     ]
    },
    {
     "name": "stderr",
     "output_type": "stream",
     "text": [
      " 50%|█████     | 50/100 [04:14<04:16,  5.13s/it]"
     ]
    },
    {
     "name": "stdout",
     "output_type": "stream",
     "text": [
      "torch.Size([4, 12])\n",
      "epoch 49, total_loss = 2.4078903198242188, positive_loss=1.3545008897781372, negative_loss=1.0533894300460815\n",
      "torch.Size([4, 12])\n"
     ]
    },
    {
     "name": "stderr",
     "output_type": "stream",
     "text": [
      " 51%|█████     | 51/100 [04:21<04:45,  5.83s/it]"
     ]
    },
    {
     "name": "stdout",
     "output_type": "stream",
     "text": [
      "torch.Size([4, 12])\n",
      "epoch 50, total_loss = 1.9771772623062134, positive_loss=1.2632770538330078, negative_loss=0.7139002084732056\n",
      "torch.Size([4, 12])\n"
     ]
    },
    {
     "name": "stderr",
     "output_type": "stream",
     "text": [
      " 52%|█████▏    | 52/100 [04:25<04:11,  5.23s/it]"
     ]
    },
    {
     "name": "stdout",
     "output_type": "stream",
     "text": [
      "torch.Size([4, 12])\n",
      "epoch 51, total_loss = 2.292877197265625, positive_loss=1.4398882389068604, negative_loss=0.8529888391494751\n",
      "torch.Size([4, 12])\n"
     ]
    },
    {
     "name": "stderr",
     "output_type": "stream",
     "text": [
      " 53%|█████▎    | 53/100 [04:30<04:11,  5.36s/it]"
     ]
    },
    {
     "name": "stdout",
     "output_type": "stream",
     "text": [
      "torch.Size([4, 12])\n",
      "epoch 52, total_loss = 1.6379928588867188, positive_loss=1.036486029624939, negative_loss=0.6015068292617798\n",
      "torch.Size([4, 12])\n"
     ]
    },
    {
     "name": "stderr",
     "output_type": "stream",
     "text": [
      " 54%|█████▍    | 54/100 [04:34<03:47,  4.95s/it]"
     ]
    },
    {
     "name": "stdout",
     "output_type": "stream",
     "text": [
      "torch.Size([4, 12])\n",
      "epoch 53, total_loss = 1.9676874876022339, positive_loss=1.3918911218643188, negative_loss=0.5757964849472046\n",
      "torch.Size([4, 12])\n"
     ]
    },
    {
     "name": "stderr",
     "output_type": "stream",
     "text": [
      " 55%|█████▌    | 55/100 [04:44<04:48,  6.41s/it]"
     ]
    },
    {
     "name": "stdout",
     "output_type": "stream",
     "text": [
      "torch.Size([4, 12])\n",
      "epoch 54, total_loss = 2.0176587104797363, positive_loss=1.3392295837402344, negative_loss=0.6784290075302124\n",
      "torch.Size([4, 12])\n"
     ]
    },
    {
     "name": "stderr",
     "output_type": "stream",
     "text": [
      " 56%|█████▌    | 56/100 [04:50<04:29,  6.11s/it]"
     ]
    },
    {
     "name": "stdout",
     "output_type": "stream",
     "text": [
      "torch.Size([4, 12])\n",
      "epoch 55, total_loss = 1.5721309185028076, positive_loss=1.0970873832702637, negative_loss=0.47504347562789917\n",
      "torch.Size([4, 12])\n"
     ]
    },
    {
     "name": "stderr",
     "output_type": "stream",
     "text": [
      " 57%|█████▋    | 57/100 [04:52<03:37,  5.05s/it]"
     ]
    },
    {
     "name": "stdout",
     "output_type": "stream",
     "text": [
      "torch.Size([4, 12])\n",
      "epoch 56, total_loss = 2.133044719696045, positive_loss=1.6031889915466309, negative_loss=0.5298557877540588\n",
      "torch.Size([4, 12])\n"
     ]
    },
    {
     "name": "stderr",
     "output_type": "stream",
     "text": [
      " 58%|█████▊    | 58/100 [04:57<03:26,  4.93s/it]"
     ]
    },
    {
     "name": "stdout",
     "output_type": "stream",
     "text": [
      "torch.Size([4, 12])\n",
      "epoch 57, total_loss = 2.0150160789489746, positive_loss=1.5928080081939697, negative_loss=0.4222080111503601\n",
      "torch.Size([4, 12])\n"
     ]
    },
    {
     "name": "stderr",
     "output_type": "stream",
     "text": [
      " 59%|█████▉    | 59/100 [05:01<03:17,  4.82s/it]"
     ]
    },
    {
     "name": "stdout",
     "output_type": "stream",
     "text": [
      "torch.Size([4, 12])\n",
      "epoch 58, total_loss = 1.7969083786010742, positive_loss=1.2719917297363281, negative_loss=0.5249167084693909\n",
      "torch.Size([4, 12])\n"
     ]
    },
    {
     "name": "stderr",
     "output_type": "stream",
     "text": [
      " 60%|██████    | 60/100 [05:08<03:36,  5.41s/it]"
     ]
    },
    {
     "name": "stdout",
     "output_type": "stream",
     "text": [
      "torch.Size([4, 12])\n",
      "epoch 59, total_loss = 2.123553514480591, positive_loss=1.341822624206543, negative_loss=0.7817308902740479\n",
      "torch.Size([4, 12])\n"
     ]
    },
    {
     "name": "stderr",
     "output_type": "stream",
     "text": [
      " 61%|██████    | 61/100 [05:14<03:34,  5.49s/it]"
     ]
    },
    {
     "name": "stdout",
     "output_type": "stream",
     "text": [
      "torch.Size([4, 12])\n",
      "epoch 60, total_loss = 1.839754343032837, positive_loss=1.1568812131881714, negative_loss=0.6828731298446655\n",
      "torch.Size([4, 12])\n"
     ]
    },
    {
     "name": "stderr",
     "output_type": "stream",
     "text": [
      " 62%|██████▏   | 62/100 [05:19<03:19,  5.26s/it]"
     ]
    },
    {
     "name": "stdout",
     "output_type": "stream",
     "text": [
      "torch.Size([4, 12])\n",
      "epoch 61, total_loss = 2.010237455368042, positive_loss=1.5217492580413818, negative_loss=0.48848819732666016\n",
      "torch.Size([4, 12])\n",
      "torch.Size([4, 12])\n",
      "epoch 62, total_loss = 1.8715126514434814, positive_loss=1.4794590473175049, negative_loss=0.39205363392829895"
     ]
    },
    {
     "name": "stderr",
     "output_type": "stream",
     "text": [
      " 63%|██████▎   | 63/100 [05:25<03:28,  5.63s/it]"
     ]
    },
    {
     "name": "stdout",
     "output_type": "stream",
     "text": [
      "\n",
      "torch.Size([4, 12])\n"
     ]
    },
    {
     "name": "stderr",
     "output_type": "stream",
     "text": [
      " 64%|██████▍   | 64/100 [05:28<02:53,  4.81s/it]"
     ]
    },
    {
     "name": "stdout",
     "output_type": "stream",
     "text": [
      "torch.Size([4, 12])\n",
      "epoch 63, total_loss = 2.4220051765441895, positive_loss=1.7633002996444702, negative_loss=0.6587049961090088\n",
      "torch.Size([4, 12])\n"
     ]
    },
    {
     "name": "stderr",
     "output_type": "stream",
     "text": [
      " 65%|██████▌   | 65/100 [05:32<02:40,  4.59s/it]"
     ]
    },
    {
     "name": "stdout",
     "output_type": "stream",
     "text": [
      "torch.Size([4, 12])\n",
      "epoch 64, total_loss = 1.7249253988265991, positive_loss=1.1588066816329956, negative_loss=0.5661186575889587\n",
      "torch.Size([4, 12])\n"
     ]
    },
    {
     "name": "stderr",
     "output_type": "stream",
     "text": [
      " 66%|██████▌   | 66/100 [05:41<03:21,  5.94s/it]"
     ]
    },
    {
     "name": "stdout",
     "output_type": "stream",
     "text": [
      "torch.Size([4, 12])\n",
      "epoch 65, total_loss = 2.143089532852173, positive_loss=1.302535891532898, negative_loss=0.8405536413192749\n",
      "torch.Size([4, 12])\n"
     ]
    },
    {
     "name": "stderr",
     "output_type": "stream",
     "text": [
      " 67%|██████▋   | 67/100 [05:46<03:06,  5.64s/it]"
     ]
    },
    {
     "name": "stdout",
     "output_type": "stream",
     "text": [
      "torch.Size([4, 12])\n",
      "epoch 66, total_loss = 2.0469424724578857, positive_loss=1.4018336534500122, negative_loss=0.6451088786125183\n",
      "torch.Size([4, 12])\n"
     ]
    },
    {
     "name": "stderr",
     "output_type": "stream",
     "text": [
      " 68%|██████▊   | 68/100 [05:50<02:44,  5.15s/it]"
     ]
    },
    {
     "name": "stdout",
     "output_type": "stream",
     "text": [
      "torch.Size([4, 12])\n",
      "epoch 67, total_loss = 2.3993587493896484, positive_loss=1.3981941938400269, negative_loss=1.0011646747589111\n",
      "torch.Size([4, 12])\n"
     ]
    },
    {
     "name": "stderr",
     "output_type": "stream",
     "text": [
      " 69%|██████▉   | 69/100 [05:55<02:38,  5.11s/it]"
     ]
    },
    {
     "name": "stdout",
     "output_type": "stream",
     "text": [
      "torch.Size([4, 12])\n",
      "epoch 68, total_loss = 1.9990991353988647, positive_loss=1.3723489046096802, negative_loss=0.6267502307891846\n",
      "torch.Size([4, 12])\n",
      "torch.Size([4, 12])\n",
      "epoch 69, total_loss = 2.1365182399749756, positive_loss=1.2745070457458496, negative_loss=0.862011194229126"
     ]
    },
    {
     "name": "stderr",
     "output_type": "stream",
     "text": [
      " 70%|███████   | 70/100 [06:01<02:35,  5.19s/it]"
     ]
    },
    {
     "name": "stdout",
     "output_type": "stream",
     "text": [
      "\n",
      "torch.Size([4, 12])\n"
     ]
    },
    {
     "name": "stderr",
     "output_type": "stream",
     "text": [
      " 71%|███████   | 71/100 [06:04<02:15,  4.69s/it]"
     ]
    },
    {
     "name": "stdout",
     "output_type": "stream",
     "text": [
      "torch.Size([4, 12])\n",
      "epoch 70, total_loss = 2.2859978675842285, positive_loss=1.5130488872528076, negative_loss=0.7729489803314209\n",
      "torch.Size([4, 12])\n"
     ]
    },
    {
     "name": "stderr",
     "output_type": "stream",
     "text": [
      " 72%|███████▏  | 72/100 [06:10<02:18,  4.93s/it]"
     ]
    },
    {
     "name": "stdout",
     "output_type": "stream",
     "text": [
      "torch.Size([4, 12])\n",
      "epoch 71, total_loss = 2.1411828994750977, positive_loss=1.5599861145019531, negative_loss=0.5811969041824341\n",
      "torch.Size([4, 12])\n",
      "torch.Size([4, 12])\n"
     ]
    },
    {
     "name": "stderr",
     "output_type": "stream",
     "text": [
      " 73%|███████▎  | 73/100 [06:15<02:15,  5.02s/it]"
     ]
    },
    {
     "name": "stdout",
     "output_type": "stream",
     "text": [
      "epoch 72, total_loss = 2.0595591068267822, positive_loss=1.3286521434783936, negative_loss=0.7309070825576782\n",
      "torch.Size([4, 12])\n"
     ]
    },
    {
     "name": "stderr",
     "output_type": "stream",
     "text": [
      " 74%|███████▍  | 74/100 [06:17<01:50,  4.25s/it]"
     ]
    },
    {
     "name": "stdout",
     "output_type": "stream",
     "text": [
      "torch.Size([4, 12])\n",
      "epoch 73, total_loss = 1.9993727207183838, positive_loss=1.3470572233200073, negative_loss=0.652315616607666\n",
      "torch.Size([4, 12])\n"
     ]
    },
    {
     "name": "stderr",
     "output_type": "stream",
     "text": [
      " 75%|███████▌  | 75/100 [06:22<01:51,  4.46s/it]"
     ]
    },
    {
     "name": "stdout",
     "output_type": "stream",
     "text": [
      "torch.Size([4, 12])\n",
      "epoch 74, total_loss = 1.8465545177459717, positive_loss=1.3216626644134521, negative_loss=0.5248919129371643\n",
      "torch.Size([4, 12])\n"
     ]
    },
    {
     "name": "stderr",
     "output_type": "stream",
     "text": [
      " 76%|███████▌  | 76/100 [06:27<01:48,  4.51s/it]"
     ]
    },
    {
     "name": "stdout",
     "output_type": "stream",
     "text": [
      "torch.Size([4, 12])\n",
      "epoch 75, total_loss = 1.9132740497589111, positive_loss=1.1507458686828613, negative_loss=0.7625281810760498\n",
      "torch.Size([4, 12])\n"
     ]
    },
    {
     "name": "stderr",
     "output_type": "stream",
     "text": [
      " 77%|███████▋  | 77/100 [06:31<01:38,  4.30s/it]"
     ]
    },
    {
     "name": "stdout",
     "output_type": "stream",
     "text": [
      "torch.Size([4, 12])\n",
      "epoch 76, total_loss = 1.7732436656951904, positive_loss=1.1083171367645264, negative_loss=0.6649264693260193\n",
      "torch.Size([4, 12])\n"
     ]
    },
    {
     "name": "stderr",
     "output_type": "stream",
     "text": [
      " 78%|███████▊  | 78/100 [06:35<01:34,  4.31s/it]"
     ]
    },
    {
     "name": "stdout",
     "output_type": "stream",
     "text": [
      "torch.Size([4, 12])\n",
      "epoch 77, total_loss = 2.4719271659851074, positive_loss=1.7313249111175537, negative_loss=0.7406021356582642\n",
      "torch.Size([4, 12])\n",
      "torch.Size([4, 12])\n"
     ]
    },
    {
     "name": "stderr",
     "output_type": "stream",
     "text": [
      " 79%|███████▉  | 79/100 [06:39<01:25,  4.09s/it]"
     ]
    },
    {
     "name": "stdout",
     "output_type": "stream",
     "text": [
      "epoch 78, total_loss = 2.1993179321289062, positive_loss=1.5178520679473877, negative_loss=0.6814656257629395\n",
      "torch.Size([4, 12])\n"
     ]
    },
    {
     "name": "stderr",
     "output_type": "stream",
     "text": [
      " 80%|████████  | 80/100 [06:41<01:14,  3.72s/it]"
     ]
    },
    {
     "name": "stdout",
     "output_type": "stream",
     "text": [
      "torch.Size([4, 12])\n",
      "epoch 79, total_loss = 2.0402514934539795, positive_loss=1.3901898860931396, negative_loss=0.6500614881515503\n",
      "torch.Size([4, 12])\n"
     ]
    },
    {
     "name": "stderr",
     "output_type": "stream",
     "text": [
      " 81%|████████  | 81/100 [06:44<01:03,  3.32s/it]"
     ]
    },
    {
     "name": "stdout",
     "output_type": "stream",
     "text": [
      "torch.Size([4, 12])\n",
      "epoch 80, total_loss = 2.0733401775360107, positive_loss=1.2437845468521118, negative_loss=0.8295556306838989\n",
      "torch.Size([4, 12])\n"
     ]
    },
    {
     "name": "stderr",
     "output_type": "stream",
     "text": [
      " 82%|████████▏ | 82/100 [06:48<01:02,  3.46s/it]"
     ]
    },
    {
     "name": "stdout",
     "output_type": "stream",
     "text": [
      "torch.Size([4, 12])\n",
      "epoch 81, total_loss = 1.8634748458862305, positive_loss=1.0019724369049072, negative_loss=0.861502468585968\n",
      "torch.Size([4, 12])\n",
      "torch.Size([4, 12])\n"
     ]
    },
    {
     "name": "stderr",
     "output_type": "stream",
     "text": [
      " 83%|████████▎ | 83/100 [06:51<00:59,  3.48s/it]"
     ]
    },
    {
     "name": "stdout",
     "output_type": "stream",
     "text": [
      "epoch 82, total_loss = 2.3726353645324707, positive_loss=1.5981881618499756, negative_loss=0.7744474411010742\n",
      "torch.Size([4, 12])\n"
     ]
    },
    {
     "name": "stderr",
     "output_type": "stream",
     "text": [
      " 84%|████████▍ | 84/100 [06:54<00:50,  3.18s/it]"
     ]
    },
    {
     "name": "stdout",
     "output_type": "stream",
     "text": [
      "torch.Size([4, 12])\n",
      "epoch 83, total_loss = 2.427860736846924, positive_loss=1.5906307697296143, negative_loss=0.8372299671173096\n",
      "torch.Size([4, 12])\n"
     ]
    },
    {
     "name": "stderr",
     "output_type": "stream",
     "text": [
      " 85%|████████▌ | 85/100 [06:58<00:52,  3.50s/it]"
     ]
    },
    {
     "name": "stdout",
     "output_type": "stream",
     "text": [
      "torch.Size([4, 12])\n",
      "epoch 84, total_loss = 2.144930839538574, positive_loss=1.4181491136550903, negative_loss=0.7267816066741943\n",
      "torch.Size([4, 12])\n"
     ]
    },
    {
     "name": "stderr",
     "output_type": "stream",
     "text": [
      " 86%|████████▌ | 86/100 [07:02<00:52,  3.74s/it]"
     ]
    },
    {
     "name": "stdout",
     "output_type": "stream",
     "text": [
      "torch.Size([4, 12])\n",
      "epoch 85, total_loss = 1.7063651084899902, positive_loss=1.2464234828948975, negative_loss=0.4599415957927704\n",
      "torch.Size([4, 12])\n"
     ]
    },
    {
     "name": "stderr",
     "output_type": "stream",
     "text": [
      " 87%|████████▋ | 87/100 [07:07<00:53,  4.12s/it]"
     ]
    },
    {
     "name": "stdout",
     "output_type": "stream",
     "text": [
      "torch.Size([4, 12])\n",
      "epoch 86, total_loss = 1.8978962898254395, positive_loss=1.216070532798767, negative_loss=0.6818258762359619\n",
      "torch.Size([4, 12])\n"
     ]
    },
    {
     "name": "stderr",
     "output_type": "stream",
     "text": [
      " 88%|████████▊ | 88/100 [07:09<00:40,  3.36s/it]"
     ]
    },
    {
     "name": "stdout",
     "output_type": "stream",
     "text": [
      "torch.Size([4, 12])\n",
      "epoch 87, total_loss = 1.9353418350219727, positive_loss=1.45136559009552, negative_loss=0.4839761555194855\n",
      "torch.Size([4, 12])\n"
     ]
    },
    {
     "name": "stderr",
     "output_type": "stream",
     "text": [
      " 89%|████████▉ | 89/100 [07:17<00:52,  4.76s/it]"
     ]
    },
    {
     "name": "stdout",
     "output_type": "stream",
     "text": [
      "torch.Size([4, 12])\n",
      "epoch 88, total_loss = 1.9502724409103394, positive_loss=1.3113439083099365, negative_loss=0.6389285922050476\n",
      "torch.Size([4, 12])\n"
     ]
    },
    {
     "name": "stderr",
     "output_type": "stream",
     "text": [
      " 90%|█████████ | 90/100 [07:23<00:52,  5.22s/it]"
     ]
    },
    {
     "name": "stdout",
     "output_type": "stream",
     "text": [
      "torch.Size([4, 12])\n",
      "epoch 89, total_loss = 1.9054967164993286, positive_loss=1.206128478050232, negative_loss=0.6993682384490967\n",
      "torch.Size([4, 12])\n"
     ]
    },
    {
     "name": "stderr",
     "output_type": "stream",
     "text": [
      " 91%|█████████ | 91/100 [07:29<00:48,  5.37s/it]"
     ]
    },
    {
     "name": "stdout",
     "output_type": "stream",
     "text": [
      "torch.Size([4, 12])\n",
      "epoch 90, total_loss = 1.9124572277069092, positive_loss=1.2941211462020874, negative_loss=0.618336021900177\n",
      "torch.Size([4, 12])\n"
     ]
    },
    {
     "name": "stderr",
     "output_type": "stream",
     "text": [
      " 92%|█████████▏| 92/100 [07:32<00:37,  4.70s/it]"
     ]
    },
    {
     "name": "stdout",
     "output_type": "stream",
     "text": [
      "torch.Size([4, 12])\n",
      "epoch 91, total_loss = 1.7702115774154663, positive_loss=1.3318920135498047, negative_loss=0.4383196234703064\n",
      "torch.Size([4, 12])\n"
     ]
    },
    {
     "name": "stderr",
     "output_type": "stream",
     "text": [
      " 93%|█████████▎| 93/100 [07:37<00:33,  4.83s/it]"
     ]
    },
    {
     "name": "stdout",
     "output_type": "stream",
     "text": [
      "torch.Size([4, 12])\n",
      "epoch 92, total_loss = 2.080289602279663, positive_loss=1.3008193969726562, negative_loss=0.7794701457023621\n",
      "torch.Size([4, 12])\n"
     ]
    },
    {
     "name": "stderr",
     "output_type": "stream",
     "text": [
      " 94%|█████████▍| 94/100 [07:45<00:35,  5.85s/it]"
     ]
    },
    {
     "name": "stdout",
     "output_type": "stream",
     "text": [
      "torch.Size([4, 12])\n",
      "epoch 93, total_loss = 1.8384897708892822, positive_loss=1.3114911317825317, negative_loss=0.5269985795021057\n",
      "torch.Size([4, 12])\n"
     ]
    },
    {
     "name": "stderr",
     "output_type": "stream",
     "text": [
      " 95%|█████████▌| 95/100 [07:51<00:28,  5.76s/it]"
     ]
    },
    {
     "name": "stdout",
     "output_type": "stream",
     "text": [
      "torch.Size([4, 12])\n",
      "epoch 94, total_loss = 1.889548897743225, positive_loss=1.5383830070495605, negative_loss=0.3511658310890198\n",
      "torch.Size([4, 12])\n"
     ]
    },
    {
     "name": "stderr",
     "output_type": "stream",
     "text": [
      " 96%|█████████▌| 96/100 [07:53<00:19,  4.82s/it]"
     ]
    },
    {
     "name": "stdout",
     "output_type": "stream",
     "text": [
      "torch.Size([4, 12])\n",
      "epoch 95, total_loss = 1.5852012634277344, positive_loss=1.0479791164398193, negative_loss=0.5372222065925598\n",
      "torch.Size([4, 12])\n"
     ]
    },
    {
     "name": "stderr",
     "output_type": "stream",
     "text": [
      " 97%|█████████▋| 97/100 [07:55<00:11,  3.95s/it]"
     ]
    },
    {
     "name": "stdout",
     "output_type": "stream",
     "text": [
      "torch.Size([4, 12])\n",
      "epoch 96, total_loss = 2.465595245361328, positive_loss=1.7009575366973877, negative_loss=0.7646375894546509\n",
      "torch.Size([4, 12])\n",
      "torch.Size([4, 12])\n"
     ]
    },
    {
     "name": "stderr",
     "output_type": "stream",
     "text": [
      " 98%|█████████▊| 98/100 [08:00<00:08,  4.15s/it]"
     ]
    },
    {
     "name": "stdout",
     "output_type": "stream",
     "text": [
      "epoch 97, total_loss = 2.4711427688598633, positive_loss=1.4889088869094849, negative_loss=0.9822340607643127\n",
      "torch.Size([4, 12])\n"
     ]
    },
    {
     "name": "stderr",
     "output_type": "stream",
     "text": [
      " 99%|█████████▉| 99/100 [08:11<00:06,  6.36s/it]"
     ]
    },
    {
     "name": "stdout",
     "output_type": "stream",
     "text": [
      "torch.Size([4, 12])\n",
      "epoch 98, total_loss = 1.7073569297790527, positive_loss=1.1296464204788208, negative_loss=0.5777105689048767\n",
      "torch.Size([4, 12])\n"
     ]
    },
    {
     "name": "stderr",
     "output_type": "stream",
     "text": [
      "100%|██████████| 100/100 [08:16<00:00,  4.96s/it]"
     ]
    },
    {
     "name": "stdout",
     "output_type": "stream",
     "text": [
      "torch.Size([4, 12])\n",
      "epoch 99, total_loss = 2.093200922012329, positive_loss=1.301898717880249, negative_loss=0.7913022041320801\n"
     ]
    },
    {
     "name": "stderr",
     "output_type": "stream",
     "text": [
      "\n"
     ]
    }
   ],
   "source": [
    "from tqdm import tqdm\n",
    "\n",
    "def train(tb_logger = None, log_image_interval = 10):\n",
    "    if torch.cuda.is_available():\n",
    "        device = torch.device(\"cuda\")\n",
    "    else:\n",
    "        device = torch.device(\"cpu\")\n",
    "        \n",
    "    loss=[] \n",
    "    counter=[]\n",
    "    with gp.build(pipeline_paired), gp.build(pipeline_unpaired):\n",
    "        for epoch in tqdm(range(epochs)):\n",
    "            epoch_loss = 0\n",
    "            epoch_loss_pos = 0\n",
    "            epoch_loss_neg = 0\n",
    "            for x in range(2):\n",
    "                unpaired = pipeline_unpaired.request_batch(request)\n",
    "                yu = -1\n",
    "                \n",
    "                paired = pipeline_paired.request_batch(request)\n",
    "                yp = 1\n",
    "                \n",
    "                unpaired1 = unpaired[raw].data\n",
    "                unpaired2 = unpaired[raw_shift].data\n",
    "                paired1 = paired[raw].data\n",
    "                paired2 = paired[raw_shift].data\n",
    "                \n",
    "                unpaired1 = np.reshape(unpaired1, (batch_size,64, 64, 5))\n",
    "                unpaired2 = np.reshape(unpaired2, (batch_size,64, 64, 5))\n",
    "                paired1 = np.reshape(paired1, (batch_size,64, 64, 5))\n",
    "                paired2 = np.reshape(paired2, (batch_size,64, 64, 5))\n",
    "                \n",
    "                # unpaired1 = np.reshape(unpaired1, (batch_size,16, 16, 5))\n",
    "                # unpaired2 = np.reshape(unpaired2, (batch_size,16, 16, 5))\n",
    "                # paired1 = np.reshape(paired1, (batch_size,16, 16, 5))\n",
    "                # paired2 = np.reshape(paired2, (batch_size,16, 16, 5))\n",
    "                \n",
    "                unpaired1 = np.expand_dims(unpaired1, axis =1)\n",
    "                unpaired2 = np.expand_dims(unpaired2, axis=1)\n",
    "                paired1 = np.expand_dims(paired1, axis =1)\n",
    "                paired2 = np.expand_dims(paired2, axis=1)\n",
    "\n",
    "                unpaired1 = torch.from_numpy(unpaired1).to(device).float()\n",
    "                unpaired2 = torch.from_numpy(unpaired2).to(device).float()\n",
    "                yu = torch.from_numpy(np.array([yu])).to(device).float()\n",
    "                \n",
    "                paired1 = torch.from_numpy(paired1).to(device).float()\n",
    "                paired2 = torch.from_numpy(paired2).to(device).float() \n",
    "                yp = torch.from_numpy(np.array([yp])).to(device).float()\n",
    "\n",
    "                optimizer.zero_grad()\n",
    "                \n",
    "                predp1 = model(paired1)\n",
    "                predp2 = model(paired2)\n",
    "                predu1 = model(unpaired1)\n",
    "                predu2 = model(unpaired2)\n",
    "                #print(model(unpaired1).shape)\n",
    "                #print(predp1.shape)\n",
    "\n",
    "                #loss = loss_function(pred, y)\n",
    "                \n",
    "                print(predp1.shape)\n",
    "\n",
    "                loss_contrastivep = loss_function(predp1,predp2,yp)\n",
    "                loss_contrastiveu = loss_function(predu1,predu2,yu)\n",
    "\n",
    "                loss_contrastivep.backward()\n",
    "                loss_contrastiveu.backward()\n",
    "                optimizer.step()    \n",
    "                epoch_loss_pos += loss_contrastivep\n",
    "                epoch_loss_neg += loss_contrastiveu\n",
    "                epoch_loss += loss_contrastivep + loss_contrastiveu\n",
    "                \n",
    "                if tb_logger is not None:\n",
    "                    step = epoch * 10 + x\n",
    "                    tb_logger.add_scalar(\n",
    "                        tag=\"positive_loss\", scalar_value=epoch_loss_pos.item(), global_step=step\n",
    "                    )\n",
    "                    tb_logger.add_scalar(\n",
    "                        tag=\"negative_loss\", scalar_value=epoch_loss_neg.item(), global_step=step\n",
    "                    )\n",
    "                    tb_logger.add_scalar(\n",
    "                        tag=\"total_loss\", scalar_value=epoch_loss.item(), global_step = step\n",
    "                    )\n",
    "                    # check if we log images in this iteration\n",
    "                    # if step % log_image_interval == 0:\n",
    "                    #     tb_logger.add_images(\n",
    "                    #         tag=\"in_unpaired1\", img_tensor=unpaired1.to(\"cpu\"), global_step=step\n",
    "                    #     )\n",
    "                    #     tb_logger.add_images(\n",
    "                    #         tag=\"in_unpaired2\", img_tensor=unpaired2.to(\"cpu\"), global_step=step\n",
    "                    #     )\n",
    "                    #     tb_logger.add_images(\n",
    "                    #         tag=\"in_paired1\", img_tensor=paired1.to(\"cpu\"), global_step=step\n",
    "                    #     )\n",
    "                    #     tb_logger.add_images(\n",
    "                    #         tag=\"in_paired2\", img_tensor=paired2.to(\"cpu\"), global_step=step\n",
    "                    #     )\n",
    "\n",
    "\n",
    "            print(f\"epoch {epoch}, total_loss = {epoch_loss}, positive_loss={epoch_loss_pos}, negative_loss={epoch_loss_neg}\")\n",
    "        \n",
    "    return model\n",
    "\n",
    "model = train(tb_logger = logger)"
   ]
  },
  {
   "cell_type": "code",
   "execution_count": 43,
   "id": "fca8bb79-cb08-49df-b866-a7e163ad0c6d",
   "metadata": {},
   "outputs": [
    {
     "name": "stdout",
     "output_type": "stream",
     "text": [
      "1\n"
     ]
    }
   ],
   "source": [
    "print(batch_size)"
   ]
  },
  {
   "cell_type": "code",
   "execution_count": 19,
   "id": "62d65691-4548-4f02-b2d5-ac51df2b6da0",
   "metadata": {},
   "outputs": [
    {
     "name": "stderr",
     "output_type": "stream",
     "text": [
      "  0%|          | 0/100 [00:00<?, ?it/s]"
     ]
    },
    {
     "name": "stdout",
     "output_type": "stream",
     "text": [
      "first\n"
     ]
    },
    {
     "name": "stderr",
     "output_type": "stream",
     "text": [
      "  0%|          | 0/100 [00:29<?, ?it/s]\n"
     ]
    },
    {
     "ename": "KeyboardInterrupt",
     "evalue": "",
     "output_type": "error",
     "traceback": [
      "\u001b[0;31m---------------------------------------------------------------------------\u001b[0m",
      "\u001b[0;31mKeyboardInterrupt\u001b[0m                         Traceback (most recent call last)",
      "Input \u001b[0;32mIn [19]\u001b[0m, in \u001b[0;36m<cell line: 83>\u001b[0;34m()\u001b[0m\n\u001b[1;32m     79\u001b[0m             \u001b[38;5;28mprint\u001b[39m(\u001b[38;5;124mf\u001b[39m\u001b[38;5;124m\"\u001b[39m\u001b[38;5;124mepoch \u001b[39m\u001b[38;5;132;01m{\u001b[39;00mepoch\u001b[38;5;132;01m}\u001b[39;00m\u001b[38;5;124m, total_loss = \u001b[39m\u001b[38;5;132;01m{\u001b[39;00mepoch_loss\u001b[38;5;132;01m}\u001b[39;00m\u001b[38;5;124m, positive_loss=\u001b[39m\u001b[38;5;132;01m{\u001b[39;00mepoch_loss_pos\u001b[38;5;132;01m}\u001b[39;00m\u001b[38;5;124m, negative_loss=\u001b[39m\u001b[38;5;132;01m{\u001b[39;00mepoch_loss_neg\u001b[38;5;132;01m}\u001b[39;00m\u001b[38;5;124m\"\u001b[39m)\n\u001b[1;32m     81\u001b[0m     \u001b[38;5;28;01mreturn\u001b[39;00m model\n\u001b[0;32m---> 83\u001b[0m model \u001b[38;5;241m=\u001b[39m \u001b[43mtrain\u001b[49m\u001b[43m(\u001b[49m\u001b[43mtb_logger\u001b[49m\u001b[43m \u001b[49m\u001b[38;5;241;43m=\u001b[39;49m\u001b[43m \u001b[49m\u001b[43mlogger\u001b[49m\u001b[43m)\u001b[49m\n",
      "Input \u001b[0;32mIn [19]\u001b[0m, in \u001b[0;36mtrain\u001b[0;34m(tb_logger, log_image_interval)\u001b[0m\n\u001b[1;32m     20\u001b[0m \u001b[38;5;28mprint\u001b[39m(\u001b[38;5;124m'\u001b[39m\u001b[38;5;124mfirst\u001b[39m\u001b[38;5;124m'\u001b[39m)\n\u001b[1;32m     21\u001b[0m \u001b[38;5;28;01mif\u001b[39;00m(isPair \u001b[38;5;241m==\u001b[39m \u001b[38;5;241m1\u001b[39m):\n\u001b[0;32m---> 22\u001b[0m     unpaired \u001b[38;5;241m=\u001b[39m \u001b[43mpipeline_unpaired\u001b[49m\u001b[38;5;241;43m.\u001b[39;49m\u001b[43mrequest_batch\u001b[49m\u001b[43m(\u001b[49m\u001b[43mrequest\u001b[49m\u001b[43m)\u001b[49m\n\u001b[1;32m     23\u001b[0m     y \u001b[38;5;241m=\u001b[39m \u001b[38;5;241m-\u001b[39m\u001b[38;5;241m1\u001b[39m\n\u001b[1;32m     24\u001b[0m     unpaired1 \u001b[38;5;241m=\u001b[39m unpaired[raw]\u001b[38;5;241m.\u001b[39mdata[:,:,:,:]\n",
      "File \u001b[0;32m~/miniconda3/envs/celltracking/lib/python3.9/site-packages/gunpowder/pipeline.py:140\u001b[0m, in \u001b[0;36mPipeline.request_batch\u001b[0;34m(self, request)\u001b[0m\n\u001b[1;32m    137\u001b[0m \u001b[38;5;124;03m'''Request a batch from the pipeline.'''\u001b[39;00m\n\u001b[1;32m    139\u001b[0m \u001b[38;5;28;01mtry\u001b[39;00m:\n\u001b[0;32m--> 140\u001b[0m     \u001b[38;5;28;01mreturn\u001b[39;00m \u001b[38;5;28;43mself\u001b[39;49m\u001b[38;5;241;43m.\u001b[39;49m\u001b[43moutput\u001b[49m\u001b[38;5;241;43m.\u001b[39;49m\u001b[43mrequest_batch\u001b[49m\u001b[43m(\u001b[49m\u001b[43mrequest\u001b[49m\u001b[43m)\u001b[49m\n\u001b[1;32m    141\u001b[0m \u001b[38;5;28;01mexcept\u001b[39;00m \u001b[38;5;167;01mException\u001b[39;00m \u001b[38;5;28;01mas\u001b[39;00m e:\n\u001b[1;32m    142\u001b[0m     \u001b[38;5;28;01mraise\u001b[39;00m PipelineRequestError(\u001b[38;5;28mself\u001b[39m, request) \u001b[38;5;28;01mfrom\u001b[39;00m \u001b[38;5;21;01me\u001b[39;00m\n",
      "File \u001b[0;32m~/miniconda3/envs/celltracking/lib/python3.9/site-packages/gunpowder/nodes/batch_provider.py:187\u001b[0m, in \u001b[0;36mBatchProvider.request_batch\u001b[0;34m(self, request)\u001b[0m\n\u001b[1;32m    185\u001b[0m \u001b[38;5;28;01mif\u001b[39;00m \u001b[38;5;28mself\u001b[39m\u001b[38;5;241m.\u001b[39mremove_placeholders:\n\u001b[1;32m    186\u001b[0m     upstream_request\u001b[38;5;241m.\u001b[39mremove_placeholders()\n\u001b[0;32m--> 187\u001b[0m batch \u001b[38;5;241m=\u001b[39m \u001b[38;5;28;43mself\u001b[39;49m\u001b[38;5;241;43m.\u001b[39;49m\u001b[43mprovide\u001b[49m\u001b[43m(\u001b[49m\u001b[43mupstream_request\u001b[49m\u001b[43m)\u001b[49m\n\u001b[1;32m    189\u001b[0m request\u001b[38;5;241m.\u001b[39mremove_placeholders()\n\u001b[1;32m    191\u001b[0m \u001b[38;5;28mself\u001b[39m\u001b[38;5;241m.\u001b[39mcheck_batch_consistency(batch, request)\n",
      "File \u001b[0;32m~/miniconda3/envs/celltracking/lib/python3.9/site-packages/gunpowder/nodes/precache.py:117\u001b[0m, in \u001b[0;36mPreCache.provide\u001b[0;34m(self, request)\u001b[0m\n\u001b[1;32m    115\u001b[0m \u001b[38;5;28;01melse\u001b[39;00m:\n\u001b[1;32m    116\u001b[0m     logger\u001b[38;5;241m.\u001b[39mdebug(\u001b[38;5;124m\"\u001b[39m\u001b[38;5;124mgetting batch from queue...\u001b[39m\u001b[38;5;124m\"\u001b[39m)\n\u001b[0;32m--> 117\u001b[0m     batch \u001b[38;5;241m=\u001b[39m \u001b[38;5;28;43mself\u001b[39;49m\u001b[38;5;241;43m.\u001b[39;49m\u001b[43mworkers\u001b[49m\u001b[38;5;241;43m.\u001b[39;49m\u001b[43mget\u001b[49m\u001b[43m(\u001b[49m\u001b[43m)\u001b[49m\n\u001b[1;32m    119\u001b[0m     timing\u001b[38;5;241m.\u001b[39mstop()\n\u001b[1;32m    120\u001b[0m     batch\u001b[38;5;241m.\u001b[39mprofiling_stats\u001b[38;5;241m.\u001b[39madd(timing)\n",
      "File \u001b[0;32m~/miniconda3/envs/celltracking/lib/python3.9/site-packages/gunpowder/producer_pool.py:64\u001b[0m, in \u001b[0;36mProducerPool.get\u001b[0;34m(self, timeout)\u001b[0m\n\u001b[1;32m     61\u001b[0m \u001b[38;5;28;01mwhile\u001b[39;00m item \u001b[38;5;241m==\u001b[39m \u001b[38;5;28;01mNone\u001b[39;00m:\n\u001b[1;32m     63\u001b[0m     \u001b[38;5;28;01mtry\u001b[39;00m:\n\u001b[0;32m---> 64\u001b[0m         item \u001b[38;5;241m=\u001b[39m \u001b[38;5;28;43mself\u001b[39;49m\u001b[38;5;241;43m.\u001b[39;49m\u001b[43m__result_queue\u001b[49m\u001b[38;5;241;43m.\u001b[39;49m\u001b[43mget\u001b[49m\u001b[43m(\u001b[49m\u001b[43mtimeout\u001b[49m\u001b[38;5;241;43m=\u001b[39;49m\u001b[43mtimeout\u001b[49m\u001b[43m)\u001b[49m\n\u001b[1;32m     65\u001b[0m     \u001b[38;5;28;01mexcept\u001b[39;00m Queue\u001b[38;5;241m.\u001b[39mEmpty:\n\u001b[1;32m     66\u001b[0m         \u001b[38;5;28;01mif\u001b[39;00m \u001b[38;5;129;01mnot\u001b[39;00m block:\n",
      "File \u001b[0;32m~/miniconda3/envs/celltracking/lib/python3.9/multiprocessing/queues.py:113\u001b[0m, in \u001b[0;36mQueue.get\u001b[0;34m(self, block, timeout)\u001b[0m\n\u001b[1;32m    111\u001b[0m \u001b[38;5;28;01mif\u001b[39;00m block:\n\u001b[1;32m    112\u001b[0m     timeout \u001b[38;5;241m=\u001b[39m deadline \u001b[38;5;241m-\u001b[39m time\u001b[38;5;241m.\u001b[39mmonotonic()\n\u001b[0;32m--> 113\u001b[0m     \u001b[38;5;28;01mif\u001b[39;00m \u001b[38;5;129;01mnot\u001b[39;00m \u001b[38;5;28;43mself\u001b[39;49m\u001b[38;5;241;43m.\u001b[39;49m\u001b[43m_poll\u001b[49m\u001b[43m(\u001b[49m\u001b[43mtimeout\u001b[49m\u001b[43m)\u001b[49m:\n\u001b[1;32m    114\u001b[0m         \u001b[38;5;28;01mraise\u001b[39;00m Empty\n\u001b[1;32m    115\u001b[0m \u001b[38;5;28;01melif\u001b[39;00m \u001b[38;5;129;01mnot\u001b[39;00m \u001b[38;5;28mself\u001b[39m\u001b[38;5;241m.\u001b[39m_poll():\n",
      "File \u001b[0;32m~/miniconda3/envs/celltracking/lib/python3.9/multiprocessing/connection.py:262\u001b[0m, in \u001b[0;36m_ConnectionBase.poll\u001b[0;34m(self, timeout)\u001b[0m\n\u001b[1;32m    260\u001b[0m \u001b[38;5;28mself\u001b[39m\u001b[38;5;241m.\u001b[39m_check_closed()\n\u001b[1;32m    261\u001b[0m \u001b[38;5;28mself\u001b[39m\u001b[38;5;241m.\u001b[39m_check_readable()\n\u001b[0;32m--> 262\u001b[0m \u001b[38;5;28;01mreturn\u001b[39;00m \u001b[38;5;28;43mself\u001b[39;49m\u001b[38;5;241;43m.\u001b[39;49m\u001b[43m_poll\u001b[49m\u001b[43m(\u001b[49m\u001b[43mtimeout\u001b[49m\u001b[43m)\u001b[49m\n",
      "File \u001b[0;32m~/miniconda3/envs/celltracking/lib/python3.9/multiprocessing/connection.py:429\u001b[0m, in \u001b[0;36mConnection._poll\u001b[0;34m(self, timeout)\u001b[0m\n\u001b[1;32m    428\u001b[0m \u001b[38;5;28;01mdef\u001b[39;00m \u001b[38;5;21m_poll\u001b[39m(\u001b[38;5;28mself\u001b[39m, timeout):\n\u001b[0;32m--> 429\u001b[0m     r \u001b[38;5;241m=\u001b[39m \u001b[43mwait\u001b[49m\u001b[43m(\u001b[49m\u001b[43m[\u001b[49m\u001b[38;5;28;43mself\u001b[39;49m\u001b[43m]\u001b[49m\u001b[43m,\u001b[49m\u001b[43m \u001b[49m\u001b[43mtimeout\u001b[49m\u001b[43m)\u001b[49m\n\u001b[1;32m    430\u001b[0m     \u001b[38;5;28;01mreturn\u001b[39;00m \u001b[38;5;28mbool\u001b[39m(r)\n",
      "File \u001b[0;32m~/miniconda3/envs/celltracking/lib/python3.9/multiprocessing/connection.py:936\u001b[0m, in \u001b[0;36mwait\u001b[0;34m(object_list, timeout)\u001b[0m\n\u001b[1;32m    933\u001b[0m     deadline \u001b[38;5;241m=\u001b[39m time\u001b[38;5;241m.\u001b[39mmonotonic() \u001b[38;5;241m+\u001b[39m timeout\n\u001b[1;32m    935\u001b[0m \u001b[38;5;28;01mwhile\u001b[39;00m \u001b[38;5;28;01mTrue\u001b[39;00m:\n\u001b[0;32m--> 936\u001b[0m     ready \u001b[38;5;241m=\u001b[39m \u001b[43mselector\u001b[49m\u001b[38;5;241;43m.\u001b[39;49m\u001b[43mselect\u001b[49m\u001b[43m(\u001b[49m\u001b[43mtimeout\u001b[49m\u001b[43m)\u001b[49m\n\u001b[1;32m    937\u001b[0m     \u001b[38;5;28;01mif\u001b[39;00m ready:\n\u001b[1;32m    938\u001b[0m         \u001b[38;5;28;01mreturn\u001b[39;00m [key\u001b[38;5;241m.\u001b[39mfileobj \u001b[38;5;28;01mfor\u001b[39;00m (key, events) \u001b[38;5;129;01min\u001b[39;00m ready]\n",
      "File \u001b[0;32m~/miniconda3/envs/celltracking/lib/python3.9/selectors.py:416\u001b[0m, in \u001b[0;36m_PollLikeSelector.select\u001b[0;34m(self, timeout)\u001b[0m\n\u001b[1;32m    414\u001b[0m ready \u001b[38;5;241m=\u001b[39m []\n\u001b[1;32m    415\u001b[0m \u001b[38;5;28;01mtry\u001b[39;00m:\n\u001b[0;32m--> 416\u001b[0m     fd_event_list \u001b[38;5;241m=\u001b[39m \u001b[38;5;28;43mself\u001b[39;49m\u001b[38;5;241;43m.\u001b[39;49m\u001b[43m_selector\u001b[49m\u001b[38;5;241;43m.\u001b[39;49m\u001b[43mpoll\u001b[49m\u001b[43m(\u001b[49m\u001b[43mtimeout\u001b[49m\u001b[43m)\u001b[49m\n\u001b[1;32m    417\u001b[0m \u001b[38;5;28;01mexcept\u001b[39;00m \u001b[38;5;167;01mInterruptedError\u001b[39;00m:\n\u001b[1;32m    418\u001b[0m     \u001b[38;5;28;01mreturn\u001b[39;00m ready\n",
      "\u001b[0;31mKeyboardInterrupt\u001b[0m: "
     ]
    }
   ],
   "source": [
    "# from tqdm import tqdm\n",
    "\n",
    "\n",
    "# def train(tb_logger = None, log_image_interval = 10):\n",
    "#     if torch.cuda.is_available():\n",
    "#         device = torch.device(\"cuda\")\n",
    "#     else:\n",
    "#         device = torch.device(\"cpu\")\n",
    "        \n",
    "#     loss=[] \n",
    "#     counter=[]\n",
    "#     with gp.build(pipeline_paired), gp.build(pipeline_unpaired):\n",
    "#         for epoch in tqdm(range(epochs)):\n",
    "#             epoch_loss = 0\n",
    "#             epoch_loss_pos = 0\n",
    "#             epoch_loss_neg = 0\n",
    "#             for x in range(16):\n",
    "                    \n",
    "#                 isPair = random.randint(0,1)\n",
    "#                 print('first')\n",
    "#                 if(isPair == 1):\n",
    "#                     unpaired = pipeline_unpaired.request_batch(request)\n",
    "#                     y = -1\n",
    "#                     unpaired1 = unpaired[raw].data[:,:,:,:]\n",
    "#                     unpaired2 = unpaired[raw_shift].data[:,:,:,:]\n",
    "#                     unpaired1 = np.reshape(unpaired1, (1,64, 64, 5))\n",
    "#                     unpaired2 = np.reshape(unpaired2, (1,64, 64, 5))\n",
    "#                     unpaired1 = np.expand_dims(unpaired1, axis =0)\n",
    "#                     unpaired2 = np.expand_dims(unpaired2, axis=0)\n",
    "#                     vol1 = torch.from_numpy(unpaired1).to(device).float()\n",
    "#                     vol2 = torch.from_numpy(unpaired2).to(device).float()\n",
    "#                 else:\n",
    "#                     paired = pipeline_paired.request_batch(request)\n",
    "#                     y = 1\n",
    "#                     paired1 = paired[raw].data[:,:,:,:]\n",
    "#                     paired2 = paired[raw_shift].data[:,:,:,:]\n",
    "#                     paired1 = np.reshape(paired1, (1,64, 64, 5))\n",
    "#                     paired2 = np.reshape(paired2, (1,64, 64, 5))\n",
    "#                     paired1 = np.expand_dims(paired1, axis =0)\n",
    "#                     paired2 = np.expand_dims(paired2, axis=0)\n",
    "#                     vol1 = torch.from_numpy(paired1).to(device).float()\n",
    "#                     vol2 = torch.from_numpy(paired2).to(device).float() \n",
    "\n",
    "#                 print('second')\n",
    "#                 y = torch.from_numpy(np.array([y])).to(device).float()\n",
    "                \n",
    "#                 optimizer.zero_grad()\n",
    "                \n",
    "#                 pred1 = model(vol1)\n",
    "#                 pred2 = model(vol2)\n",
    "\n",
    "#                 loss = loss_function(pred1,pred2,y)\n",
    "\n",
    "#                 loss.backward()\n",
    "#                 optimizer.step()    \n",
    "#                 epoch_loss += loss\n",
    "                \n",
    "#                 if tb_logger is not None:\n",
    "#                     step = epoch * 10 + x\n",
    "#                     tb_logger.add_scalar(\n",
    "#                         tag=\"positive_loss\", scalar_value=epoch_loss.item(), global_step=step\n",
    "#                     )\n",
    "#                     # check if we log images in this iteration\n",
    "#                     # if step % log_image_interval == 0:\n",
    "#                     #     tb_logger.add_images(\n",
    "#                     #         tag=\"in_unpaired1\", img_tensor=unpaired1.to(\"cpu\"), global_step=step\n",
    "#                     #     )\n",
    "#                     #     tb_logger.add_images(\n",
    "#                     #         tag=\"in_unpaired2\", img_tensor=unpaired2.to(\"cpu\"), global_step=step\n",
    "#                     #     )\n",
    "#                     #     tb_logger.add_images(\n",
    "#                     #         tag=\"in_paired1\", img_tensor=paired1.to(\"cpu\"), global_step=step\n",
    "#                     #     )\n",
    "#                     #     tb_logger.add_images(\n",
    "#                     #         tag=\"in_paired2\", img_tensor=paired2.to(\"cpu\"), global_step=step\n",
    "#                     #     )\n",
    "\n",
    "\n",
    "#             print(f\"epoch {epoch}, total_loss = {epoch_loss}, positive_loss={epoch_loss_pos}, negative_loss={epoch_loss_neg}\")\n",
    "        \n",
    "#     return model\n",
    "\n",
    "# model = train(tb_logger = logger)"
   ]
  },
  {
   "cell_type": "markdown",
   "id": "4bad3724-0af7-4a27-94c5-b25d542a50ee",
   "metadata": {},
   "source": [
    "# Tracking / Linear Assignment"
   ]
  },
  {
   "cell_type": "code",
   "execution_count": null,
   "id": "25131276-e24d-48bd-99eb-bc3585b94fe6",
   "metadata": {},
   "outputs": [],
   "source": []
  }
 ],
 "metadata": {
  "kernelspec": {
   "display_name": "Python 3",
   "language": "python",
   "name": "python3"
  },
  "language_info": {
   "codemirror_mode": {
    "name": "ipython",
    "version": 3
   },
   "file_extension": ".py",
   "mimetype": "text/x-python",
   "name": "python",
   "nbconvert_exporter": "python",
   "pygments_lexer": "ipython3",
   "version": "3.9.13"
  }
 },
 "nbformat": 4,
 "nbformat_minor": 5
}
