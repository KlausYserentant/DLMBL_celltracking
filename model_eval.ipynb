{
 "cells": [
  {
   "cell_type": "markdown",
   "id": "ddf7b740-20f5-4f71-9b15-aa3a5cbdfb8b",
   "metadata": {},
   "source": [
    "# imports"
   ]
  },
  {
   "cell_type": "code",
   "execution_count": 174,
   "id": "5244ea29-c3fc-421b-bc23-b40b99f85456",
   "metadata": {},
   "outputs": [
    {
     "name": "stdout",
     "output_type": "stream",
     "text": [
      "The tensorboard extension is already loaded. To reload it, use:\n",
      "  %reload_ext tensorboard\n"
     ]
    }
   ],
   "source": [
    "from torch.utils.data import DataLoader, random_split\n",
    "from torch.utils.data.sampler import WeightedRandomSampler\n",
    "from torchvision.datasets import ImageFolder\n",
    "from torchvision import transforms\n",
    "import torch\n",
    "import torch.nn as nn\n",
    "import numpy as np\n",
    "import random \n",
    "import matplotlib.pyplot as plt\n",
    "from torchvision import models\n",
    "from torchsummary import summary\n",
    "\n",
    "from torchvision import datasets\n",
    "from torchvision import transforms\n",
    "from torch.utils.data.sampler import SubsetRandomSampler\n",
    "import gunpowder as gp\n",
    "import zarr\n",
    "import math\n",
    "%load_ext tensorboard\n",
    "from torch.utils.tensorboard import SummaryWriter\n",
    "import skimage\n",
    "import networkx\n",
    "import pathlib\n",
    "from tifffile import imread, imwrite\n",
    "import tensorboard\n",
    "import torch.nn.functional as F\n",
    "import glob\n",
    "\n",
    "# Device configuration\n",
    "device = torch.device('cuda' if torch.cuda.is_available() else 'cpu')"
   ]
  },
  {
   "cell_type": "markdown",
   "id": "a3a113d5-b59e-4c88-b972-97cde7b96e74",
   "metadata": {},
   "source": [
    "# Define model"
   ]
  },
  {
   "cell_type": "code",
   "execution_count": 2,
   "id": "bd2a1dc6-0b71-4b60-839c-c5ec5fb460dc",
   "metadata": {},
   "outputs": [],
   "source": [
    "class Vgg3D(torch.nn.Module):\n",
    "\n",
    "    def __init__(self, input_size, output_classes, downsample_factors, fmaps=12):\n",
    "\n",
    "        super(Vgg3D, self).__init__()\n",
    "\n",
    "        self.input_size = input_size\n",
    "        self.downsample_factors = downsample_factors\n",
    "        self.output_classes = 2\n",
    "\n",
    "        current_fmaps, h, w, d = tuple(input_size)\n",
    "        current_size = (h, w,d)\n",
    "\n",
    "        features = []\n",
    "        for i in range(len(downsample_factors)):\n",
    "\n",
    "            features += [\n",
    "                torch.nn.Conv3d(current_fmaps,fmaps,kernel_size=3,padding=1),\n",
    "                torch.nn.BatchNorm3d(fmaps),\n",
    "                torch.nn.ReLU(inplace=True),\n",
    "                torch.nn.Conv3d(fmaps,fmaps,kernel_size=3,padding=1),\n",
    "                torch.nn.BatchNorm3d(fmaps),\n",
    "                torch.nn.ReLU(inplace=True),\n",
    "                torch.nn.MaxPool3d(downsample_factors[i])\n",
    "            ]\n",
    "\n",
    "            current_fmaps = fmaps\n",
    "            fmaps *= 2\n",
    "\n",
    "            size = tuple(\n",
    "                int(c/d)\n",
    "                for c, d in zip(current_size, downsample_factors[i]))\n",
    "            check = (\n",
    "                s*d == c\n",
    "                for s, d, c in zip(size, downsample_factors[i], current_size))\n",
    "            assert all(check), \\\n",
    "                \"Can not downsample %s by chosen downsample factor\" % \\\n",
    "                (current_size,)\n",
    "            current_size = size\n",
    "\n",
    "        self.features = torch.nn.Sequential(*features)\n",
    "\n",
    "        classifier = [\n",
    "            torch.nn.Linear(current_size[0] *current_size[1]*current_size[2] *current_fmaps,4096),\n",
    "            torch.nn.ReLU(inplace=True),\n",
    "            torch.nn.Dropout(),\n",
    "            torch.nn.Linear(4096,4096),\n",
    "            torch.nn.ReLU(inplace=True),\n",
    "            torch.nn.Dropout(),\n",
    "            torch.nn.Linear(4096,output_classes)\n",
    "        ]\n",
    "\n",
    "        self.classifier = torch.nn.Sequential(*classifier)\n",
    "    \n",
    "    def forward(self, raw):\n",
    "\n",
    "        # add a channel dimension to raw\n",
    "        # shape = tuple(raw.shape)\n",
    "        # raw = raw.reshape(shape[0], 1, shape[1], shape[2])\n",
    "        \n",
    "        # compute features\n",
    "        f = self.features(raw)\n",
    "        f = f.view(f.size(0), -1)\n",
    "        \n",
    "        # classify\n",
    "        y = self.classifier(f)\n",
    "\n",
    "        return y"
   ]
  },
  {
   "cell_type": "code",
   "execution_count": 3,
   "id": "4a388de4-2da7-4936-9b94-440e27bf99f9",
   "metadata": {},
   "outputs": [],
   "source": [
    "input_size = (1, 64, 64, 5)\n",
    "downsample_factors =[(2, 2, 1), (2, 2, 1), (2, 2, 1), (2, 2, 1)];\n",
    "output_classes = 12\n",
    "\n",
    "# create the model to train\n",
    "model = Vgg3D(input_size, output_classes,  downsample_factors = downsample_factors)\n",
    "model = model.to(device)\n",
    "\n",
    "#summary(model, input_size)"
   ]
  },
  {
   "cell_type": "markdown",
   "id": "976eba0b-7343-43cb-b03f-24da5a599dbb",
   "metadata": {},
   "source": [
    "# Loss functions"
   ]
  },
  {
   "cell_type": "code",
   "execution_count": 18,
   "id": "0626de4a-0794-43a4-b085-2cf106f69791",
   "metadata": {},
   "outputs": [],
   "source": [
    "loss_function = torch.nn.CosineEmbeddingLoss()\n",
    "#loss_function = ContrastiveLoss()\n",
    "optimizer = torch.optim.Adam(model.parameters(), lr=1e-4, weight_decay=0.0005)"
   ]
  },
  {
   "cell_type": "markdown",
   "id": "fe05d8fc-f6b2-4f81-a682-aa2a088d0137",
   "metadata": {},
   "source": [
    "# load model state file"
   ]
  },
  {
   "cell_type": "code",
   "execution_count": 186,
   "id": "dd521011-7d30-4195-8b07-b7de2affbdf9",
   "metadata": {},
   "outputs": [
    {
     "data": {
      "text/plain": [
       "Vgg3D(\n",
       "  (features): Sequential(\n",
       "    (0): Conv3d(1, 12, kernel_size=(3, 3, 3), stride=(1, 1, 1), padding=(1, 1, 1))\n",
       "    (1): BatchNorm3d(12, eps=1e-05, momentum=0.1, affine=True, track_running_stats=True)\n",
       "    (2): ReLU(inplace=True)\n",
       "    (3): Conv3d(12, 12, kernel_size=(3, 3, 3), stride=(1, 1, 1), padding=(1, 1, 1))\n",
       "    (4): BatchNorm3d(12, eps=1e-05, momentum=0.1, affine=True, track_running_stats=True)\n",
       "    (5): ReLU(inplace=True)\n",
       "    (6): MaxPool3d(kernel_size=(2, 2, 1), stride=(2, 2, 1), padding=0, dilation=1, ceil_mode=False)\n",
       "    (7): Conv3d(12, 24, kernel_size=(3, 3, 3), stride=(1, 1, 1), padding=(1, 1, 1))\n",
       "    (8): BatchNorm3d(24, eps=1e-05, momentum=0.1, affine=True, track_running_stats=True)\n",
       "    (9): ReLU(inplace=True)\n",
       "    (10): Conv3d(24, 24, kernel_size=(3, 3, 3), stride=(1, 1, 1), padding=(1, 1, 1))\n",
       "    (11): BatchNorm3d(24, eps=1e-05, momentum=0.1, affine=True, track_running_stats=True)\n",
       "    (12): ReLU(inplace=True)\n",
       "    (13): MaxPool3d(kernel_size=(2, 2, 1), stride=(2, 2, 1), padding=0, dilation=1, ceil_mode=False)\n",
       "    (14): Conv3d(24, 48, kernel_size=(3, 3, 3), stride=(1, 1, 1), padding=(1, 1, 1))\n",
       "    (15): BatchNorm3d(48, eps=1e-05, momentum=0.1, affine=True, track_running_stats=True)\n",
       "    (16): ReLU(inplace=True)\n",
       "    (17): Conv3d(48, 48, kernel_size=(3, 3, 3), stride=(1, 1, 1), padding=(1, 1, 1))\n",
       "    (18): BatchNorm3d(48, eps=1e-05, momentum=0.1, affine=True, track_running_stats=True)\n",
       "    (19): ReLU(inplace=True)\n",
       "    (20): MaxPool3d(kernel_size=(2, 2, 1), stride=(2, 2, 1), padding=0, dilation=1, ceil_mode=False)\n",
       "    (21): Conv3d(48, 96, kernel_size=(3, 3, 3), stride=(1, 1, 1), padding=(1, 1, 1))\n",
       "    (22): BatchNorm3d(96, eps=1e-05, momentum=0.1, affine=True, track_running_stats=True)\n",
       "    (23): ReLU(inplace=True)\n",
       "    (24): Conv3d(96, 96, kernel_size=(3, 3, 3), stride=(1, 1, 1), padding=(1, 1, 1))\n",
       "    (25): BatchNorm3d(96, eps=1e-05, momentum=0.1, affine=True, track_running_stats=True)\n",
       "    (26): ReLU(inplace=True)\n",
       "    (27): MaxPool3d(kernel_size=(2, 2, 1), stride=(2, 2, 1), padding=0, dilation=1, ceil_mode=False)\n",
       "  )\n",
       "  (classifier): Sequential(\n",
       "    (0): Linear(in_features=7680, out_features=4096, bias=True)\n",
       "    (1): ReLU(inplace=True)\n",
       "    (2): Dropout(p=0.5, inplace=False)\n",
       "    (3): Linear(in_features=4096, out_features=4096, bias=True)\n",
       "    (4): ReLU(inplace=True)\n",
       "    (5): Dropout(p=0.5, inplace=False)\n",
       "    (6): Linear(in_features=4096, out_features=12, bias=True)\n",
       "  )\n",
       ")"
      ]
     },
     "execution_count": 186,
     "metadata": {},
     "output_type": "execute_result"
    }
   ],
   "source": [
    "# path to state file\n",
    "modelstateP = '/mnt/shared/celltracking/modelstates/aaron/'\n",
    "stateFile = 'epoch_27'\n",
    "\n",
    "model.load_state_dict(torch.load(modelstateP+stateFile))\n",
    "model.eval()"
   ]
  },
  {
   "cell_type": "markdown",
   "id": "bc893743-b752-4a8d-a390-69e095669baf",
   "metadata": {},
   "source": [
    "# convert data to zarr"
   ]
  },
  {
   "cell_type": "code",
   "execution_count": 176,
   "id": "1dab1b07-9d35-4e5e-bac6-d0c1754625f5",
   "metadata": {},
   "outputs": [
    {
     "name": "stdout",
     "output_type": "stream",
     "text": [
      "zarr data directory:/mnt/shared/celltracking/data/cho/02.zarr\n"
     ]
    }
   ],
   "source": [
    "### Convert data into zarr format\n",
    "def tif2zarr(baseDir,groupKey,outDir='',chunkSize=48):\n",
    "    if outDir=='':\n",
    "        outDir = baseDir+\"/zarr/\"\n",
    "    \n",
    "    # load all tiff files \n",
    "    img = np.stack([imread(xi) for xi in sorted(glob.glob(baseDir+\"/\"+\"*.tif\"))])  # images\n",
    "\n",
    "    # format: [timepoints,zslices,y,z]\n",
    "    imDims = img.shape\n",
    "    \n",
    "    # define chunk size\n",
    "    if isinstance(chunkSize, int):\n",
    "        chunks = np.repeat(chunkSize,len(imDims))\n",
    "    else:\n",
    "        chunks = chunkSize\n",
    "                  \n",
    "    # write img into zarr file       \n",
    "    #zFile = zarr.open(outDir, shape=imDims, chunks=chunks, mode=\"w\", dtype='int32')\n",
    "    store = zarr.DirectoryStore(outDir)\n",
    "    zFile = zarr.open_group(store=store,mode='w')\n",
    "        \n",
    "    zGroup = zFile.create_dataset(groupKey, shape=imDims,chunks=chunks,dtype='int32')\n",
    "    #zFile = zarr.open_group(outDir+\"/\"+groupKey,mode='w',shape=imDims, chunks=chunks, dtype='int32')\n",
    "    zFile[groupKey] = img\n",
    "        \n",
    "    return outDir\n",
    "\n",
    "dataDir = \"/mnt/shared/celltracking/data/cho/02\"\n",
    "zarr_dir = \"/mnt/shared/celltracking/data/cho/02.zarr\"\n",
    "zarrdir = tif2zarr(dataDir,'raw',zarr_dir)\n",
    "print(f'zarr data directory:{zarrdir}')"
   ]
  },
  {
   "cell_type": "markdown",
   "id": "710453dc-555c-45e1-b6e2-7c08657c34db",
   "metadata": {},
   "source": [
    "# Read tracks from GT"
   ]
  },
  {
   "cell_type": "code",
   "execution_count": 306,
   "id": "f197ab97-2fec-4f67-9168-71d8219f0dd4",
   "metadata": {},
   "outputs": [],
   "source": [
    "base_path = pathlib.Path(\"/mnt/shared/celltracking/data/cho/\")\n",
    "\n",
    "# read parent-child links from file\n",
    "links = np.loadtxt(base_path / \"02_GT/TRA\" / \"man_track.txt\", dtype=int)\n",
    "\n",
    "# read annotated image stack\n",
    "annotations = np.stack([imread(xi) for xi in sorted((base_path / \"02_GT/TRA\").glob(\"*.tif\"))])  # images\n",
    "\n",
    "# extract centroids from annotated image stacks\n",
    "tracks_raw = []\n",
    "for t, frame in enumerate(annotations):\n",
    "    centers = skimage.measure.regionprops(frame)\n",
    "    for c in centers:\n",
    "        tracks_raw.append([c.label, t, int(c.centroid[1]), int(c.centroid[2])])\n",
    "        \n",
    "# constructs graph \n",
    "tracks = np.array(tracks_raw)\n",
    "graph = networkx.DiGraph()\n",
    "for cell_id, t, x, y in tracks:\n",
    "    graph.add_node((cell_id,t), x=x, y=y, t=t)\n",
    "    \n",
    "for cell_id, t in graph.nodes():\n",
    "    if (cell_id, t+1) in graph.nodes():\n",
    "        graph.add_edge((cell_id, t), (cell_id,t+1))\n",
    "        \n",
    "\n",
    "for child_id, child_from, _, child_parent_id in links:\n",
    "    for parent_id, _, parent_to, _ in links:\n",
    "        if child_parent_id == parent_id:\n",
    "            graph.add_edge((parent_id, parent_to), (child_id, child_from))\n",
    "            \n",
    "# extract trajectories from graph set\n",
    "tracks = [graph.subgraph(c) for c in networkx.weakly_connected_components(graph) if len(c)>0]\n",
    "\n",
    "# remove tracks with 0 edges\n",
    "tracks = [track for track in tracks if len(track.edges)>0]"
   ]
  },
  {
   "cell_type": "code",
   "execution_count": 208,
   "id": "c8899581-0b61-483c-a8b4-9f9db660b6d1",
   "metadata": {},
   "outputs": [],
   "source": [
    "for node in graph.nodes():\n",
    "    if not \"x\" in graph.nodes[node]:\n",
    "        print(node)"
   ]
  },
  {
   "cell_type": "code",
   "execution_count": 209,
   "id": "56b44baf-4201-4768-afa4-31fbdbb2992b",
   "metadata": {},
   "outputs": [
    {
     "name": "stdout",
     "output_type": "stream",
     "text": [
      "track 0 has 154 edges\n",
      "track 1 has 139 edges\n",
      "track 2 has 103 edges\n",
      "track 3 has 25 edges\n",
      "track 4 has 2 edges\n",
      "track 5 has 2 edges\n",
      "track 6 has 9 edges\n",
      "track 7 has 55 edges\n",
      "track 8 has 4 edges\n",
      "track 9 has 1 edges\n",
      "track 10 has 42 edges\n",
      "track 11 has 39 edges\n",
      "track 12 has 21 edges\n"
     ]
    }
   ],
   "source": [
    "for i,x in enumerate(tracks):\n",
    "    print(f'track {i} has {len(tracks[i].edges)} edges')"
   ]
  },
  {
   "cell_type": "markdown",
   "id": "efbe50b1-8d5b-48a3-9e62-5701bb88f7f0",
   "metadata": {},
   "source": [
    "# Define function to make image pairs"
   ]
  },
  {
   "cell_type": "code",
   "execution_count": 210,
   "id": "7a777800-3585-4bcc-b5aa-fc79fd94950e",
   "metadata": {},
   "outputs": [],
   "source": [
    "class getPaired(gp.BatchFilter):\n",
    "\n",
    "    def __init__(self, raw, raw_shift, tracks, paired=True):\n",
    "        self.raw = raw\n",
    "        self.raw_shift = raw_shift\n",
    "        self.tracks = tracks\n",
    "        self.paired = paired\n",
    "    \n",
    "    # _ref channel array is stored in raw_ref, while second volume in pair will be stored raw_new\n",
    "    def prepare(self, request):\n",
    "        # obtain volume coordinates from tracks                \n",
    "        deps = gp.BatchRequest()\n",
    "        vol1,vol2 = self.sampler(request)\n",
    "                \n",
    "        deps[self.raw] = gp.ArraySpec(roi=gp.Roi(vol1,request[self.raw].roi.get_shape()))\n",
    "        deps[self.raw_shift] = gp.ArraySpec(roi=gp.Roi(vol2,request[self.raw_shift].roi.get_shape()))\n",
    "\n",
    "        return deps\n",
    "    \n",
    "    # required to inform downstream nodes about new array \n",
    "    def process(self, batch, request):\n",
    "        # create a new batch to hold the new array\n",
    "        out_batch = gp.Batch()\n",
    "\n",
    "        # create new array and store it in the batch\n",
    "        out_batch[self.raw_shift] = batch[self.raw_shift]\n",
    "        out_batch[self.raw] = batch[self.raw]\n",
    "        \n",
    "        #print(f'raw: {batch[self.raw].spec.roi}')\n",
    "        #print(batch[self.raw_shift].spec.roi)\n",
    "        \n",
    "        # make sure that coordinates for batch[raw] and batch[raw_shift] are reset to (0,0,0,0,0)\n",
    "        out_batch[self.raw].spec.roi = request[self.raw].roi\n",
    "        out_batch[self.raw_shift].spec.roi = request[self.raw_shift].roi\n",
    "\n",
    "        # return the new batch\n",
    "        return out_batch\n",
    "    \n",
    "    # select pairs of subvolumes from data\n",
    "    def sampler(self,request):\n",
    "        tracks = self.tracks\n",
    "        paired = self.paired\n",
    "        # choose connected nodes\n",
    "        # if self.paired:\n",
    "        if paired:\n",
    "            t0 = tracks[np.random.randint(0,len(tracks),1).item()]\n",
    "            e0 = list(t0.edges)[np.random.randint(len(list(t0.edges)))]\n",
    "            node0 = t0.nodes[e0[0]]\n",
    "            node1 = t0.nodes[e0[1]]\n",
    "            \n",
    "        # choose random unconnected nodes\n",
    "        else:\n",
    "            # randomly choose two tracks and make sure they are not identical\n",
    "            t0,t1 = np.random.randint(0,len(tracks),2)\n",
    "            while t0==t1:\n",
    "                t0,t1 = np.random.randint(0,len(tracks),2)\n",
    "\n",
    "            #print(f'trackids: {t0,t1}')\n",
    "            t0 = tracks[t0]\n",
    "            t1 = tracks[t1]\n",
    "\n",
    "            # choose random edges from each track\n",
    "            #print(f'number edges per track{len(list(t0.nodes)),len(list(t1.nodes))}')\n",
    "\n",
    "            r0 = np.random.randint(0,len(list(t0.nodes))) \n",
    "            r1 = np.random.randint(0,len(list(t1.nodes)))\n",
    "\n",
    "            node0 = t0.nodes[list(t0.nodes)[r0]]\n",
    "            node1 = t1.nodes[list(t1.nodes)[r1]]\n",
    "            \n",
    "\n",
    "\n",
    "        node0_xyt = [node0[\"x\"], node0[\"y\"], node0[\"t\"]]\n",
    "        node1_xyt = [node1[\"x\"], node1[\"y\"], node1[\"t\"]]\n",
    "\n",
    "        #print(f'input coord: {node0_xyt,node1_xyt}')\n",
    "\n",
    "        roi_in = request[self.raw_shift].roi.get_shape()\n",
    "        #t,z,y,x\n",
    "        coords_vol0 = (node0_xyt[2],0,node0_xyt[0]-(roi_in[2]/2),node0_xyt[1]-(roi_in[3]/2))\n",
    "        coords_vol1 = (node1_xyt[2],0,node1_xyt[0]-(roi_in[2]/2),node1_xyt[1]-(roi_in[3]/2))\n",
    "        #print(f'output coords - vol0: {coords_vol0}, vol1:{coords_vol1}')\n",
    "\n",
    "        return coords_vol0, coords_vol1"
   ]
  },
  {
   "cell_type": "markdown",
   "id": "386c149d-41f7-49bc-a874-8e7096df88d5",
   "metadata": {},
   "source": [
    "# gunpowder pipelines"
   ]
  },
  {
   "cell_type": "code",
   "execution_count": 211,
   "id": "f88a724b-a2a8-4b2d-a592-ee72865a3390",
   "metadata": {},
   "outputs": [
    {
     "data": {
      "text/plain": [
       "ROI: None, voxel size: None, interpolatable: None, non-spatial: False, dtype: None, placeholder: False"
      ]
     },
     "execution_count": 211,
     "metadata": {},
     "output_type": "execute_result"
    }
   ],
   "source": [
    "#specify subvolume size and volume source\n",
    "volSize = (1,5,64, 64)\n",
    "coord = (0,0,0,0)\n",
    "batch_size = 8\n",
    "\n",
    "zarrdir = '/mnt/shared/celltracking/data/cho/02.zarr'\n",
    "raw = gp.ArrayKey('raw')\n",
    "raw_shift = gp.ArrayKey('raw_shift')\n",
    "\n",
    "# create \"pipeline\" consisting only of a data source and prepare \n",
    "pipeline_paired = (gp.ZarrSource(\n",
    "    zarrdir,  # the zarr container\n",
    "    {raw_shift: 'raw', raw: 'raw'},  # which dataset to associate to the array key\n",
    "    {raw_shift: gp.ArraySpec(voxel_size=(1,1,1,1), interpolatable=True), raw:gp.ArraySpec(voxel_size=(1,1,1,1), interpolatable=True)}  # meta-information\n",
    "    ) + gp.Pad(raw_shift, None) + gp.Pad(raw, None) + getPaired(raw,raw_shift,tracks,paired=True))\n",
    "\n",
    "pipeline_unpaired = (gp.ZarrSource(\n",
    "    zarrdir,  # the zarr container\n",
    "    {raw_shift: 'raw', raw: 'raw'},  # which dataset to associate to the array key\n",
    "    {raw_shift: gp.ArraySpec(voxel_size=(1,1,1,1), interpolatable=True), raw:gp.ArraySpec(voxel_size=(1,1,1,1), interpolatable=True)}  # meta-information\n",
    "    ) + gp.Pad(raw_shift, None) + gp.Pad(raw, None) + getPaired(raw,raw_shift,tracks,paired=False))\n",
    "\n",
    "\n",
    "\n",
    "# specify request\n",
    "request = gp.BatchRequest()\n",
    "request[raw] = gp.Roi(coord, volSize)\n",
    "request[raw_shift] = gp.Roi(coord, volSize)\n",
    "\n",
    "gp.ArraySpec()\n",
    "#build the pipeline...\n",
    "# with gp.build(pipeline_paired):\n",
    "\n",
    "#   # ...and request a batch\n",
    "#   batch = pipeline_paired.request_batch(request)\n",
    "  \n",
    "# # show the content of the batch\n",
    "# print(f\"batch returned: {batch}\")\n",
    "\n",
    "# # plot first slice of volume\n",
    "# fig, axs = plt.subplots(1,2)\n",
    "# print(batch[raw].data.shape)\n",
    "# axs[0].imshow(np.flipud(batch[raw].data[0,0,0,:,:]))\n",
    "# axs[1].imshow(np.flipud(batch[raw_shift].data[0,0,0,:,:]))"
   ]
  },
  {
   "cell_type": "markdown",
   "id": "bb54174c-1da2-4c2a-8944-6bc6f9903d8a",
   "metadata": {},
   "source": [
    "# Evaluate some data and plot distribution of losses"
   ]
  },
  {
   "cell_type": "code",
   "execution_count": null,
   "id": "d77aadb4-7748-49d9-bc25-4aa8d7e4e287",
   "metadata": {},
   "outputs": [],
   "source": [
    "def evalNet():\n",
    "    reps = 500\n",
    "    ids = []\n",
    "    preds = []\n",
    "    with gp.build(pipeline_paired), gp.build(pipeline_unpaired):\n",
    "        for x in range(0,reps):\n",
    "            if x%2==0:\n",
    "                #print(f'batch:{x}, paired')\n",
    "                batch = pipeline_paired.request_batch(request)  \n",
    "                y = torch.from_numpy(np.array([1])).to(device).float()\n",
    "                ids.append(1)\n",
    "            else:\n",
    "                #print(f'batch:{x}, unpaired')\n",
    "                batch = pipeline_unpaired.request_batch(request)  \n",
    "                y = torch.from_numpy(np.array([-1])).to(device).float()\n",
    "                ids.append(0)\n",
    "\n",
    "            vol0 = batch[raw].data\n",
    "            vol0 = np.reshape(vol0, (1,64, 64, 5))\n",
    "            vol0 = np.expand_dims(vol0, axis =0)\n",
    "\n",
    "            \n",
    "            vol1 = batch[raw_shift].data\n",
    "            vol1 = np.reshape(vol1, (1,64, 64, 5))\n",
    "            vol1 = np.expand_dims(vol1, axis =0)\n",
    "    \n",
    "            vol0 = torch.from_numpy(vol0).to(device).float()\n",
    "            vol1 = torch.from_numpy(vol1).to(device).float()\n",
    "\n",
    "            pred1 = model(vol1)\n",
    "            pred0 = model(vol0)\n",
    "            \n",
    "            loss_contrastive = loss_function(pred0,pred1,y)\n",
    "            tmp = np.float32(loss_contrastive.detach().cpu())\n",
    "            preds.append(tmp)\n",
    "            \n",
    "            if x%10==0:\n",
    "                print(f'batch: {x}')\n",
    "\n",
    "    print(len(preds))\n",
    "    return ids,np.float32(preds)\n",
    "\n",
    "model.eval()\n",
    "torch.no_grad()\n",
    "ids,preds = evalNet()"
   ]
  },
  {
   "cell_type": "markdown",
   "id": "0f46aff7-e1af-47e5-8805-c827e3dc70d0",
   "metadata": {},
   "source": [
    "# Losses on unseen data for training without augmentation"
   ]
  },
  {
   "cell_type": "code",
   "execution_count": 230,
   "id": "9a4bc495-55ef-4868-ae4b-50c8123c938d",
   "metadata": {},
   "outputs": [
    {
     "name": "stdout",
     "output_type": "stream",
     "text": [
      "mean loss paired (no augmentation): 0.02035249024629593\n",
      "mean loss unpaired (no augmentation): 0.8552005887031555\n"
     ]
    },
    {
     "data": {
      "image/png": "[encoded data removed]",
      "text/plain": [
       "<Figure size 432x288 with 1 Axes>"
      ]
     },
     "metadata": {
      "needs_background": "light"
     },
     "output_type": "display_data"
    }
   ],
   "source": [
    "#print(ids)\n",
    "#print(preds)\n",
    "loss_paired_modelKlaus = preds[[i for i, x in enumerate(ids) if x==1]]\n",
    "loss_unpaired_modelKlaus = preds[[i for i, x in enumerate(ids) if x==0]]\n",
    "print(f'mean loss paired (no augmentation): {np.mean(loss_paired_modelKlaus)}')\n",
    "print(f'mean loss unpaired (no augmentation): {np.mean(loss_unpaired_modelKlaus)}')\n",
    "\n",
    "\n",
    "plt.hist(loss_paired_modelKlaus, bins=20, range=[0,1], density=True, facecolor='g', alpha=0.75, label='paired')\n",
    "plt.hist(loss_unpaired_modelKlaus, bins=20, range=[0,1], density=True, facecolor='r', alpha=0.75, label='unpaired')\n",
    "plt.xlabel('loss')\n",
    "plt.ylabel('frequency')\n",
    "plt.legend()\n",
    "plt.show()\n"
   ]
  },
  {
   "cell_type": "markdown",
   "id": "23f43337-ae8e-42ad-8764-b11f0052aa12",
   "metadata": {},
   "source": [
    "# Losses on unseen data for training with augmentation"
   ]
  },
  {
   "cell_type": "code",
   "execution_count": 231,
   "id": "7a4dfc29-4d1c-4af4-8ce9-04b07d68247c",
   "metadata": {},
   "outputs": [
    {
     "name": "stdout",
     "output_type": "stream",
     "text": [
      "mean loss paired (no augmentation): 0.02035249024629593\n",
      "mean loss unpaired (no augmentation): 0.8552005887031555\n"
     ]
    },
    {
     "data": {
      "image/png": "[encoded data removed]",
      "text/plain": [
       "<Figure size 432x288 with 1 Axes>"
      ]
     },
     "metadata": {
      "needs_background": "light"
     },
     "output_type": "display_data"
    }
   ],
   "source": [
    "#print(ids)\n",
    "#print(preds)\n",
    "loss_paired_modelAaron = preds[[i for i, x in enumerate(ids) if x==1]]\n",
    "loss_unpaired_modelAaron = preds[[i for i, x in enumerate(ids) if x==0]]\n",
    "print(f'mean loss paired (no augmentation): {np.mean(loss_paired_modelAaron)}')\n",
    "print(f'mean loss unpaired (no augmentation): {np.mean(loss_unpaired_modelAaron)}')\n",
    "\n",
    "\n",
    "plt.hist(loss_paired_modelAaron, bins=20, range=[0,1], density=True, facecolor='g', alpha=0.75, label='paired')\n",
    "plt.hist(loss_unpaired_modelAaron, bins=20, range=[0,1], density=True, facecolor='r', alpha=0.75, label='unpaired')\n",
    "plt.legend()\n",
    "plt.xlabel('loss')\n",
    "plt.ylabel('frequency')\n",
    "\n",
    "plt.show()"
   ]
  },
  {
   "cell_type": "markdown",
   "id": "6d46a5f7-baba-4ae5-bf8e-36acd4aad0da",
   "metadata": {},
   "source": [
    "# Evaluate predictions at division points\n",
    "* Compre parent in frame t with childs at next t\n",
    "* 1) Identify all division events (read from \n",
    "* 2) Extract all pairs"
   ]
  },
  {
   "cell_type": "code",
   "execution_count": 341,
   "id": "07364cfd-eadc-4301-aae4-708e91f87ba5",
   "metadata": {},
   "outputs": [
    {
     "name": "stdout",
     "output_type": "stream",
     "text": [
      "((1, 22), (2, 26))\n",
      "((1, 22), (3, 26))\n",
      "((1, 22), (2, 26))\n",
      "((1, 22), (3, 26))\n",
      "((1, 22), (2, 26))\n",
      "((1, 22), (3, 26))\n",
      "((1, 22), (2, 26))\n",
      "((1, 22), (3, 26))\n",
      "((1, 22), (2, 26))\n",
      "((1, 22), (3, 26))\n",
      "((1, 22), (2, 26))\n",
      "((1, 22), (3, 26))\n",
      "((1, 22), (2, 26))\n",
      "((1, 22), (3, 26))\n",
      "((1, 22), (2, 26))\n",
      "((1, 22), (3, 26))\n",
      "((1, 22), (2, 26))\n",
      "((1, 22), (3, 26))\n",
      "((1, 22), (2, 26))\n",
      "((1, 22), (3, 26))\n",
      "((1, 22), (2, 26))\n",
      "((1, 22), (3, 26))\n",
      "((1, 22), (2, 26))\n",
      "((1, 22), (3, 26))\n",
      "((1, 22), (2, 26))\n",
      "((1, 22), (3, 26))\n"
     ]
    }
   ],
   "source": [
    "# for child_id, child_from, child_to, child_parent_id in links:\n",
    "#     for parent_id, _, parent_to, _ in links:\n",
    "#         if child_parent_id == parent_id:\n",
    "#             graph.add_edge((parent_id, parent_to), (child_id, child_from))\n",
    "            \n",
    "# edges = graph.edges\n",
    "# for edge in graph.edges():\n",
    "#      print(edge)\n",
    "\n",
    "#for track in tracks:\n",
    "\n",
    "for track in tracks:\n",
    "    for i,edge in enumerate(sorted(tracks[0].edges())):\n",
    "        #print(edge)\n",
    "        if edge[0][0] != edge[1][0]:\n",
    "            graph(\n",
    "            \n",
    "        \n",
    "        #     print(f'split in track {i}')"
   ]
  },
  {
   "cell_type": "markdown",
   "id": "a4c0147a-5e8f-4290-8670-ef94afa0daaf",
   "metadata": {},
   "source": [
    "# Associate with best prediction in frame+1\n",
    "* For each cell, check if cell with lowest loss is on GT track`"
   ]
  },
  {
   "cell_type": "code",
   "execution_count": null,
   "id": "adb72e9b-8e19-4640-ae4c-f321f0a4a890",
   "metadata": {},
   "outputs": [],
   "source": []
  },
  {
   "cell_type": "markdown",
   "id": "679a75a9-aec3-4a56-a47e-1024cce35a76",
   "metadata": {},
   "source": [
    "# Draw tracks with networkx"
   ]
  },
  {
   "cell_type": "code",
   "execution_count": 263,
   "id": "40b17e01-af64-47f7-9a0d-95928188ec2d",
   "metadata": {},
   "outputs": [
    {
     "data": {
      "text/plain": [
       "(-2.0, 2.0, -0.8273896048555001, 1.1483264561383795)"
      ]
     },
     "execution_count": 263,
     "metadata": {},
     "output_type": "execute_result"
    },
    {
     "data": {
      "image/png": "[encoded data removed]",
      "text/plain": [
       "<Figure size 432x288 with 1 Axes>"
      ]
     },
     "metadata": {},
     "output_type": "display_data"
    }
   ],
   "source": [
    "edges = graph.edges\n",
    "\n",
    "options = {\n",
    "    \"font_size\": 10,\n",
    "    \"node_size\": 100,\n",
    "    \"node_color\": \"white\",\n",
    "    \"edgecolors\": \"black\",\n",
    "    \"linewidths\": 5,\n",
    "    \"width\": 5,\n",
    "}\n",
    "networkx.draw(tracks[0], **options)\n",
    "ax = plt.gca()\n",
    "plt.xlim([-2,2])\n",
    "ax.margins(0.20)\n",
    "plt.axis(\"off\")"
   ]
  }
 ],
 "metadata": {
  "kernelspec": {
   "display_name": "Python 3",
   "language": "python",
   "name": "python3"
  },
  "language_info": {
   "codemirror_mode": {
    "name": "ipython",
    "version": 3
   },
   "file_extension": ".py",
   "mimetype": "text/x-python",
   "name": "python",
   "nbconvert_exporter": "python",
   "pygments_lexer": "ipython3",
   "version": "3.9.13"
  }
 },
 "nbformat": 4,
 "nbformat_minor": 5
}
