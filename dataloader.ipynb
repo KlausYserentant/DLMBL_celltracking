{
 "cells": [
  {
   "cell_type": "markdown",
   "id": "654f1c68-c86c-4fa4-852f-6c42b5e81346",
   "metadata": {},
   "source": [
    "### Install packages"
   ]
  },
  {
   "cell_type": "code",
   "execution_count": null,
   "id": "f5a1564f-6a72-4ec6-9e04-cdd5b51dc559",
   "metadata": {},
   "outputs": [],
   "source": [
    "!pip install gunpowder\n",
    "!pip install zarr"
   ]
  },
  {
   "cell_type": "markdown",
   "id": "107cb8a3-0ea6-4df9-ab41-65ca8f9a3a11",
   "metadata": {},
   "source": [
    "### import packages"
   ]
  },
  {
   "cell_type": "code",
   "execution_count": 2,
   "id": "9260b7de-8115-44f5-b066-266cc8944278",
   "metadata": {},
   "outputs": [
    {
     "name": "stderr",
     "output_type": "stream",
     "text": [
      "2022-09-02 13:39:13.030885: I tensorflow/core/util/util.cc:169] oneDNN custom operations are on. You may see slightly different numerical results due to floating-point round-off errors from different computation orders. To turn them off, set the environment variable `TF_ENABLE_ONEDNN_OPTS=0`.\n"
     ]
    }
   ],
   "source": [
    "import gunpowder as gp\n",
    "import os\n",
    "import glob\n",
    "import numpy as np\n",
    "import zarr\n",
    "import tifffile"
   ]
  },
  {
   "cell_type": "code",
   "execution_count": 3,
   "id": "14146f9c-d916-42f1-ba40-e359c44e50fc",
   "metadata": {},
   "outputs": [],
   "source": [
    "### Convert data into zarr format\n",
    "def tif2zarr(baseDir,outDir='',chunkSize=48,owrite=False):\n",
    "    if outDir=='':\n",
    "        outDir = baseDir+\"/zarr/\"\n",
    "    \n",
    "    if not os.path.isdir(outDir) or owrite:\n",
    "        # load all tiff files \n",
    "        img = np.stack([tifffile.imread(xi) for xi in sorted(glob.glob(baseDir+\"/\"+\"*.tif\"))])  # images\n",
    "\n",
    "        # format: [timepoints,zslices,y,z]\n",
    "        imDims = img.shape\n",
    "    \n",
    "        # define chunk size\n",
    "        if isinstance(chunkSize, int):\n",
    "            chunks = np.repeat(chunkSize,len(imDims))\n",
    "        else:\n",
    "            chunks = chunkSize\n",
    "                  \n",
    "        # write img into zarr file       \n",
    "        zFile = zarr.open(outDir, shape=imDims, chunks=chunks, mode=\"w\", dtype='int32')\n",
    "        zFile[:] = img\n",
    "        \n",
    "        return outDir\n",
    "    else:\n",
    "        return 'zarr file already present'"
   ]
  },
  {
   "cell_type": "code",
   "execution_count": 6,
   "id": "dbdf986b-483e-439c-8141-d32b3616ac50",
   "metadata": {},
   "outputs": [
    {
     "name": "stdout",
     "output_type": "stream",
     "text": [
      "zarr data directory:/mnt/shared/celltracking/data/cho/01/zarr/\n"
     ]
    }
   ],
   "source": [
    "dataDir = \"/mnt/shared/celltracking/data/cho/01\"\n",
    "test = tif2zarr(dataDir,owrite=True)\n",
    "print(f'zarr data directory:{test}')"
   ]
  },
  {
   "cell_type": "markdown",
   "id": "c17442d5-71e9-46a1-a99b-92fa41b7a2f5",
   "metadata": {},
   "source": [
    "### Import data with gunpowder"
   ]
  },
  {
   "cell_type": "code",
   "execution_count": 7,
   "id": "d09c83ec-09fa-4d1b-8faa-591d3674e0f3",
   "metadata": {},
   "outputs": [
    {
     "ename": "NameError",
     "evalue": "name 'datasets' is not defined",
     "output_type": "error",
     "traceback": [
      "\u001b[0;31m---------------------------------------------------------------------------\u001b[0m",
      "\u001b[0;31mNameError\u001b[0m                                 Traceback (most recent call last)",
      "Input \u001b[0;32mIn [7]\u001b[0m, in \u001b[0;36m<cell line: 4>\u001b[0;34m()\u001b[0m\n\u001b[1;32m      1\u001b[0m \u001b[38;5;66;03m# read data from zarr file\u001b[39;00m\n\u001b[1;32m      2\u001b[0m \u001b[38;5;66;03m#imgs = zarr.open('data/example.zarr', mode='r')\u001b[39;00m\n\u001b[1;32m      3\u001b[0m \u001b[38;5;66;03m#raw = gp.ArrayKey('RAW')\u001b[39;00m\n\u001b[0;32m----> 4\u001b[0m raw \u001b[38;5;241m=\u001b[39m gp\u001b[38;5;241m.\u001b[39mZarrSource(\u001b[38;5;124m'\u001b[39m\u001b[38;5;124m/mnt/shared/celltracking/data/cho/01/zarr\u001b[39m\u001b[38;5;124m'\u001b[39m, \u001b[43mdatasets\u001b[49m, array_specs\u001b[38;5;241m=\u001b[39m\u001b[38;5;28;01mNone\u001b[39;00m, channels_first\u001b[38;5;241m=\u001b[39m\u001b[38;5;28;01mTrue\u001b[39;00m)\n",
      "\u001b[0;31mNameError\u001b[0m: name 'datasets' is not defined"
     ]
    }
   ],
   "source": [
    "# read data from zarr file\n",
    "#imgs = zarr.open('data/example.zarr', mode='r')\n",
    "#raw = gp.ArrayKey('RAW')\n",
    "raw = gp.ZarrSource('/mnt/shared/celltracking/data/cho/01/zarr', datasets, array_specs=None, channels_first=True)"
   ]
  },
  {
   "cell_type": "markdown",
   "id": "5e2162b9",
   "metadata": {},
   "source": [
    "### Create list of cell pairs"
   ]
  },
  {
   "cell_type": "code",
   "execution_count": null,
   "id": "df2ca6c3",
   "metadata": {},
   "outputs": [],
   "source": [
    "## Function to extract trajectories from data\n",
    "\n",
    "# Input: image stack \n",
    "\n",
    "# options\n",
    "#\tpaired=True\n",
    "#\t\n",
    "\n",
    "# Function to generate random pairs of cells from t and t+1\n",
    "\n",
    "# "
   ]
  },
  {
   "cell_type": "markdown",
   "id": "32c28e07",
   "metadata": {},
   "source": [
    "### Load volumes with gunpowder"
   ]
  },
  {
   "cell_type": "code",
   "execution_count": null,
   "id": "26c4c518",
   "metadata": {},
   "outputs": [],
   "source": []
  }
 ],
 "metadata": {
  "kernelspec": {
   "display_name": "Python 3 (ipykernel)",
   "language": "python",
   "name": "python3"
  },
  "language_info": {
   "codemirror_mode": {
    "name": "ipython",
    "version": 3
   },
   "file_extension": ".py",
   "mimetype": "text/x-python",
   "name": "python",
   "nbconvert_exporter": "python",
   "pygments_lexer": "ipython3",
   "version": "3.10.4"
  }
 },
 "nbformat": 4,
 "nbformat_minor": 5
}
