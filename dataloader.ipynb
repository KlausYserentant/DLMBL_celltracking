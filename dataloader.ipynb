{
 "cells": [
  {
   "cell_type": "markdown",
   "id": "654f1c68-c86c-4fa4-852f-6c42b5e81346",
   "metadata": {},
   "source": [
    "### Install packages"
   ]
  },
  {
   "cell_type": "code",
   "execution_count": 7,
   "id": "f5a1564f-6a72-4ec6-9e04-cdd5b51dc559",
   "metadata": {},
   "outputs": [
    {
     "name": "stdout",
     "output_type": "stream",
     "text": [
      "Requirement already satisfied: gunpowder in /home/yserentantk/miniconda3/envs/exercise08_v2/lib/python3.9/site-packages (1.2.2)\n",
      "Requirement already satisfied: scikit-image in /home/yserentantk/miniconda3/envs/exercise08_v2/lib/python3.9/site-packages (from gunpowder) (0.19.3)\n",
      "Requirement already satisfied: requests in /home/yserentantk/miniconda3/envs/exercise08_v2/lib/python3.9/site-packages (from gunpowder) (2.28.1)\n",
      "Requirement already satisfied: tqdm in /home/yserentantk/miniconda3/envs/exercise08_v2/lib/python3.9/site-packages (from gunpowder) (4.64.0)\n",
      "Requirement already satisfied: h5py in /home/yserentantk/miniconda3/envs/exercise08_v2/lib/python3.9/site-packages (from gunpowder) (3.7.0)\n",
      "Requirement already satisfied: augment-nd in /home/yserentantk/miniconda3/envs/exercise08_v2/lib/python3.9/site-packages (from gunpowder) (0.1.2)\n",
      "Requirement already satisfied: numpy in /home/yserentantk/miniconda3/envs/exercise08_v2/lib/python3.9/site-packages (from gunpowder) (1.22.4)\n",
      "Requirement already satisfied: scipy in /home/yserentantk/miniconda3/envs/exercise08_v2/lib/python3.9/site-packages (from gunpowder) (1.9.0)\n",
      "Requirement already satisfied: urllib3<1.27,>=1.21.1 in /home/yserentantk/miniconda3/envs/exercise08_v2/lib/python3.9/site-packages (from requests->gunpowder) (1.26.11)\n",
      "Requirement already satisfied: idna<4,>=2.5 in /home/yserentantk/miniconda3/envs/exercise08_v2/lib/python3.9/site-packages (from requests->gunpowder) (3.3)\n",
      "Requirement already satisfied: certifi>=2017.4.17 in /home/yserentantk/miniconda3/envs/exercise08_v2/lib/python3.9/site-packages (from requests->gunpowder) (2022.6.15)\n",
      "Requirement already satisfied: charset-normalizer<3,>=2 in /home/yserentantk/miniconda3/envs/exercise08_v2/lib/python3.9/site-packages (from requests->gunpowder) (2.1.1)\n",
      "Requirement already satisfied: networkx>=2.2 in /home/yserentantk/miniconda3/envs/exercise08_v2/lib/python3.9/site-packages (from scikit-image->gunpowder) (2.8.6)\n",
      "Requirement already satisfied: PyWavelets>=1.1.1 in /home/yserentantk/miniconda3/envs/exercise08_v2/lib/python3.9/site-packages (from scikit-image->gunpowder) (1.3.0)\n",
      "Requirement already satisfied: imageio>=2.4.1 in /home/yserentantk/miniconda3/envs/exercise08_v2/lib/python3.9/site-packages (from scikit-image->gunpowder) (2.21.1)\n",
      "Requirement already satisfied: tifffile>=2019.7.26 in /home/yserentantk/miniconda3/envs/exercise08_v2/lib/python3.9/site-packages (from scikit-image->gunpowder) (2022.8.12)\n",
      "Requirement already satisfied: packaging>=20.0 in /home/yserentantk/miniconda3/envs/exercise08_v2/lib/python3.9/site-packages (from scikit-image->gunpowder) (21.3)\n",
      "Requirement already satisfied: pillow!=7.1.0,!=7.1.1,!=8.3.0,>=6.1.0 in /home/yserentantk/miniconda3/envs/exercise08_v2/lib/python3.9/site-packages (from scikit-image->gunpowder) (9.2.0)\n",
      "Requirement already satisfied: pyparsing!=3.0.5,>=2.0.2 in /home/yserentantk/miniconda3/envs/exercise08_v2/lib/python3.9/site-packages (from packaging>=20.0->scikit-image->gunpowder) (3.0.9)\n",
      "Requirement already satisfied: zarr in /home/yserentantk/miniconda3/envs/exercise08_v2/lib/python3.9/site-packages (2.12.0)\n",
      "Requirement already satisfied: fasteners in /home/yserentantk/miniconda3/envs/exercise08_v2/lib/python3.9/site-packages (from zarr) (0.17.3)\n",
      "Requirement already satisfied: numcodecs>=0.6.4 in /home/yserentantk/miniconda3/envs/exercise08_v2/lib/python3.9/site-packages (from zarr) (0.10.2)\n",
      "Requirement already satisfied: numpy>=1.7 in /home/yserentantk/miniconda3/envs/exercise08_v2/lib/python3.9/site-packages (from zarr) (1.22.4)\n",
      "Requirement already satisfied: asciitree in /home/yserentantk/miniconda3/envs/exercise08_v2/lib/python3.9/site-packages (from zarr) (0.3.3)\n",
      "Requirement already satisfied: entrypoints in /home/yserentantk/miniconda3/envs/exercise08_v2/lib/python3.9/site-packages (from numcodecs>=0.6.4->zarr) (0.4)\n",
      "Requirement already satisfied: typing-extensions>=3.7.4 in /home/yserentantk/miniconda3/envs/exercise08_v2/lib/python3.9/site-packages (from numcodecs>=0.6.4->zarr) (4.3.0)\n"
     ]
    }
   ],
   "source": [
    "!pip install gunpowder\n",
    "!pip install zarr"
   ]
  },
  {
   "cell_type": "markdown",
   "id": "107cb8a3-0ea6-4df9-ab41-65ca8f9a3a11",
   "metadata": {},
   "source": [
    "### import packages"
   ]
  },
  {
   "cell_type": "code",
   "execution_count": 79,
   "id": "9260b7de-8115-44f5-b066-266cc8944278",
   "metadata": {},
   "outputs": [],
   "source": [
    "import gunpowder as gp\n",
    "import os\n",
    "import glob\n",
    "import numpy as np\n",
    "import zarr\n",
    "import tifffile"
   ]
  },
  {
   "cell_type": "code",
   "execution_count": 125,
   "id": "14146f9c-d916-42f1-ba40-e359c44e50fc",
   "metadata": {},
   "outputs": [],
   "source": [
    "### Convert data into zarr format\n",
    "def tif2zarr(baseDir,outDir='',chunkSize=48,owrite=False):\n",
    "    if outDir=='':\n",
    "        outDir = baseDir+\"/zarr/\"\n",
    "    \n",
    "    if not os.path.isdir(outDir) or owrite:\n",
    "        # load all tiff files \n",
    "        img = np.stack([tifffile.imread(xi) for xi in sorted(glob.glob(baseDir+\"/\"+\"*.tif\"))])  # images\n",
    "\n",
    "        # format: [timepoints,zslices,y,z]\n",
    "        imDims = img.shape\n",
    "    \n",
    "        # define chunk size\n",
    "        if isinstance(chunkSize, int):\n",
    "            chunks = np.repeat(chunkSize,len(imDims))\n",
    "        else:\n",
    "            chunks = chunkSize\n",
    "                  \n",
    "        # write img into zarr file       \n",
    "        zFile = zarr.open(outDir, shape=imDims, chunks=chunks, mode=\"w\", dtype='int32')\n",
    "        zFile[:] = img\n",
    "    \n",
    "        return outDir\n",
    "    else:\n",
    "        return 'zarr file already present'"
   ]
  },
  {
   "cell_type": "code",
   "execution_count": 126,
   "id": "dbdf986b-483e-439c-8141-d32b3616ac50",
   "metadata": {},
   "outputs": [
    {
     "name": "stdout",
     "output_type": "stream",
     "text": [
      "/mnt/shared/celltracking/data/cho/01/zarr/\n"
     ]
    }
   ],
   "source": [
    "dataDir = \"/mnt/shared/celltracking/data/cho/01\"\n",
    "test = tif2zarr(dataDir,owrite=True)\n",
    "print(test)"
   ]
  },
  {
   "cell_type": "markdown",
   "id": "c17442d5-71e9-46a1-a99b-92fa41b7a2f5",
   "metadata": {},
   "source": [
    "### Import data with gunpowder"
   ]
  },
  {
   "cell_type": "code",
   "execution_count": 130,
   "id": "d09c83ec-09fa-4d1b-8faa-591d3674e0f3",
   "metadata": {},
   "outputs": [],
   "source": [
    "# read data from zarr file\n",
    "#imgs = zarr.open('data/example.zarr', mode='r')\n",
    "#raw = gp.ArrayKey('RAW')\n",
    "#raw = gp.ZarrSource('/mnt/shared/celltracking/data/cho/01/zarr', datasets, array_specs=None, channels_first=True)"
   ]
  }
 ],
 "metadata": {
  "kernelspec": {
   "display_name": "Python 3 (ipykernel)",
   "language": "python",
   "name": "python3"
  },
  "language_info": {
   "codemirror_mode": {
    "name": "ipython",
    "version": 3
   },
   "file_extension": ".py",
   "mimetype": "text/x-python",
   "name": "python",
   "nbconvert_exporter": "python",
   "pygments_lexer": "ipython3",
   "version": "3.9.12"
  }
 },
 "nbformat": 4,
 "nbformat_minor": 5
}
